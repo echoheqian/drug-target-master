{
  "nbformat": 4,
  "nbformat_minor": 0,
  "metadata": {
    "colab": {
      "provenance": [],
      "authorship_tag": "ABX9TyNVScWv6mtL7O82PN1dnr9J",
      "include_colab_link": true
    },
    "kernelspec": {
      "name": "python3",
      "display_name": "Python 3"
    },
    "language_info": {
      "name": "python"
    }
  },
  "cells": [
    {
      "cell_type": "markdown",
      "metadata": {
        "id": "view-in-github",
        "colab_type": "text"
      },
      "source": [
        "<a href=\"https://colab.research.google.com/github/echoheqian/drug-target-master/blob/main/0601_1.ipynb\" target=\"_parent\"><img src=\"https://colab.research.google.com/assets/colab-badge.svg\" alt=\"Open In Colab\"/></a>"
      ]
    },
    {
      "cell_type": "code",
      "execution_count": 37,
      "metadata": {
        "id": "XStBCZEBFuGS"
      },
      "outputs": [],
      "source": [
        "# Import necessary libraries\n",
        "import pandas as pd\n",
        "import numpy as np\n",
        "from sklearn.model_selection import train_test_split\n",
        "from sklearn.linear_model import LogisticRegression\n",
        "from sklearn.metrics import accuracy_score\n",
        "from sklearn.metrics import roc_curve, roc_auc_score, auc\n",
        "import statsmodels.api as sm\n",
        "import statsmodels.formula.api as smf\n",
        "from scipy import stats\n",
        "from imblearn.over_sampling import SMOTE\n",
        "from feature_selector import FeatureSelector\n",
        "\n",
        "from sklearn.ensemble import RandomForestClassifier\n",
        "from sklearn.model_selection import cross_val_score, KFold\n",
        "\n",
        "import matplotlib.pyplot as plt"
      ]
    },
    {
      "cell_type": "code",
      "source": [
        "!git clone https://github.com/WillKoehrsen/feature-selector.git"
      ],
      "metadata": {
        "colab": {
          "base_uri": "https://localhost:8080/"
        },
        "id": "Wz1DWT5HGgT8",
        "outputId": "c3d3cd70-4627-41f8-f5fe-d06c79a54ae9"
      },
      "execution_count": 3,
      "outputs": [
        {
          "output_type": "stream",
          "name": "stdout",
          "text": [
            "Cloning into 'feature-selector'...\n",
            "remote: Enumerating objects: 144, done.\u001b[K\n",
            "remote: Counting objects: 100% (47/47), done.\u001b[K\n",
            "remote: Compressing objects: 100% (20/20), done.\u001b[K\n",
            "remote: Total 144 (delta 35), reused 27 (delta 27), pack-reused 97\u001b[K\n",
            "Receiving objects: 100% (144/144), 5.07 MiB | 19.59 MiB/s, done.\n",
            "Resolving deltas: 100% (54/54), done.\n"
          ]
        }
      ]
    },
    {
      "cell_type": "code",
      "source": [
        "%cd feature-selector"
      ],
      "metadata": {
        "colab": {
          "base_uri": "https://localhost:8080/"
        },
        "id": "ahN4ETqzHUHA",
        "outputId": "9da6b81f-42e9-413b-8efb-6589c60127c1"
      },
      "execution_count": 4,
      "outputs": [
        {
          "output_type": "stream",
          "name": "stdout",
          "text": [
            "/content/feature-selector\n"
          ]
        }
      ]
    },
    {
      "cell_type": "code",
      "source": [
        "data_use = pd.read_csv(\"pheno.prs.0520.csv\",low_memory=False)"
      ],
      "metadata": {
        "id": "6Q3JK2t4F7oq"
      },
      "execution_count": 38,
      "outputs": []
    },
    {
      "cell_type": "code",
      "source": [
        "# Split the data into training and testing sets\n",
        "X = data_use.drop(columns = ['mi','cvd_binary'])\n",
        "y = data_use[\"mi\"].astype('category')\n",
        "X_train, X_test, y_train, y_test = train_test_split(X, y, test_size=0.2, random_state=42)\n",
        "X_train, X_val, y_train, y_val = train_test_split(X_train, y_train, test_size=0.25, random_state=42)"
      ],
      "metadata": {
        "id": "qilA62twF91Y"
      },
      "execution_count": 39,
      "outputs": []
    },
    {
      "cell_type": "code",
      "source": [
        "X"
      ],
      "metadata": {
        "id": "UD2FnZCmq0dJ"
      },
      "execution_count": null,
      "outputs": []
    },
    {
      "cell_type": "code",
      "source": [
        "fs = FeatureSelector(data=X_train, labels=y_train)\n",
        "fs.identify_missing(missing_threshold=0.6)\n",
        "fs.identify_zero_importance(task='classification', eval_metric='auc', n_iterations=10, early_stopping=True)\n",
        "fs.identify_low_importance(cumulative_importance = 0.99)\n",
        "fs.identify_collinear(correlation_threshold=0.8)\n",
        "selected_features = fs.check_removal()\n",
        "print('Selected features:', selected_features)"
      ],
      "metadata": {
        "id": "VDkTupc_GCIj"
      },
      "execution_count": null,
      "outputs": []
    },
    {
      "cell_type": "code",
      "source": [
        "selected_features"
      ],
      "metadata": {
        "id": "2dZlmitHwk8x"
      },
      "execution_count": null,
      "outputs": []
    },
    {
      "cell_type": "code",
      "source": [
        "selected_features.remove('fat_down_True')\n",
        "selected_features.remove('fat_down_False')\n",
        "selected_features.append('fat_down')\n",
        "selected_features"
      ],
      "metadata": {
        "id": "zQPbSUh6GD6y"
      },
      "execution_count": null,
      "outputs": []
    },
    {
      "cell_type": "code",
      "source": [
        "X_train_selected = X_train[selected_features]\n",
        "X_val_selected = X_val[selected_features]\n",
        "X_test_selected = X_test[selected_features]"
      ],
      "metadata": {
        "id": "IurnBxLlGFrI"
      },
      "execution_count": 43,
      "outputs": []
    },
    {
      "cell_type": "code",
      "source": [
        "#X_train_selected['mi'] = y_train\n",
        "#X_val_selected['mi'] = y_val\n",
        "#X_test_selected['mi'] = y_test\n",
        "#X_train_selected.to_csv('X_train_selected.csv', sep=\"\\t\", index = False)\n",
        "#X_val_selected.to_csv('X_val_selected.csv', sep=\"\\t\", index = False)\n",
        "#X_test_selected.to_csv('X_test_selected.csv', sep=\"\\t\", index = False)"
      ],
      "metadata": {
        "id": "s2bqdpt2I0h1"
      },
      "execution_count": null,
      "outputs": []
    },
    {
      "cell_type": "code",
      "source": [
        "X_train_selected.head()"
      ],
      "metadata": {
        "colab": {
          "base_uri": "https://localhost:8080/",
          "height": 300
        },
        "id": "jcZWmWV7Kpfm",
        "outputId": "aa4c1faa-3c9c-405b-91a7-16c75869ccc4"
      },
      "execution_count": 44,
      "outputs": [
        {
          "output_type": "execute_result",
          "data": {
            "text/plain": [
              "      NOCNCEIV  SMINWK  BRTHSTLN  MAINJOB  STOMULCR  baseline_mufa  FFWKEXP  \\\n",
              "920        0.0     0.0       0.0      2.0       0.0       33.83675      0.0   \n",
              "1355       0.0     0.0       0.0      1.0       0.0       25.91153      0.0   \n",
              "5123       0.0     0.0       0.0      2.0       0.0       19.94214      0.0   \n",
              "1279       0.0     0.0       0.0      3.0       0.0       30.30838      0.0   \n",
              "1734       1.0     0.0       0.0      3.0       0.0       50.02397      0.0   \n",
              "\n",
              "      LEPITOT  OTHWRK  CANCMREL  ...  XLMSEPI  DVT  non_cvd_death  DIALYSIS  \\\n",
              "920       4.0     0.0       0.0  ...      0.0  0.0              0       0.0   \n",
              "1355      0.0     0.0       0.0  ...      0.0  0.0              1       0.0   \n",
              "5123      0.0     1.0       0.0  ...      0.0  0.0              0       0.0   \n",
              "1279      4.5     0.0       0.0  ...      2.0  0.0              0       0.0   \n",
              "1734      1.0     0.0       NaN  ...      0.0  0.0              0       0.0   \n",
              "\n",
              "      LIVERCA  COLON_F2  OTHCHRON  VFWKEXP  MENSREG  fat_down  \n",
              "920       0.0       0.0       0.0      0.0      2.0      True  \n",
              "1355      0.0       0.0       NaN      0.0      1.0     False  \n",
              "5123      0.0       0.0       0.0      0.0      1.0      True  \n",
              "1279      0.0       0.0       0.0      0.0      1.0      True  \n",
              "1734      0.0       0.0       NaN      0.0      1.0      True  \n",
              "\n",
              "[5 rows x 131 columns]"
            ],
            "text/html": [
              "\n",
              "  <div id=\"df-378ab1fc-7c45-4095-95f3-dc6494a56b8e\">\n",
              "    <div class=\"colab-df-container\">\n",
              "      <div>\n",
              "<style scoped>\n",
              "    .dataframe tbody tr th:only-of-type {\n",
              "        vertical-align: middle;\n",
              "    }\n",
              "\n",
              "    .dataframe tbody tr th {\n",
              "        vertical-align: top;\n",
              "    }\n",
              "\n",
              "    .dataframe thead th {\n",
              "        text-align: right;\n",
              "    }\n",
              "</style>\n",
              "<table border=\"1\" class=\"dataframe\">\n",
              "  <thead>\n",
              "    <tr style=\"text-align: right;\">\n",
              "      <th></th>\n",
              "      <th>NOCNCEIV</th>\n",
              "      <th>SMINWK</th>\n",
              "      <th>BRTHSTLN</th>\n",
              "      <th>MAINJOB</th>\n",
              "      <th>STOMULCR</th>\n",
              "      <th>baseline_mufa</th>\n",
              "      <th>FFWKEXP</th>\n",
              "      <th>LEPITOT</th>\n",
              "      <th>OTHWRK</th>\n",
              "      <th>CANCMREL</th>\n",
              "      <th>...</th>\n",
              "      <th>XLMSEPI</th>\n",
              "      <th>DVT</th>\n",
              "      <th>non_cvd_death</th>\n",
              "      <th>DIALYSIS</th>\n",
              "      <th>LIVERCA</th>\n",
              "      <th>COLON_F2</th>\n",
              "      <th>OTHCHRON</th>\n",
              "      <th>VFWKEXP</th>\n",
              "      <th>MENSREG</th>\n",
              "      <th>fat_down</th>\n",
              "    </tr>\n",
              "  </thead>\n",
              "  <tbody>\n",
              "    <tr>\n",
              "      <th>920</th>\n",
              "      <td>0.0</td>\n",
              "      <td>0.0</td>\n",
              "      <td>0.0</td>\n",
              "      <td>2.0</td>\n",
              "      <td>0.0</td>\n",
              "      <td>33.83675</td>\n",
              "      <td>0.0</td>\n",
              "      <td>4.0</td>\n",
              "      <td>0.0</td>\n",
              "      <td>0.0</td>\n",
              "      <td>...</td>\n",
              "      <td>0.0</td>\n",
              "      <td>0.0</td>\n",
              "      <td>0</td>\n",
              "      <td>0.0</td>\n",
              "      <td>0.0</td>\n",
              "      <td>0.0</td>\n",
              "      <td>0.0</td>\n",
              "      <td>0.0</td>\n",
              "      <td>2.0</td>\n",
              "      <td>True</td>\n",
              "    </tr>\n",
              "    <tr>\n",
              "      <th>1355</th>\n",
              "      <td>0.0</td>\n",
              "      <td>0.0</td>\n",
              "      <td>0.0</td>\n",
              "      <td>1.0</td>\n",
              "      <td>0.0</td>\n",
              "      <td>25.91153</td>\n",
              "      <td>0.0</td>\n",
              "      <td>0.0</td>\n",
              "      <td>0.0</td>\n",
              "      <td>0.0</td>\n",
              "      <td>...</td>\n",
              "      <td>0.0</td>\n",
              "      <td>0.0</td>\n",
              "      <td>1</td>\n",
              "      <td>0.0</td>\n",
              "      <td>0.0</td>\n",
              "      <td>0.0</td>\n",
              "      <td>NaN</td>\n",
              "      <td>0.0</td>\n",
              "      <td>1.0</td>\n",
              "      <td>False</td>\n",
              "    </tr>\n",
              "    <tr>\n",
              "      <th>5123</th>\n",
              "      <td>0.0</td>\n",
              "      <td>0.0</td>\n",
              "      <td>0.0</td>\n",
              "      <td>2.0</td>\n",
              "      <td>0.0</td>\n",
              "      <td>19.94214</td>\n",
              "      <td>0.0</td>\n",
              "      <td>0.0</td>\n",
              "      <td>1.0</td>\n",
              "      <td>0.0</td>\n",
              "      <td>...</td>\n",
              "      <td>0.0</td>\n",
              "      <td>0.0</td>\n",
              "      <td>0</td>\n",
              "      <td>0.0</td>\n",
              "      <td>0.0</td>\n",
              "      <td>0.0</td>\n",
              "      <td>0.0</td>\n",
              "      <td>0.0</td>\n",
              "      <td>1.0</td>\n",
              "      <td>True</td>\n",
              "    </tr>\n",
              "    <tr>\n",
              "      <th>1279</th>\n",
              "      <td>0.0</td>\n",
              "      <td>0.0</td>\n",
              "      <td>0.0</td>\n",
              "      <td>3.0</td>\n",
              "      <td>0.0</td>\n",
              "      <td>30.30838</td>\n",
              "      <td>0.0</td>\n",
              "      <td>4.5</td>\n",
              "      <td>0.0</td>\n",
              "      <td>0.0</td>\n",
              "      <td>...</td>\n",
              "      <td>2.0</td>\n",
              "      <td>0.0</td>\n",
              "      <td>0</td>\n",
              "      <td>0.0</td>\n",
              "      <td>0.0</td>\n",
              "      <td>0.0</td>\n",
              "      <td>0.0</td>\n",
              "      <td>0.0</td>\n",
              "      <td>1.0</td>\n",
              "      <td>True</td>\n",
              "    </tr>\n",
              "    <tr>\n",
              "      <th>1734</th>\n",
              "      <td>1.0</td>\n",
              "      <td>0.0</td>\n",
              "      <td>0.0</td>\n",
              "      <td>3.0</td>\n",
              "      <td>0.0</td>\n",
              "      <td>50.02397</td>\n",
              "      <td>0.0</td>\n",
              "      <td>1.0</td>\n",
              "      <td>0.0</td>\n",
              "      <td>NaN</td>\n",
              "      <td>...</td>\n",
              "      <td>0.0</td>\n",
              "      <td>0.0</td>\n",
              "      <td>0</td>\n",
              "      <td>0.0</td>\n",
              "      <td>0.0</td>\n",
              "      <td>0.0</td>\n",
              "      <td>NaN</td>\n",
              "      <td>0.0</td>\n",
              "      <td>1.0</td>\n",
              "      <td>True</td>\n",
              "    </tr>\n",
              "  </tbody>\n",
              "</table>\n",
              "<p>5 rows × 131 columns</p>\n",
              "</div>\n",
              "      <button class=\"colab-df-convert\" onclick=\"convertToInteractive('df-378ab1fc-7c45-4095-95f3-dc6494a56b8e')\"\n",
              "              title=\"Convert this dataframe to an interactive table.\"\n",
              "              style=\"display:none;\">\n",
              "        \n",
              "  <svg xmlns=\"http://www.w3.org/2000/svg\" height=\"24px\"viewBox=\"0 0 24 24\"\n",
              "       width=\"24px\">\n",
              "    <path d=\"M0 0h24v24H0V0z\" fill=\"none\"/>\n",
              "    <path d=\"M18.56 5.44l.94 2.06.94-2.06 2.06-.94-2.06-.94-.94-2.06-.94 2.06-2.06.94zm-11 1L8.5 8.5l.94-2.06 2.06-.94-2.06-.94L8.5 2.5l-.94 2.06-2.06.94zm10 10l.94 2.06.94-2.06 2.06-.94-2.06-.94-.94-2.06-.94 2.06-2.06.94z\"/><path d=\"M17.41 7.96l-1.37-1.37c-.4-.4-.92-.59-1.43-.59-.52 0-1.04.2-1.43.59L10.3 9.45l-7.72 7.72c-.78.78-.78 2.05 0 2.83L4 21.41c.39.39.9.59 1.41.59.51 0 1.02-.2 1.41-.59l7.78-7.78 2.81-2.81c.8-.78.8-2.07 0-2.86zM5.41 20L4 18.59l7.72-7.72 1.47 1.35L5.41 20z\"/>\n",
              "  </svg>\n",
              "      </button>\n",
              "      \n",
              "  <style>\n",
              "    .colab-df-container {\n",
              "      display:flex;\n",
              "      flex-wrap:wrap;\n",
              "      gap: 12px;\n",
              "    }\n",
              "\n",
              "    .colab-df-convert {\n",
              "      background-color: #E8F0FE;\n",
              "      border: none;\n",
              "      border-radius: 50%;\n",
              "      cursor: pointer;\n",
              "      display: none;\n",
              "      fill: #1967D2;\n",
              "      height: 32px;\n",
              "      padding: 0 0 0 0;\n",
              "      width: 32px;\n",
              "    }\n",
              "\n",
              "    .colab-df-convert:hover {\n",
              "      background-color: #E2EBFA;\n",
              "      box-shadow: 0px 1px 2px rgba(60, 64, 67, 0.3), 0px 1px 3px 1px rgba(60, 64, 67, 0.15);\n",
              "      fill: #174EA6;\n",
              "    }\n",
              "\n",
              "    [theme=dark] .colab-df-convert {\n",
              "      background-color: #3B4455;\n",
              "      fill: #D2E3FC;\n",
              "    }\n",
              "\n",
              "    [theme=dark] .colab-df-convert:hover {\n",
              "      background-color: #434B5C;\n",
              "      box-shadow: 0px 1px 3px 1px rgba(0, 0, 0, 0.15);\n",
              "      filter: drop-shadow(0px 1px 2px rgba(0, 0, 0, 0.3));\n",
              "      fill: #FFFFFF;\n",
              "    }\n",
              "  </style>\n",
              "\n",
              "      <script>\n",
              "        const buttonEl =\n",
              "          document.querySelector('#df-378ab1fc-7c45-4095-95f3-dc6494a56b8e button.colab-df-convert');\n",
              "        buttonEl.style.display =\n",
              "          google.colab.kernel.accessAllowed ? 'block' : 'none';\n",
              "\n",
              "        async function convertToInteractive(key) {\n",
              "          const element = document.querySelector('#df-378ab1fc-7c45-4095-95f3-dc6494a56b8e');\n",
              "          const dataTable =\n",
              "            await google.colab.kernel.invokeFunction('convertToInteractive',\n",
              "                                                     [key], {});\n",
              "          if (!dataTable) return;\n",
              "\n",
              "          const docLinkHtml = 'Like what you see? Visit the ' +\n",
              "            '<a target=\"_blank\" href=https://colab.research.google.com/notebooks/data_table.ipynb>data table notebook</a>'\n",
              "            + ' to learn more about interactive tables.';\n",
              "          element.innerHTML = '';\n",
              "          dataTable['output_type'] = 'display_data';\n",
              "          await google.colab.output.renderOutput(dataTable, element);\n",
              "          const docLink = document.createElement('div');\n",
              "          docLink.innerHTML = docLinkHtml;\n",
              "          element.appendChild(docLink);\n",
              "        }\n",
              "      </script>\n",
              "    </div>\n",
              "  </div>\n",
              "  "
            ]
          },
          "metadata": {},
          "execution_count": 44
        }
      ]
    },
    {
      "cell_type": "code",
      "source": [
        "from sklearn.experimental import enable_iterative_imputer\n",
        "from sklearn.impute import IterativeImputer\n",
        "mice_imputer = IterativeImputer(max_iter=10, random_state=42)\n",
        "X_train_selected_imputed = mice_imputer.fit_transform(X_train_selected)\n",
        "X_val_selected_imputed = mice_imputer.transform(X_val_selected)\n",
        "X_test_selected_imputed = mice_imputer.transform(X_test_selected)"
      ],
      "metadata": {
        "colab": {
          "base_uri": "https://localhost:8080/"
        },
        "id": "2yY3DDhLGHfM",
        "outputId": "69322c50-0105-4e77-dd93-2747fecb8817"
      },
      "execution_count": 25,
      "outputs": [
        {
          "output_type": "stream",
          "name": "stderr",
          "text": [
            "/usr/local/lib/python3.10/dist-packages/sklearn/impute/_iterative.py:785: ConvergenceWarning: [IterativeImputer] Early stopping criterion not reached.\n",
            "  warnings.warn(\n"
          ]
        }
      ]
    },
    {
      "cell_type": "code",
      "source": [
        "X_train_selected_imputed = pd.DataFrame(X_train_selected_imputed, columns = selected_features)\n",
        "X_val_selected_imputed = pd.DataFrame(X_val_selected_imputed, columns = selected_features)\n",
        "X_test_selected_imputed = pd.DataFrame(X_test_selected_imputed, columns = selected_features)"
      ],
      "metadata": {
        "id": "ps2Q5XJ_GJn1"
      },
      "execution_count": 26,
      "outputs": []
    },
    {
      "cell_type": "code",
      "source": [
        "X_train_selected_imputed"
      ],
      "metadata": {
        "colab": {
          "base_uri": "https://localhost:8080/",
          "height": 488
        },
        "id": "ld1WwF6dGLYj",
        "outputId": "ee7b66fd-8d5c-4745-d81f-4ed26b7f385a"
      },
      "execution_count": 27,
      "outputs": [
        {
          "output_type": "execute_result",
          "data": {
            "text/plain": [
              "      NOCNCEIV     SMINWK  BRTHSTLN   MAINJOB  STOMULCR  baseline_mufa  \\\n",
              "0          0.0   0.000000   0.00000  2.000000       0.0       33.83675   \n",
              "1          0.0   0.000000   0.00000  1.000000       0.0       25.91153   \n",
              "2          0.0   0.000000   0.00000  2.000000       0.0       19.94214   \n",
              "3          0.0   0.000000   0.00000  3.000000       0.0       30.30838   \n",
              "4          1.0   0.000000   0.00000  3.000000       0.0       50.02397   \n",
              "...        ...        ...       ...       ...       ...            ...   \n",
              "3493       0.0   0.000000   0.00000  2.000000       0.0       42.36874   \n",
              "3494       0.0   0.000000   0.00000  1.000000       0.0       36.03634   \n",
              "3495       1.0   0.000000  -0.05044  1.000000       0.0       19.65302   \n",
              "3496       0.0  21.184211   0.00000  2.249925       0.0       26.20631   \n",
              "3497       0.0   0.000000   0.00000  1.000000       0.0       19.79552   \n",
              "\n",
              "       LEPITOT    OTHWRK  CANCMREL  LIVERDIS  ...  BRAINCA   XLMSEPI  DVT  \\\n",
              "0     4.000000  0.000000  0.000000       0.0  ...      0.0  0.000000  0.0   \n",
              "1     0.000000  0.000000  0.000000       0.0  ...      0.0  0.000000  0.0   \n",
              "2     0.000000  1.000000  0.000000       0.0  ...      0.0  0.000000  0.0   \n",
              "3     4.500000  0.000000  0.000000       0.0  ...      0.0  2.000000  0.0   \n",
              "4     1.000000  0.000000  0.358609       0.0  ...      0.0  0.000000  0.0   \n",
              "...        ...       ...       ...       ...  ...      ...       ...  ...   \n",
              "3493  4.000000  0.000000  1.000000       0.0  ...      0.0  0.000000  0.0   \n",
              "3494  0.000000  0.000000  0.000000       0.0  ...      0.0  0.000000  0.0   \n",
              "3495  0.000000  1.000000  0.000000       0.0  ...      0.0  0.000000  0.0   \n",
              "3496  2.740139  0.050497  1.000000       0.0  ...      0.0  1.452252  0.0   \n",
              "3497  0.000000  0.000000  0.000000       0.0  ...      0.0  0.000000  0.0   \n",
              "\n",
              "      non_cvd_death  DIALYSIS  LIVERCA  COLON_F2   VFWKEXP  MENSREG  fat_down  \n",
              "0               0.0       0.0      0.0       0.0  0.000000      2.0       1.0  \n",
              "1               1.0       0.0      0.0       0.0  0.000000      1.0       0.0  \n",
              "2               0.0       0.0      0.0       0.0  0.000000      1.0       1.0  \n",
              "3               0.0       0.0      0.0       0.0  0.000000      1.0       1.0  \n",
              "4               0.0       0.0      0.0       0.0  0.000000      1.0       1.0  \n",
              "...             ...       ...      ...       ...       ...      ...       ...  \n",
              "3493            0.0       0.0      0.0       0.0  0.000000      1.0       1.0  \n",
              "3494            0.0       0.0      0.0       0.0  0.000000      1.0       1.0  \n",
              "3495            0.0       0.0      0.0       0.0  0.000000      1.0       1.0  \n",
              "3496            0.0       0.0      0.0       0.0  0.023868      1.0       1.0  \n",
              "3497            0.0       0.0      0.0       0.0  0.000000      1.0       0.0  \n",
              "\n",
              "[3498 rows x 126 columns]"
            ],
            "text/html": [
              "\n",
              "  <div id=\"df-ff9547b4-2c89-40d3-b8be-00da5e0faa28\">\n",
              "    <div class=\"colab-df-container\">\n",
              "      <div>\n",
              "<style scoped>\n",
              "    .dataframe tbody tr th:only-of-type {\n",
              "        vertical-align: middle;\n",
              "    }\n",
              "\n",
              "    .dataframe tbody tr th {\n",
              "        vertical-align: top;\n",
              "    }\n",
              "\n",
              "    .dataframe thead th {\n",
              "        text-align: right;\n",
              "    }\n",
              "</style>\n",
              "<table border=\"1\" class=\"dataframe\">\n",
              "  <thead>\n",
              "    <tr style=\"text-align: right;\">\n",
              "      <th></th>\n",
              "      <th>NOCNCEIV</th>\n",
              "      <th>SMINWK</th>\n",
              "      <th>BRTHSTLN</th>\n",
              "      <th>MAINJOB</th>\n",
              "      <th>STOMULCR</th>\n",
              "      <th>baseline_mufa</th>\n",
              "      <th>LEPITOT</th>\n",
              "      <th>OTHWRK</th>\n",
              "      <th>CANCMREL</th>\n",
              "      <th>LIVERDIS</th>\n",
              "      <th>...</th>\n",
              "      <th>BRAINCA</th>\n",
              "      <th>XLMSEPI</th>\n",
              "      <th>DVT</th>\n",
              "      <th>non_cvd_death</th>\n",
              "      <th>DIALYSIS</th>\n",
              "      <th>LIVERCA</th>\n",
              "      <th>COLON_F2</th>\n",
              "      <th>VFWKEXP</th>\n",
              "      <th>MENSREG</th>\n",
              "      <th>fat_down</th>\n",
              "    </tr>\n",
              "  </thead>\n",
              "  <tbody>\n",
              "    <tr>\n",
              "      <th>0</th>\n",
              "      <td>0.0</td>\n",
              "      <td>0.000000</td>\n",
              "      <td>0.00000</td>\n",
              "      <td>2.000000</td>\n",
              "      <td>0.0</td>\n",
              "      <td>33.83675</td>\n",
              "      <td>4.000000</td>\n",
              "      <td>0.000000</td>\n",
              "      <td>0.000000</td>\n",
              "      <td>0.0</td>\n",
              "      <td>...</td>\n",
              "      <td>0.0</td>\n",
              "      <td>0.000000</td>\n",
              "      <td>0.0</td>\n",
              "      <td>0.0</td>\n",
              "      <td>0.0</td>\n",
              "      <td>0.0</td>\n",
              "      <td>0.0</td>\n",
              "      <td>0.000000</td>\n",
              "      <td>2.0</td>\n",
              "      <td>1.0</td>\n",
              "    </tr>\n",
              "    <tr>\n",
              "      <th>1</th>\n",
              "      <td>0.0</td>\n",
              "      <td>0.000000</td>\n",
              "      <td>0.00000</td>\n",
              "      <td>1.000000</td>\n",
              "      <td>0.0</td>\n",
              "      <td>25.91153</td>\n",
              "      <td>0.000000</td>\n",
              "      <td>0.000000</td>\n",
              "      <td>0.000000</td>\n",
              "      <td>0.0</td>\n",
              "      <td>...</td>\n",
              "      <td>0.0</td>\n",
              "      <td>0.000000</td>\n",
              "      <td>0.0</td>\n",
              "      <td>1.0</td>\n",
              "      <td>0.0</td>\n",
              "      <td>0.0</td>\n",
              "      <td>0.0</td>\n",
              "      <td>0.000000</td>\n",
              "      <td>1.0</td>\n",
              "      <td>0.0</td>\n",
              "    </tr>\n",
              "    <tr>\n",
              "      <th>2</th>\n",
              "      <td>0.0</td>\n",
              "      <td>0.000000</td>\n",
              "      <td>0.00000</td>\n",
              "      <td>2.000000</td>\n",
              "      <td>0.0</td>\n",
              "      <td>19.94214</td>\n",
              "      <td>0.000000</td>\n",
              "      <td>1.000000</td>\n",
              "      <td>0.000000</td>\n",
              "      <td>0.0</td>\n",
              "      <td>...</td>\n",
              "      <td>0.0</td>\n",
              "      <td>0.000000</td>\n",
              "      <td>0.0</td>\n",
              "      <td>0.0</td>\n",
              "      <td>0.0</td>\n",
              "      <td>0.0</td>\n",
              "      <td>0.0</td>\n",
              "      <td>0.000000</td>\n",
              "      <td>1.0</td>\n",
              "      <td>1.0</td>\n",
              "    </tr>\n",
              "    <tr>\n",
              "      <th>3</th>\n",
              "      <td>0.0</td>\n",
              "      <td>0.000000</td>\n",
              "      <td>0.00000</td>\n",
              "      <td>3.000000</td>\n",
              "      <td>0.0</td>\n",
              "      <td>30.30838</td>\n",
              "      <td>4.500000</td>\n",
              "      <td>0.000000</td>\n",
              "      <td>0.000000</td>\n",
              "      <td>0.0</td>\n",
              "      <td>...</td>\n",
              "      <td>0.0</td>\n",
              "      <td>2.000000</td>\n",
              "      <td>0.0</td>\n",
              "      <td>0.0</td>\n",
              "      <td>0.0</td>\n",
              "      <td>0.0</td>\n",
              "      <td>0.0</td>\n",
              "      <td>0.000000</td>\n",
              "      <td>1.0</td>\n",
              "      <td>1.0</td>\n",
              "    </tr>\n",
              "    <tr>\n",
              "      <th>4</th>\n",
              "      <td>1.0</td>\n",
              "      <td>0.000000</td>\n",
              "      <td>0.00000</td>\n",
              "      <td>3.000000</td>\n",
              "      <td>0.0</td>\n",
              "      <td>50.02397</td>\n",
              "      <td>1.000000</td>\n",
              "      <td>0.000000</td>\n",
              "      <td>0.358609</td>\n",
              "      <td>0.0</td>\n",
              "      <td>...</td>\n",
              "      <td>0.0</td>\n",
              "      <td>0.000000</td>\n",
              "      <td>0.0</td>\n",
              "      <td>0.0</td>\n",
              "      <td>0.0</td>\n",
              "      <td>0.0</td>\n",
              "      <td>0.0</td>\n",
              "      <td>0.000000</td>\n",
              "      <td>1.0</td>\n",
              "      <td>1.0</td>\n",
              "    </tr>\n",
              "    <tr>\n",
              "      <th>...</th>\n",
              "      <td>...</td>\n",
              "      <td>...</td>\n",
              "      <td>...</td>\n",
              "      <td>...</td>\n",
              "      <td>...</td>\n",
              "      <td>...</td>\n",
              "      <td>...</td>\n",
              "      <td>...</td>\n",
              "      <td>...</td>\n",
              "      <td>...</td>\n",
              "      <td>...</td>\n",
              "      <td>...</td>\n",
              "      <td>...</td>\n",
              "      <td>...</td>\n",
              "      <td>...</td>\n",
              "      <td>...</td>\n",
              "      <td>...</td>\n",
              "      <td>...</td>\n",
              "      <td>...</td>\n",
              "      <td>...</td>\n",
              "      <td>...</td>\n",
              "    </tr>\n",
              "    <tr>\n",
              "      <th>3493</th>\n",
              "      <td>0.0</td>\n",
              "      <td>0.000000</td>\n",
              "      <td>0.00000</td>\n",
              "      <td>2.000000</td>\n",
              "      <td>0.0</td>\n",
              "      <td>42.36874</td>\n",
              "      <td>4.000000</td>\n",
              "      <td>0.000000</td>\n",
              "      <td>1.000000</td>\n",
              "      <td>0.0</td>\n",
              "      <td>...</td>\n",
              "      <td>0.0</td>\n",
              "      <td>0.000000</td>\n",
              "      <td>0.0</td>\n",
              "      <td>0.0</td>\n",
              "      <td>0.0</td>\n",
              "      <td>0.0</td>\n",
              "      <td>0.0</td>\n",
              "      <td>0.000000</td>\n",
              "      <td>1.0</td>\n",
              "      <td>1.0</td>\n",
              "    </tr>\n",
              "    <tr>\n",
              "      <th>3494</th>\n",
              "      <td>0.0</td>\n",
              "      <td>0.000000</td>\n",
              "      <td>0.00000</td>\n",
              "      <td>1.000000</td>\n",
              "      <td>0.0</td>\n",
              "      <td>36.03634</td>\n",
              "      <td>0.000000</td>\n",
              "      <td>0.000000</td>\n",
              "      <td>0.000000</td>\n",
              "      <td>0.0</td>\n",
              "      <td>...</td>\n",
              "      <td>0.0</td>\n",
              "      <td>0.000000</td>\n",
              "      <td>0.0</td>\n",
              "      <td>0.0</td>\n",
              "      <td>0.0</td>\n",
              "      <td>0.0</td>\n",
              "      <td>0.0</td>\n",
              "      <td>0.000000</td>\n",
              "      <td>1.0</td>\n",
              "      <td>1.0</td>\n",
              "    </tr>\n",
              "    <tr>\n",
              "      <th>3495</th>\n",
              "      <td>1.0</td>\n",
              "      <td>0.000000</td>\n",
              "      <td>-0.05044</td>\n",
              "      <td>1.000000</td>\n",
              "      <td>0.0</td>\n",
              "      <td>19.65302</td>\n",
              "      <td>0.000000</td>\n",
              "      <td>1.000000</td>\n",
              "      <td>0.000000</td>\n",
              "      <td>0.0</td>\n",
              "      <td>...</td>\n",
              "      <td>0.0</td>\n",
              "      <td>0.000000</td>\n",
              "      <td>0.0</td>\n",
              "      <td>0.0</td>\n",
              "      <td>0.0</td>\n",
              "      <td>0.0</td>\n",
              "      <td>0.0</td>\n",
              "      <td>0.000000</td>\n",
              "      <td>1.0</td>\n",
              "      <td>1.0</td>\n",
              "    </tr>\n",
              "    <tr>\n",
              "      <th>3496</th>\n",
              "      <td>0.0</td>\n",
              "      <td>21.184211</td>\n",
              "      <td>0.00000</td>\n",
              "      <td>2.249925</td>\n",
              "      <td>0.0</td>\n",
              "      <td>26.20631</td>\n",
              "      <td>2.740139</td>\n",
              "      <td>0.050497</td>\n",
              "      <td>1.000000</td>\n",
              "      <td>0.0</td>\n",
              "      <td>...</td>\n",
              "      <td>0.0</td>\n",
              "      <td>1.452252</td>\n",
              "      <td>0.0</td>\n",
              "      <td>0.0</td>\n",
              "      <td>0.0</td>\n",
              "      <td>0.0</td>\n",
              "      <td>0.0</td>\n",
              "      <td>0.023868</td>\n",
              "      <td>1.0</td>\n",
              "      <td>1.0</td>\n",
              "    </tr>\n",
              "    <tr>\n",
              "      <th>3497</th>\n",
              "      <td>0.0</td>\n",
              "      <td>0.000000</td>\n",
              "      <td>0.00000</td>\n",
              "      <td>1.000000</td>\n",
              "      <td>0.0</td>\n",
              "      <td>19.79552</td>\n",
              "      <td>0.000000</td>\n",
              "      <td>0.000000</td>\n",
              "      <td>0.000000</td>\n",
              "      <td>0.0</td>\n",
              "      <td>...</td>\n",
              "      <td>0.0</td>\n",
              "      <td>0.000000</td>\n",
              "      <td>0.0</td>\n",
              "      <td>0.0</td>\n",
              "      <td>0.0</td>\n",
              "      <td>0.0</td>\n",
              "      <td>0.0</td>\n",
              "      <td>0.000000</td>\n",
              "      <td>1.0</td>\n",
              "      <td>0.0</td>\n",
              "    </tr>\n",
              "  </tbody>\n",
              "</table>\n",
              "<p>3498 rows × 126 columns</p>\n",
              "</div>\n",
              "      <button class=\"colab-df-convert\" onclick=\"convertToInteractive('df-ff9547b4-2c89-40d3-b8be-00da5e0faa28')\"\n",
              "              title=\"Convert this dataframe to an interactive table.\"\n",
              "              style=\"display:none;\">\n",
              "        \n",
              "  <svg xmlns=\"http://www.w3.org/2000/svg\" height=\"24px\"viewBox=\"0 0 24 24\"\n",
              "       width=\"24px\">\n",
              "    <path d=\"M0 0h24v24H0V0z\" fill=\"none\"/>\n",
              "    <path d=\"M18.56 5.44l.94 2.06.94-2.06 2.06-.94-2.06-.94-.94-2.06-.94 2.06-2.06.94zm-11 1L8.5 8.5l.94-2.06 2.06-.94-2.06-.94L8.5 2.5l-.94 2.06-2.06.94zm10 10l.94 2.06.94-2.06 2.06-.94-2.06-.94-.94-2.06-.94 2.06-2.06.94z\"/><path d=\"M17.41 7.96l-1.37-1.37c-.4-.4-.92-.59-1.43-.59-.52 0-1.04.2-1.43.59L10.3 9.45l-7.72 7.72c-.78.78-.78 2.05 0 2.83L4 21.41c.39.39.9.59 1.41.59.51 0 1.02-.2 1.41-.59l7.78-7.78 2.81-2.81c.8-.78.8-2.07 0-2.86zM5.41 20L4 18.59l7.72-7.72 1.47 1.35L5.41 20z\"/>\n",
              "  </svg>\n",
              "      </button>\n",
              "      \n",
              "  <style>\n",
              "    .colab-df-container {\n",
              "      display:flex;\n",
              "      flex-wrap:wrap;\n",
              "      gap: 12px;\n",
              "    }\n",
              "\n",
              "    .colab-df-convert {\n",
              "      background-color: #E8F0FE;\n",
              "      border: none;\n",
              "      border-radius: 50%;\n",
              "      cursor: pointer;\n",
              "      display: none;\n",
              "      fill: #1967D2;\n",
              "      height: 32px;\n",
              "      padding: 0 0 0 0;\n",
              "      width: 32px;\n",
              "    }\n",
              "\n",
              "    .colab-df-convert:hover {\n",
              "      background-color: #E2EBFA;\n",
              "      box-shadow: 0px 1px 2px rgba(60, 64, 67, 0.3), 0px 1px 3px 1px rgba(60, 64, 67, 0.15);\n",
              "      fill: #174EA6;\n",
              "    }\n",
              "\n",
              "    [theme=dark] .colab-df-convert {\n",
              "      background-color: #3B4455;\n",
              "      fill: #D2E3FC;\n",
              "    }\n",
              "\n",
              "    [theme=dark] .colab-df-convert:hover {\n",
              "      background-color: #434B5C;\n",
              "      box-shadow: 0px 1px 3px 1px rgba(0, 0, 0, 0.15);\n",
              "      filter: drop-shadow(0px 1px 2px rgba(0, 0, 0, 0.3));\n",
              "      fill: #FFFFFF;\n",
              "    }\n",
              "  </style>\n",
              "\n",
              "      <script>\n",
              "        const buttonEl =\n",
              "          document.querySelector('#df-ff9547b4-2c89-40d3-b8be-00da5e0faa28 button.colab-df-convert');\n",
              "        buttonEl.style.display =\n",
              "          google.colab.kernel.accessAllowed ? 'block' : 'none';\n",
              "\n",
              "        async function convertToInteractive(key) {\n",
              "          const element = document.querySelector('#df-ff9547b4-2c89-40d3-b8be-00da5e0faa28');\n",
              "          const dataTable =\n",
              "            await google.colab.kernel.invokeFunction('convertToInteractive',\n",
              "                                                     [key], {});\n",
              "          if (!dataTable) return;\n",
              "\n",
              "          const docLinkHtml = 'Like what you see? Visit the ' +\n",
              "            '<a target=\"_blank\" href=https://colab.research.google.com/notebooks/data_table.ipynb>data table notebook</a>'\n",
              "            + ' to learn more about interactive tables.';\n",
              "          element.innerHTML = '';\n",
              "          dataTable['output_type'] = 'display_data';\n",
              "          await google.colab.output.renderOutput(dataTable, element);\n",
              "          const docLink = document.createElement('div');\n",
              "          docLink.innerHTML = docLinkHtml;\n",
              "          element.appendChild(docLink);\n",
              "        }\n",
              "      </script>\n",
              "    </div>\n",
              "  </div>\n",
              "  "
            ]
          },
          "metadata": {},
          "execution_count": 27
        }
      ]
    },
    {
      "cell_type": "code",
      "source": [
        "# Load libraries\n",
        "from pandas import set_option\n",
        "from pandas.plotting import scatter_matrix\n",
        "from sklearn.preprocessing import StandardScaler\n",
        "from sklearn.model_selection import train_test_split\n",
        "from sklearn.model_selection import KFold\n",
        "from sklearn.model_selection import StratifiedKFold\n",
        "from sklearn.model_selection import cross_val_score\n",
        "from sklearn.model_selection import GridSearchCV\n",
        "from sklearn.metrics import classification_report\n",
        "from sklearn.metrics import confusion_matrix\n",
        "from sklearn.metrics import accuracy_score\n",
        "from sklearn.pipeline import Pipeline\n",
        "from sklearn.linear_model import LogisticRegression\n",
        "from sklearn.tree import DecisionTreeClassifier\n",
        "from sklearn.neighbors import KNeighborsClassifier\n",
        "from sklearn.discriminant_analysis import LinearDiscriminantAnalysis\n",
        "from sklearn.naive_bayes import GaussianNB\n",
        "from sklearn.svm import SVC\n",
        "from sklearn.ensemble import AdaBoostClassifier\n",
        "from sklearn.ensemble import GradientBoostingClassifier\n",
        "from sklearn.ensemble import RandomForestClassifier\n",
        "from sklearn.ensemble import ExtraTreesClassifier\n",
        "from sklearn.preprocessing import StandardScaler\n",
        "from sklearn.model_selection import learning_curve"
      ],
      "metadata": {
        "id": "g97WckwXskw5"
      },
      "execution_count": 30,
      "outputs": []
    },
    {
      "cell_type": "code",
      "source": [
        "rf = RandomForestClassifier(n_estimators=100, random_state=42)\n",
        "param_test1 = {'n_estimators':  range(20, 120, 10)}\n",
        "gsearch1 = GridSearchCV(estimator=RandomForestClassifier(min_samples_split=300,\n",
        "                                                        min_samples_leaf=20, max_depth=8, \n",
        "                                                         max_features=\"sqrt\", random_state=42), \n",
        "                        param_grid = param_test1, scoring = 'roc_auc', cv=5)             \n",
        "gsearch1.fit(X_train_selected_imputed, y_train)\n",
        "gsearch1.best_params_, gsearch1.best_score_"
      ],
      "metadata": {
        "colab": {
          "base_uri": "https://localhost:8080/"
        },
        "id": "xnhqj-KDCxxD",
        "outputId": "4e334356-3224-4995-8682-66bfb44f8aa9"
      },
      "execution_count": 49,
      "outputs": [
        {
          "output_type": "execute_result",
          "data": {
            "text/plain": [
              "({'n_estimators': 70}, 0.5667678274268104)"
            ]
          },
          "metadata": {},
          "execution_count": 49
        }
      ]
    },
    {
      "cell_type": "code",
      "source": [
        "X_train_con = pd.concat([X_train_selected_imputed, X_val_selected_imputed])\n",
        "y_train_con = np.array(list(y_train) + list(y_val))"
      ],
      "metadata": {
        "id": "AlVxkqfTEugG"
      },
      "execution_count": 50,
      "outputs": []
    },
    {
      "cell_type": "code",
      "source": [
        "X_train_con.shape"
      ],
      "metadata": {
        "id": "Q7JL1481FVVd"
      },
      "execution_count": null,
      "outputs": []
    },
    {
      "cell_type": "code",
      "source": [
        "param_test2 = {'max_depth':range(3,6,1), 'min_samples_split':range(300, 600, 30)}\n",
        "gsearch2 = GridSearchCV(estimator=RandomForestClassifier(\n",
        "                                                        min_samples_leaf=20,\n",
        "                                                         max_features=\"sqrt\", random_state=42,n_estimators=70), \n",
        "                        param_grid = param_test2, scoring = 'roc_auc', cv=5)\n",
        "gsearch2.fit(X_train_con, y_train_con)\n",
        "gsearch2.best_params_, gsearch2.best_score_"
      ],
      "metadata": {
        "colab": {
          "base_uri": "https://localhost:8080/"
        },
        "id": "YuALOTqSEO7a",
        "outputId": "5ba68bf6-d863-451a-a423-2b14fe4aabc6"
      },
      "execution_count": 52,
      "outputs": [
        {
          "output_type": "execute_result",
          "data": {
            "text/plain": [
              "({'max_depth': 3, 'min_samples_split': 570}, 0.587677431125707)"
            ]
          },
          "metadata": {},
          "execution_count": 52
        }
      ]
    },
    {
      "cell_type": "code",
      "source": [
        "param_test3 = {'min_samples_split':range(500, 700, 40), 'min_samples_leaf':range(10, 100, 10)}\n",
        "gsearch3 =  GridSearchCV(estimator=RandomForestClassifier(max_depth = 3,\n",
        "                                                          max_features=\"sqrt\", random_state=42,n_estimators=70), \n",
        "                        param_grid = param_test3, scoring = 'roc_auc', cv=5)\n",
        "gsearch3.fit(X_train_con, y_train_con)\n",
        "gsearch3.best_params_, gsearch3.best_score_"
      ],
      "metadata": {
        "colab": {
          "base_uri": "https://localhost:8080/"
        },
        "id": "W_F5XlkQEKBr",
        "outputId": "0ec27759-133f-493a-8e66-fbdbd9b08546"
      },
      "execution_count": 55,
      "outputs": [
        {
          "output_type": "execute_result",
          "data": {
            "text/plain": [
              "({'min_samples_leaf': 40, 'min_samples_split': 660}, 0.5949680715197957)"
            ]
          },
          "metadata": {},
          "execution_count": 55
        }
      ]
    },
    {
      "cell_type": "code",
      "source": [
        "gsearch4 = RandomForestClassifier(max_depth = 3,\n",
        "                                                          min_samples_leaf = 40,\n",
        "                                                          min_samples_split = 660,\n",
        "                                                          max_features=\"sqrt\", random_state=42,n_estimators=70)\n",
        "gsearch3.fit(X_train_con, y_train_con)\n",
        "gsearch3.best_params_, gsearch3.best_score_"
      ],
      "metadata": {
        "id": "q4M82bRiGu6i"
      },
      "execution_count": null,
      "outputs": []
    },
    {
      "cell_type": "code",
      "source": [
        "import xgboost as xgb\n",
        "from xgboost import plot_importance"
      ],
      "metadata": {
        "id": "z0DZQQzLIEun"
      },
      "execution_count": 57,
      "outputs": []
    },
    {
      "cell_type": "code",
      "source": [
        "#rf = RandomForestClassifier(max_depth = 3,\n",
        "#                                                          min_samples_leaf = 40,\n",
        "#                                                          min_samples_split = 660,\n",
        "#                                                          max_features=\"sqrt\", random_state=42,n_estimators=70)\n",
        "# rf = GradientBoostingClassifier(random_state=10)\n",
        "rf = xgb.XGBClassifier()\n",
        "rf.fit(X_train_selected_imputed, y_train)\n",
        "cv = KFold(n_splits=5, shuffle=True, random_state=42)\n",
        "val_auc = cross_val_score(rf, X_val_selected_imputed, y_val, scoring='roc_auc', cv=cv).mean()\n",
        "test_auc = cross_val_score(rf, X_test_selected_imputed, y_test, scoring='roc_auc', cv=cv).mean()\n",
        "\n",
        "print('Validation AUC:', val_auc)\n",
        "print('Test AUC:', test_auc)\n",
        "\n",
        "val_prob = rf.predict_proba(X_val_selected_imputed)[:, 1]\n",
        "fpr_val, tpr_val, thresholds_val = roc_curve(y_val, val_prob)\n",
        "plt.plot(fpr_val, tpr_val)\n",
        "plt.xlabel('False Positive Rate')\n",
        "plt.ylabel('True Positive Rate')\n",
        "plt.title('Validation ROC Curve')\n",
        "plt.show()\n",
        "\n",
        "test_prob = rf.predict_proba(X_test_selected_imputed)[:, 1]\n",
        "fpr_test, tpr_test, thresholds_test = roc_curve(y_test, test_prob)\n",
        "plt.plot(fpr_test, tpr_test)\n",
        "plt.xlabel('False Positive Rate')\n",
        "plt.ylabel('True Positive Rate')\n",
        "plt.title('Test ROC Curve')\n",
        "plt.show()"
      ],
      "metadata": {
        "colab": {
          "base_uri": "https://localhost:8080/",
          "height": 962
        },
        "id": "Kf-7ID4qGNMk",
        "outputId": "ffe673b7-6cac-4efe-8d34-f1aa068d6ba3"
      },
      "execution_count": 58,
      "outputs": [
        {
          "output_type": "stream",
          "name": "stdout",
          "text": [
            "Validation AUC: 0.5927190170269999\n",
            "Test AUC: 0.5854861101180708\n"
          ]
        },
        {
          "output_type": "display_data",
          "data": {
            "text/plain": [
              "<Figure size 640x480 with 1 Axes>"
            ],
            "image/png": "[encoded data removed]"
          },
          "metadata": {}
        },
        {
          "output_type": "display_data",
          "data": {
            "text/plain": [
              "<Figure size 640x480 with 1 Axes>"
            ],
            "image/png": "[encoded data removed]"
          },
          "metadata": {}
        }
      ]
    },
    {
      "cell_type": "code",
      "source": [
        "import matplotlib.pyplot as plt\n",
        "from sklearn.ensemble import RandomForestClassifier\n",
        "from sklearn.datasets import make_classification\n",
        "from sklearn.model_selection import train_test_split\n",
        "import numpy as np\n",
        "\n",
        "# Initialize a range of random forest classifiers with different numbers of trees\n",
        "num_trees = [1, 2, 4, 8, 16, 32, 64, 100]\n",
        "classifiers = [RandomForestClassifier(n_estimators=n, random_state=42, criterion= \"log_loss\") for n in num_trees]\n",
        "\n",
        "# Fit each classifier to the training data and calculate the loss on the training and validation data\n",
        "train_losses = []\n",
        "val_losses = []\n",
        "for clf in classifiers:\n",
        "    clf.fit(X_train_selected_imputed, y_train)\n",
        "    train_loss = 1 - clf.score(X_train_selected_imputed, y_train)\n",
        "    val_loss = 1 - clf.score(X_val_selected_imputed, y_val)\n",
        "    train_losses.append(train_loss)\n",
        "    val_losses.append(val_loss)\n",
        "\n",
        "# Plot the training and validation loss as a function of thenumber of trees\n",
        "plt.plot(num_trees, train_losses, label='Training Loss')\n",
        "plt.plot(num_trees, val_losses, label='Validation Loss')\n",
        "plt.xlabel('Number of Trees')\n",
        "plt.ylabel('Loss')\n",
        "plt.title('Random Forest Classifier Loss')\n",
        "plt.legend()\n",
        "plt.show()"
      ],
      "metadata": {
        "id": "ZPaKlKeNuqwa"
      },
      "execution_count": null,
      "outputs": []
    },
    {
      "cell_type": "code",
      "source": [
        "import matplotlib.pyplot as plt\n",
        "\n",
        "# Train a Keras model and retrieve the history object\n",
        "history = clf.fit(X_train_selected_imputed, y_train, validation_data=(X_val_selected_imputed, y_val))\n",
        "\n",
        "# Plot the training and validation loss as a function of the number of epochs\n",
        "train_loss = history.history['loss']\n",
        "val_loss = history.history['val_loss']\n",
        "epochs = range(1, len(train_loss) + 1)\n",
        "plt.plot(epochs, train_loss, 'bo', label='Training loss')\n",
        "plt.plot(epochs, val_loss, 'b', label='Validation loss')\n",
        "plt.title('Training and validation loss')\n",
        "plt.xlabel('Epochs')\n",
        "plt.ylabel('Loss')\n",
        "plt.legend()\n",
        "plt.show()"
      ],
      "metadata": {
        "colab": {
          "base_uri": "https://localhost:8080/",
          "height": 235
        },
        "id": "ik2ZQfBIUK1R",
        "outputId": "ae56144d-f123-40dc-f526-7a14f58be9fc"
      },
      "execution_count": 62,
      "outputs": [
        {
          "output_type": "error",
          "ename": "TypeError",
          "evalue": "ignored",
          "traceback": [
            "\u001b[0;31m---------------------------------------------------------------------------\u001b[0m",
            "\u001b[0;31mTypeError\u001b[0m                                 Traceback (most recent call last)",
            "\u001b[0;32m<ipython-input-62-a3f3fc362c3e>\u001b[0m in \u001b[0;36m<cell line: 4>\u001b[0;34m()\u001b[0m\n\u001b[1;32m      2\u001b[0m \u001b[0;34m\u001b[0m\u001b[0m\n\u001b[1;32m      3\u001b[0m \u001b[0;31m# Train a Keras model and retrieve the history object\u001b[0m\u001b[0;34m\u001b[0m\u001b[0;34m\u001b[0m\u001b[0m\n\u001b[0;32m----> 4\u001b[0;31m \u001b[0mhistory\u001b[0m \u001b[0;34m=\u001b[0m \u001b[0mclf\u001b[0m\u001b[0;34m.\u001b[0m\u001b[0mfit\u001b[0m\u001b[0;34m(\u001b[0m\u001b[0mX_train_selected_imputed\u001b[0m\u001b[0;34m,\u001b[0m \u001b[0my_train\u001b[0m\u001b[0;34m,\u001b[0m\u001b[0mvalidation_data\u001b[0m\u001b[0;34m=\u001b[0m\u001b[0;34m(\u001b[0m\u001b[0mX_val_selected_imputed\u001b[0m\u001b[0;34m,\u001b[0m \u001b[0my_val\u001b[0m\u001b[0;34m)\u001b[0m\u001b[0;34m)\u001b[0m\u001b[0;34m\u001b[0m\u001b[0;34m\u001b[0m\u001b[0m\n\u001b[0m\u001b[1;32m      5\u001b[0m \u001b[0;34m\u001b[0m\u001b[0m\n\u001b[1;32m      6\u001b[0m \u001b[0;31m# Plot the training and validation loss as a function of the number of epochs\u001b[0m\u001b[0;34m\u001b[0m\u001b[0;34m\u001b[0m\u001b[0m\n",
            "\u001b[0;31mTypeError\u001b[0m: BaseForest.fit() got an unexpected keyword argument 'validation_data'"
          ]
        }
      ]
    },
    {
      "cell_type": "code",
      "source": [],
      "metadata": {
        "id": "25SiOPEbULi2"
      },
      "execution_count": null,
      "outputs": []
    }
  ]
}