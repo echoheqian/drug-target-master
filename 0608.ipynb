{
  "nbformat": 4,
  "nbformat_minor": 0,
  "metadata": {
    "colab": {
      "provenance": [],
      "authorship_tag": "ABX9TyOUyDF0uwU+DOMWH+3ME0zY",
      "include_colab_link": true
    },
    "kernelspec": {
      "name": "python3",
      "display_name": "Python 3"
    },
    "language_info": {
      "name": "python"
    }
  },
  "cells": [
    {
      "cell_type": "markdown",
      "metadata": {
        "id": "view-in-github",
        "colab_type": "text"
      },
      "source": [
        "<a href=\"https://colab.research.google.com/github/echoheqian/drug-target-master/blob/main/0608.ipynb\" target=\"_parent\"><img src=\"https://colab.research.google.com/assets/colab-badge.svg\" alt=\"Open In Colab\"/></a>"
      ]
    },
    {
      "cell_type": "code",
      "execution_count": null,
      "metadata": {
        "colab": {
          "base_uri": "https://localhost:8080/",
          "height": 17
        },
        "id": "A_AbnMm-QDVA",
        "outputId": "b97c45d9-cabf-4e56-8a44-950c42f922ea"
      },
      "outputs": [
        {
          "output_type": "display_data",
          "data": {
            "text/html": [
              "        <script type=\"text/javascript\">\n",
              "        window.PlotlyConfig = {MathJaxConfig: 'local'};\n",
              "        if (window.MathJax && window.MathJax.Hub && window.MathJax.Hub.Config) {window.MathJax.Hub.Config({SVG: {font: \"STIX-Web\"}});}\n",
              "        if (typeof require !== 'undefined') {\n",
              "        require.undef(\"plotly\");\n",
              "        requirejs.config({\n",
              "            paths: {\n",
              "                'plotly': ['https://cdn.plot.ly/plotly-2.18.2.min']\n",
              "            }\n",
              "        });\n",
              "        require(['plotly'], function(Plotly) {\n",
              "            window._Plotly = Plotly;\n",
              "        });\n",
              "        }\n",
              "        </script>\n",
              "        "
            ]
          },
          "metadata": {}
        }
      ],
      "source": [
        "import sys\n",
        "import os\n",
        "import pandas as pd\n",
        "import numpy as np\n",
        "import matplotlib.pyplot as plt\n",
        "import seaborn as sns\n",
        "from IPython.display import display\n",
        "%matplotlib inline\n",
        "import plotly.offline as py\n",
        "import plotly.graph_objs as go\n",
        "import plotly.tools as tls\n",
        "py.init_notebook_mode(connected=True)\n",
        "import warnings\n",
        "warnings.filterwarnings('ignore')\n",
        "sys.setrecursionlimit(1000000)"
      ]
    },
    {
      "cell_type": "code",
      "source": [
        "# set a seed for code reproducibility\n",
        "SEED = 7\n",
        "np.random.seed(SEED)\n",
        "pd.set_option('display.max_columns', 180)"
      ],
      "metadata": {
        "id": "rj3tn8BJQqw9"
      },
      "execution_count": null,
      "outputs": []
    },
    {
      "cell_type": "code",
      "source": [
        "X_train = pd.read_csv('X_train_selected.csv', sep=\"\\t\")\n",
        "X_val = pd.read_csv('X_val_selected.csv', sep=\"\\t\")\n",
        "X_test = pd.read_csv('X_test_selected.csv', sep=\"\\t\")"
      ],
      "metadata": {
        "id": "hXImBzOnL9hO"
      },
      "execution_count": null,
      "outputs": []
    },
    {
      "cell_type": "code",
      "source": [
        "# 2.1 Loading data\n",
        "df = (pd.read_csv('pheno.prs.0607.csv', sep=\"\\t\")\n",
        "        .query('dm_trial==True')\n",
        "        .drop('dm_trial', axis=1))\n",
        "df.shape "
      ],
      "metadata": {
        "id": "8YrqhRVWQvF3",
        "colab": {
          "base_uri": "https://localhost:8080/"
        },
        "outputId": "094a9263-712e-4b4a-e738-8cfca3bfaa48"
      },
      "execution_count": null,
      "outputs": [
        {
          "output_type": "execute_result",
          "data": {
            "text/plain": [
              "(5832, 413)"
            ]
          },
          "metadata": {},
          "execution_count": 3
        }
      ]
    },
    {
      "cell_type": "code",
      "source": [
        "# define cvd incidece rate #or x['isch_stroke']==1 or x['hemo_stroke']==1\n",
        "def get_cvd_type(x):\n",
        "  if x['mi'] == 1 or x['chd'] ==1 or x['chf'] ==1 or x['mitotal'] or x['psmi'] or x['dsmi']:\n",
        "    return 1\n",
        "  else: \n",
        "    return 0\n",
        "df.loc[:, 'cvd_binary'] = df.apply(get_cvd_type, axis=1)\n",
        "print(df['cvd_binary'].value_counts())"
      ],
      "metadata": {
        "colab": {
          "base_uri": "https://localhost:8080/"
        },
        "id": "UViv07msQzxa",
        "outputId": "5d00140d-fd13-4b32-b02e-85c96f9f7fb4"
      },
      "execution_count": null,
      "outputs": [
        {
          "output_type": "stream",
          "name": "stdout",
          "text": [
            "0    5117\n",
            "1     715\n",
            "Name: cvd_binary, dtype: int64\n"
          ]
        }
      ]
    },
    {
      "cell_type": "code",
      "source": [
        "# change missing values of -9 defined previously\n",
        "df['baseline_sleep'].replace(-9, np.nan, inplace = True)"
      ],
      "metadata": {
        "id": "QAAgh6arQ3i6"
      },
      "execution_count": null,
      "outputs": []
    },
    {
      "cell_type": "code",
      "source": [
        "# 2.2 detecting missing values\n",
        "## define count missing values function\n",
        "def missing_values_table(df):\n",
        "        # Total missing values\n",
        "        mis_val = df.isnull().sum()\n",
        "        \n",
        "        # Percentage of missing values\n",
        "        mis_val_percent = 100 * df.isnull().sum() / len(df)\n",
        "        \n",
        "        # Make a table with the results\n",
        "        mis_val_table = pd.concat([mis_val, mis_val_percent], axis=1)\n",
        "        \n",
        "        # Rename the columns\n",
        "        mis_val_table_ren_columns = mis_val_table.rename(\n",
        "        columns = {0 : 'Missing Values', 1 : '% of Total Values'})\n",
        "        \n",
        "        # Sort the table by percentage of missing descending\n",
        "        mis_val_table_ren_columns = mis_val_table_ren_columns[\n",
        "            mis_val_table_ren_columns.iloc[:,1] != 0].sort_values(\n",
        "        '% of Total Values', ascending=False).round(1)\n",
        "        \n",
        "        # Print some summary information\n",
        "        print (\"Your selected dataframe has \" + str(df.shape[1]) + \" columns.\\n\"      \n",
        "            \"There are \" + str(mis_val_table_ren_columns.shape[0]) +\n",
        "              \" columns that have missing values.\")\n",
        "        \n",
        "        # Return the dataframe with missing information\n",
        "        return mis_val_table_ren_columns"
      ],
      "metadata": {
        "id": "hkin2g4YRCQq"
      },
      "execution_count": null,
      "outputs": []
    },
    {
      "cell_type": "code",
      "source": [
        "df['DVT'].value_counts()"
      ],
      "metadata": {
        "id": "GEsatsjKeBdV",
        "outputId": "3eb2fc71-005b-4b81-863c-9d7abeef4386",
        "colab": {
          "base_uri": "https://localhost:8080/"
        }
      },
      "execution_count": null,
      "outputs": [
        {
          "output_type": "execute_result",
          "data": {
            "text/plain": [
              "0.0      5668\n",
              "amind     162\n",
              "Name: DVT, dtype: int64"
            ]
          },
          "metadata": {},
          "execution_count": 329
        }
      ]
    },
    {
      "cell_type": "code",
      "source": [
        "## count missing values\n",
        "df_missing = missing_values_table(df)\n",
        "df_missing"
      ],
      "metadata": {
        "id": "0AYiMGl5RdUI",
        "colab": {
          "base_uri": "https://localhost:8080/",
          "height": 428
        },
        "outputId": "f5195e5b-ac61-474b-f72f-fb4a4c17b332"
      },
      "execution_count": null,
      "outputs": [
        {
          "output_type": "stream",
          "name": "stdout",
          "text": [
            "Your selected dataframe has 414 columns.\n",
            "There are 293 columns that have missing values.\n"
          ]
        },
        {
          "output_type": "execute_result",
          "data": {
            "text/plain": [
              "                 Missing Values  % of Total Values\n",
              "WELBEING                   5832              100.0\n",
              "COLON10Y                   5832              100.0\n",
              "HELPCC                     5831              100.0\n",
              "BRCA55                     5828               99.9\n",
              "OVRYCA55                   5814               99.7\n",
              "...                         ...                ...\n",
              "DVT                           2                0.0\n",
              "time_to_mitotal               2                0.0\n",
              "RECENCY                       1                0.0\n",
              "DIABTRT                       1                0.0\n",
              "PE                            1                0.0\n",
              "\n",
              "[293 rows x 2 columns]"
            ],
            "text/html": [
              "\n",
              "  <div id=\"df-e5159042-30a5-4072-a955-e8bf9551843e\">\n",
              "    <div class=\"colab-df-container\">\n",
              "      <div>\n",
              "<style scoped>\n",
              "    .dataframe tbody tr th:only-of-type {\n",
              "        vertical-align: middle;\n",
              "    }\n",
              "\n",
              "    .dataframe tbody tr th {\n",
              "        vertical-align: top;\n",
              "    }\n",
              "\n",
              "    .dataframe thead th {\n",
              "        text-align: right;\n",
              "    }\n",
              "</style>\n",
              "<table border=\"1\" class=\"dataframe\">\n",
              "  <thead>\n",
              "    <tr style=\"text-align: right;\">\n",
              "      <th></th>\n",
              "      <th>Missing Values</th>\n",
              "      <th>% of Total Values</th>\n",
              "    </tr>\n",
              "  </thead>\n",
              "  <tbody>\n",
              "    <tr>\n",
              "      <th>WELBEING</th>\n",
              "      <td>5832</td>\n",
              "      <td>100.0</td>\n",
              "    </tr>\n",
              "    <tr>\n",
              "      <th>COLON10Y</th>\n",
              "      <td>5832</td>\n",
              "      <td>100.0</td>\n",
              "    </tr>\n",
              "    <tr>\n",
              "      <th>HELPCC</th>\n",
              "      <td>5831</td>\n",
              "      <td>100.0</td>\n",
              "    </tr>\n",
              "    <tr>\n",
              "      <th>BRCA55</th>\n",
              "      <td>5828</td>\n",
              "      <td>99.9</td>\n",
              "    </tr>\n",
              "    <tr>\n",
              "      <th>OVRYCA55</th>\n",
              "      <td>5814</td>\n",
              "      <td>99.7</td>\n",
              "    </tr>\n",
              "    <tr>\n",
              "      <th>...</th>\n",
              "      <td>...</td>\n",
              "      <td>...</td>\n",
              "    </tr>\n",
              "    <tr>\n",
              "      <th>DVT</th>\n",
              "      <td>2</td>\n",
              "      <td>0.0</td>\n",
              "    </tr>\n",
              "    <tr>\n",
              "      <th>time_to_mitotal</th>\n",
              "      <td>2</td>\n",
              "      <td>0.0</td>\n",
              "    </tr>\n",
              "    <tr>\n",
              "      <th>RECENCY</th>\n",
              "      <td>1</td>\n",
              "      <td>0.0</td>\n",
              "    </tr>\n",
              "    <tr>\n",
              "      <th>DIABTRT</th>\n",
              "      <td>1</td>\n",
              "      <td>0.0</td>\n",
              "    </tr>\n",
              "    <tr>\n",
              "      <th>PE</th>\n",
              "      <td>1</td>\n",
              "      <td>0.0</td>\n",
              "    </tr>\n",
              "  </tbody>\n",
              "</table>\n",
              "<p>293 rows × 2 columns</p>\n",
              "</div>\n",
              "      <button class=\"colab-df-convert\" onclick=\"convertToInteractive('df-e5159042-30a5-4072-a955-e8bf9551843e')\"\n",
              "              title=\"Convert this dataframe to an interactive table.\"\n",
              "              style=\"display:none;\">\n",
              "        \n",
              "  <svg xmlns=\"http://www.w3.org/2000/svg\" height=\"24px\"viewBox=\"0 0 24 24\"\n",
              "       width=\"24px\">\n",
              "    <path d=\"M0 0h24v24H0V0z\" fill=\"none\"/>\n",
              "    <path d=\"M18.56 5.44l.94 2.06.94-2.06 2.06-.94-2.06-.94-.94-2.06-.94 2.06-2.06.94zm-11 1L8.5 8.5l.94-2.06 2.06-.94-2.06-.94L8.5 2.5l-.94 2.06-2.06.94zm10 10l.94 2.06.94-2.06 2.06-.94-2.06-.94-.94-2.06-.94 2.06-2.06.94z\"/><path d=\"M17.41 7.96l-1.37-1.37c-.4-.4-.92-.59-1.43-.59-.52 0-1.04.2-1.43.59L10.3 9.45l-7.72 7.72c-.78.78-.78 2.05 0 2.83L4 21.41c.39.39.9.59 1.41.59.51 0 1.02-.2 1.41-.59l7.78-7.78 2.81-2.81c.8-.78.8-2.07 0-2.86zM5.41 20L4 18.59l7.72-7.72 1.47 1.35L5.41 20z\"/>\n",
              "  </svg>\n",
              "      </button>\n",
              "      \n",
              "  <style>\n",
              "    .colab-df-container {\n",
              "      display:flex;\n",
              "      flex-wrap:wrap;\n",
              "      gap: 12px;\n",
              "    }\n",
              "\n",
              "    .colab-df-convert {\n",
              "      background-color: #E8F0FE;\n",
              "      border: none;\n",
              "      border-radius: 50%;\n",
              "      cursor: pointer;\n",
              "      display: none;\n",
              "      fill: #1967D2;\n",
              "      height: 32px;\n",
              "      padding: 0 0 0 0;\n",
              "      width: 32px;\n",
              "    }\n",
              "\n",
              "    .colab-df-convert:hover {\n",
              "      background-color: #E2EBFA;\n",
              "      box-shadow: 0px 1px 2px rgba(60, 64, 67, 0.3), 0px 1px 3px 1px rgba(60, 64, 67, 0.15);\n",
              "      fill: #174EA6;\n",
              "    }\n",
              "\n",
              "    [theme=dark] .colab-df-convert {\n",
              "      background-color: #3B4455;\n",
              "      fill: #D2E3FC;\n",
              "    }\n",
              "\n",
              "    [theme=dark] .colab-df-convert:hover {\n",
              "      background-color: #434B5C;\n",
              "      box-shadow: 0px 1px 3px 1px rgba(0, 0, 0, 0.15);\n",
              "      filter: drop-shadow(0px 1px 2px rgba(0, 0, 0, 0.3));\n",
              "      fill: #FFFFFF;\n",
              "    }\n",
              "  </style>\n",
              "\n",
              "      <script>\n",
              "        const buttonEl =\n",
              "          document.querySelector('#df-e5159042-30a5-4072-a955-e8bf9551843e button.colab-df-convert');\n",
              "        buttonEl.style.display =\n",
              "          google.colab.kernel.accessAllowed ? 'block' : 'none';\n",
              "\n",
              "        async function convertToInteractive(key) {\n",
              "          const element = document.querySelector('#df-e5159042-30a5-4072-a955-e8bf9551843e');\n",
              "          const dataTable =\n",
              "            await google.colab.kernel.invokeFunction('convertToInteractive',\n",
              "                                                     [key], {});\n",
              "          if (!dataTable) return;\n",
              "\n",
              "          const docLinkHtml = 'Like what you see? Visit the ' +\n",
              "            '<a target=\"_blank\" href=https://colab.research.google.com/notebooks/data_table.ipynb>data table notebook</a>'\n",
              "            + ' to learn more about interactive tables.';\n",
              "          element.innerHTML = '';\n",
              "          dataTable['output_type'] = 'display_data';\n",
              "          await google.colab.output.renderOutput(dataTable, element);\n",
              "          const docLink = document.createElement('div');\n",
              "          docLink.innerHTML = docLinkHtml;\n",
              "          element.appendChild(docLink);\n",
              "        }\n",
              "      </script>\n",
              "    </div>\n",
              "  </div>\n",
              "  "
            ]
          },
          "metadata": {},
          "execution_count": 269
        }
      ]
    },
    {
      "cell_type": "code",
      "source": [
        "# detect missing values >40%\n",
        "df_50_missing = df_missing[df_missing['% of Total Values'] > 40]\n",
        "df_50_missing.index"
      ],
      "metadata": {
        "id": "i_C3Mvu0RgPD",
        "colab": {
          "base_uri": "https://localhost:8080/"
        },
        "outputId": "c9234848-147d-4c47-adb1-95bd16c6f5d3"
      },
      "execution_count": null,
      "outputs": [
        {
          "output_type": "execute_result",
          "data": {
            "text/plain": [
              "Index(['WELBEING', 'COLON10Y', 'HELPCC', 'BRCA55', 'OVRYCA55', 'PEACC1M',\n",
              "       'MELAN10Y', 'PE6M', 'ENDOCA55', 'ENDO10Y', 'STROKE6M', 'INSULINW',\n",
              "       'PADANGP', 'PADANGGR', 'PADSURG', 'HORMBK', 'F45STRYR', 'OVRTHYNW',\n",
              "       'MIAGE', 'MI6M', 'TIA6M', 'DVTACC1M', 'GOITERNW', 'DVT6M', 'NODULENW',\n",
              "       'F45MVYR', 'FAMILYPENUM', 'ANGNPILN', 'DIABNW', 'DIABPILL', 'INSULIN',\n",
              "       'DBDIETF2', 'DIABCOMA', 'DIABAGE', 'FAMILYDVTNUM', 'UNDTHYNW', 'NACVD',\n",
              "       'CHF_F30', 'GALLSTRM', 'GALLBSNW', 'OVRTHY', 'NODULE', 'GALLBLRM',\n",
              "       'GOITER', 'UNDTHY', 'F45OTHYR', 'F393MSE', 'CARDREST', 'HORM3M',\n",
              "       'HYPTPILN', 'F45MVMYR', 'HYPTAGE', 'HYPTPILL', 'HYST3M', 'HYSTAGE',\n",
              "       'AGEHYST', 'insu', 'ldl', 'hdl', 'tg', 'chol', 'hsCRP', 'RHEUMAT',\n",
              "       'glu', 'F45VITDY', 'COLNSCDT', 'COLOFREL', 'SMOKNOW', 'ad', 'F45CALCY',\n",
              "       'BRSTFDAL', 'BRSTFDN', 'BRSTFDAF', 'MENPSYAL', 'OSTEOBK', 'HORMNW',\n",
              "       'time_to_ad', 'MENPSYAF'],\n",
              "      dtype='object')"
            ]
          },
          "metadata": {},
          "execution_count": 270
        }
      ]
    },
    {
      "cell_type": "code",
      "source": [
        "## delete variables with missing values higher than 50%\n",
        "missing_vars = df_50_missing.index\n",
        "df_update = (df.drop(missing_vars,axis=1))"
      ],
      "metadata": {
        "id": "iR9ianfERj7x"
      },
      "execution_count": null,
      "outputs": []
    },
    {
      "cell_type": "code",
      "source": [
        "# 更新数据集，删除fid,iid,subjid,visit_year,time_to_event之类的列\n",
        "drop_cols = ['subjID','FID','IID','time_to_chd','time_to_isch_stroke','time_to_hemo_stroke','time_to_death','time_to_cvd_death','time_to_chf','time_to_dsmi','time_to_dvt','timme_to_psmi',\n",
        "             'time_to_mitotal',\n",
        "             'time_to_non_cvd_death','time_to_dm','time_to_mi','time_to_cancer','visit_year','SCORE_delta_sleep_p1_0.05','SCORE_delta_ces_d_p0.05_0.05',\n",
        "             'SCORE_delta_sleep_p0.05_0.001','SCORE_baseline_sleep_p1_0.05','SCORE_igap_p0.05','SCORE_inso','SCORE_mdd','SCORE_igap',\n",
        "             'SCORE_baseline_ces_d_p1e5','SCORE_baseline_sleep_p1e5','SCORE_baseline_ces_d_p1','sugar_pct_binary','sugar','SCORE_sugar_baseline_sleep_p0.05',\n",
        "             'SCORE_sugar_baseline_sleep_p1','SCORE_sugar_baseline_sleep_p1e5','SCORE_sugar_baseline_mse_p1','SCORE_sugar_baseline_mse_p0.05',\n",
        "             'SCORE_sugar_baseline_mse_p1e5','SCORE_sugar_baseline_ces_d_p1','SCORE_sugar_baseline_ces_d_p0.05','SCORE_sugar_baseline_ces_d_p1e5','race','sex',\n",
        "             'MENSELST','MEALOUT','DIAB']\n",
        "df_update1= (df_update.drop(columns=drop_cols))\n",
        "df_update1.head()"
      ],
      "metadata": {
        "id": "rAnf5d2hRlXE",
        "colab": {
          "base_uri": "https://localhost:8080/",
          "height": 282
        },
        "outputId": "021af2a2-f95c-4a14-ea17-cdcbbee70f97"
      },
      "execution_count": null,
      "outputs": [
        {
          "output_type": "execute_result",
          "data": {
            "text/plain": [
              "    cancer fat_down  SCORE_baseline_sleep_p0.05_0.05  sugar_pct  \\\n",
              "1        0     True                          557.363   0.141641   \n",
              "2        0     True                          545.961   0.209902   \n",
              "5        0     True                          559.216   0.141025   \n",
              "10       0      NaN                          546.154   0.172255   \n",
              "17       0     True                          542.074   0.146029   \n",
              "\n",
              "    baseline_sugar  SCORE_inso_all_group  baseline_sleep  baseline_tot_cal  \\\n",
              "1         53.98778              0.000207             7.0        1524.63584   \n",
              "2         64.46801              0.000162             5.0        1228.53449   \n",
              "5         86.62391              0.000280             0.0        2456.97239   \n",
              "10        57.80864              0.000221             1.0        1342.39753   \n",
              "17        33.85894              0.000187             6.0         927.45758   \n",
              "\n",
              "    baseline_fat  baseline_pro  baseline_cho  baseline_sfa  baseline_mufa  \\\n",
              "1       66.72611      60.70822     155.72613      13.92200       24.03499   \n",
              "2       40.19991      58.67646     160.10975      13.59158       14.54817   \n",
              "5      109.57551     105.39777     268.58096      40.51814       37.89930   \n",
              "10      60.72256      66.03346     135.05701      19.13607       21.25042   \n",
              "17      35.68079      47.81902      94.63045      10.81763       14.23365   \n",
              "\n",
              "    baseline_pufa  baseline_alc  baseline_palm  baseline_n3       hei  \\\n",
              "1        23.54255      10.01349        8.64331      2.54322  63.98034   \n",
              "2         8.02075       0.00493        7.44353      0.82732  67.62396   \n",
              "5        22.66372       0.04528       21.16896      2.34198  56.51048   \n",
              "10       15.35011       0.85690       10.43022      1.81833  71.94189   \n",
              "17        7.57422       6.22589        5.98474      1.29323  74.03998   \n",
              "\n",
              "       myhei  age BRCA_F2 COLON_F2 ENDO_F2 SKIN_F2 MELAN_F2 OTHCA10Y   HORM  \\\n",
              "1  -0.003884   51     0.0      0.0     0.0     0.0      0.0      0.0    0.0   \n",
              "2  -0.005394   70     0.0      0.0     0.0     0.0      0.0      0.0    0.0   \n",
              "5  -0.000171   54     0.0      0.0     0.0     0.0      0.0      0.0    0.0   \n",
              "10 -0.002127   64     0.0      0.0     0.0     0.0      0.0      0.0  amind   \n",
              "17 -0.005694   62     0.0      0.0     0.0     0.0      0.0      0.0  amind   \n",
              "\n",
              "     HYST MALDIET LFDIETF2  DVT   PE STROKE  TIA   MI  SCANEMIA CHF_F2  \\\n",
              "1   amind     0.0      0.0  0.0  0.0    0.0  0.0  0.0       0.0    0.0   \n",
              "2     0.0     0.0      0.0  0.0  0.0    0.0  0.0  0.0       0.0    0.0   \n",
              "5   amind     0.0      0.0  0.0  0.0    0.0  0.0  0.0       0.0    0.0   \n",
              "10    0.0     0.0      0.0  0.0  0.0    0.0  0.0  0.0       0.0    0.0   \n",
              "17    0.0     0.0      0.0  0.0  0.0    0.0  0.0  0.0       0.0    0.0   \n",
              "\n",
              "   LIVERDIS BLDPROB L15LBS6M  DIALYSIS OTHCHRON  HARDSTDY COMECC HORMSTAT  \\\n",
              "1       0.0     0.0      0.0       0.0      0.0       0.0  amind      0.0   \n",
              "2       0.0     0.0      0.0       0.0      0.0       0.0  amind      0.0   \n",
              "5       0.0     0.0      0.0       0.0    amind       0.0  amind      0.0   \n",
              "10      0.0     0.0      0.0       0.0      0.0       0.0  amind    asian   \n",
              "17      0.0     0.0      0.0       0.0      0.0       0.0  amind    amind   \n",
              "\n",
              "   DIABTRT  dm_intervention  ht_trial  ht_intervention  cad_trial  \\\n",
              "1      0.0             True      True             True       True   \n",
              "2      0.0            False      True            False       True   \n",
              "5      0.0            False      True             True       True   \n",
              "10     0.0            False     False            False      False   \n",
              "17     0.0            False     False            False      False   \n",
              "\n",
              "    cad_intervention  EDUC  NOTWRK  RETIRED  HOMEMKR  EMPLOYED  DISABLED  \\\n",
              "1               True   7.0     0.0      0.0      0.0       1.0       0.0   \n",
              "2              False   6.0     0.0      1.0      0.0       0.0       0.0   \n",
              "5               True  10.0     0.0      0.0      0.0       1.0       0.0   \n",
              "10             False  11.0     0.0      0.0      0.0       0.0       0.0   \n",
              "17             False   6.0     0.0      1.0      0.0       1.0       0.0   \n",
              "\n",
              "    OTHWRK  JOBHMMKR  JOBMANGR  JOBTECH  JOBSERV  JOBLABOR  JOBOTH  MARITAL  \\\n",
              "1      0.0       0.0       0.0      1.0      0.0       0.0     0.0      4.0   \n",
              "2      0.0       NaN       NaN      NaN      NaN       NaN     NaN      4.0   \n",
              "5      0.0       0.0       1.0      0.0      0.0       0.0     0.0      3.0   \n",
              "10     1.0       0.0       1.0      0.0      0.0       0.0     0.0      4.0   \n",
              "17     0.0       1.0       0.0      1.0      0.0       0.0     0.0      4.0   \n",
              "\n",
              "    PEDUC  INCOME  CAREPROV  ABNPAP3Y  CERVDYS  MAINJOB  HOSP2Y  GLAUCOMA  \\\n",
              "1     6.0     5.0       1.0       0.0      0.0      2.0     0.0       0.0   \n",
              "2     7.0     4.0       1.0       0.0      0.0      NaN     0.0       1.0   \n",
              "5     NaN     3.0       1.0       0.0      0.0      1.0     0.0       0.0   \n",
              "10    6.0     5.0       1.0       0.0      0.0      1.0     0.0       0.0   \n",
              "17    6.0     6.0       1.0       0.0      0.0      2.0     0.0       0.0   \n",
              "\n",
              "    CATARACT  HICHOLRP  ASTHMA  EMPHYSEM  KIDNEYST  HIBLDCA  STOMULCR  \\\n",
              "1        0.0       0.0     0.0       0.0       1.0      0.0       0.0   \n",
              "2        1.0       0.0     0.0       0.0       0.0      0.0       0.0   \n",
              "5        0.0       0.0     0.0       0.0       0.0      0.0       0.0   \n",
              "10       0.0       0.0     0.0       0.0       0.0      0.0       0.0   \n",
              "17       0.0       0.0     0.0       0.0       0.0      0.0       1.0   \n",
              "\n",
              "    DIVERTIC  COLITIS  LUPUS  PANCREAT  OSTEOPOR  HIPREP  OTHJREP  INTESTRM  \\\n",
              "1        0.0      1.0    0.0       0.0       0.0     0.0      0.0       0.0   \n",
              "2        0.0      0.0    0.0       0.0       0.0     0.0      0.0       0.0   \n",
              "5        0.0      0.0    0.0       0.0       0.0     0.0      0.0       0.0   \n",
              "10       0.0      0.0    0.0       0.0       0.0     0.0      0.0       0.0   \n",
              "17       0.0      0.0    0.0       0.0       0.0     0.0      0.0       0.0   \n",
              "\n",
              "    MIGRAINE  ALZHEIM  ...  HARDEXP  MODEXP  MILDEXP  AVWKEXP   FFWKEXP  \\\n",
              "1        0.0      0.0  ...      0.0    0.00      0.0    0.000   0.00000   \n",
              "2        0.0      0.0  ...      3.5   15.75      3.0    0.000  23.33333   \n",
              "5        0.0      0.0  ...      0.0    1.50      0.0    0.000   0.00000   \n",
              "10       1.0      0.0  ...      0.0    0.00      0.0    0.000   0.00000   \n",
              "17       0.0      0.0  ...     17.5    0.00      0.0    1.875   0.00000   \n",
              "\n",
              "    VFWKEXP   ALCSWK  ALCOHOL  PACKYRS  PACKYRSC  FAMILYDVTEVR  FAMILYPEEVR  \\\n",
              "1       0.0  4.94231      5.0     30.0       3.0           9.0          9.0   \n",
              "2       0.0  0.00000      2.0      0.0       0.0           0.0          0.0   \n",
              "5       0.0  0.00000      2.0     15.0       2.0           0.0          0.0   \n",
              "10      0.0  0.42308      4.0      0.0       0.0           0.0          0.0   \n",
              "17      0.0  2.63462      5.0     35.0       3.0           0.0          0.0   \n",
              "\n",
              "      sbp   dbp       bmi  RECENCY   OC  DES  DMPA  TOTE  TOTP  TOTH  TEST  \\\n",
              "1   125.0  84.0  41.22847      0.0  1.0  0.0   0.0   0.0   0.0   0.0   0.0   \n",
              "2   176.0  92.0  22.30924      0.0  0.0  0.0   0.0   0.0   0.0   0.0   0.0   \n",
              "5   104.0  69.0  26.87263      0.0  1.0  0.0   0.0   0.0   0.0   0.0   0.0   \n",
              "10  133.0  84.0  28.91433      4.0  1.0  0.0   0.0   0.0   1.0   1.0   0.0   \n",
              "17  137.0  86.0  31.43576      2.0  0.0  0.0   0.0   0.0   1.0   1.0   0.0   \n",
              "\n",
              "    ESTR   F45VITA  F45VITE  F45VITB1  F45VTB12  F45VITB2  F45VITB6   F45BETA  \\\n",
              "1    0.0     0.000    0.000     0.000     0.000     0.000     0.000     0.000   \n",
              "2    0.0   642.857   12.857     0.643     2.571     0.729     0.857  1928.571   \n",
              "5    0.0     0.000    0.000     0.000     0.000     0.000     0.000     0.000   \n",
              "10   0.0  1500.000   30.000     1.500     6.000     1.700     2.000  4500.000   \n",
              "17   0.0     0.000  400.000     0.000     0.000     0.000     0.000     0.000   \n",
              "\n",
              "    F45BIOT  F45VITC  F45CALC  F45CHROM  F45COPP  F45VITD  F45FOLIC  F45IRON  \\\n",
              "1       0.0    0.000    0.000       0.0    0.000    0.000     0.000    0.000   \n",
              "2       0.0   25.714   69.429       0.0    0.857    4.286   171.429    7.714   \n",
              "5       0.0    0.000    0.000       0.0    0.000    0.000     0.000    0.000   \n",
              "10      0.0   75.000  487.000       0.0    2.000   15.000   400.000   18.000   \n",
              "17      0.0    0.000  600.000       0.0    0.000    0.000     0.000    0.000   \n",
              "\n",
              "    F45MAGN  F45MANG  F45MOLYB  F45NIAC  F45PANTO  F45RETIN  F45SELEN  \\\n",
              "1     0.000      0.0       0.0    0.000       0.0     0.000     0.000   \n",
              "2    42.857      0.0       0.0    8.571       0.0   321.429     8.571   \n",
              "5     0.000      0.0       0.0    0.000       0.0     0.000     0.000   \n",
              "10  179.000      0.0       0.0   20.000       0.0   750.000    20.000   \n",
              "17    0.000      0.0       0.0    0.000       0.0     0.000     0.000   \n",
              "\n",
              "    F45ZINC  F45MULTI  F45MVMIN  F45STRES  F45OTHCM  F45COMBP  LIFEQUAL  \\\n",
              "1     0.000         0         0         0         0         0       9.0   \n",
              "2     6.429         0         1         0         0         1      10.0   \n",
              "5     0.000         0         0         0         0         0       8.0   \n",
              "10   15.000         0         1         0         1         1      10.0   \n",
              "17    0.000         0         0         0         0         0      10.0   \n",
              "\n",
              "    SATLIFE  GENHEL  HLTHC1Y  VIGACT  MODACT  LIFTGROC  HRSSLP  EMOLIMIT  \\\n",
              "1       9.0     3.0      4.0     1.0     3.0       3.0     1.0     100.0   \n",
              "2      10.0     1.0      2.0     2.0     3.0       3.0     2.0     100.0   \n",
              "5       8.0     1.0      3.0     2.0     3.0       3.0     3.0     100.0   \n",
              "10     10.0     3.0      4.0     1.0     2.0       3.0     4.0     100.0   \n",
              "17     10.0     1.0      2.0     2.0     3.0       3.0     3.0     100.0   \n",
              "\n",
              "    EMOWELL  ENERFAT  HOSTIL  GENHLTH  LFEVENT1  LIVALOR  NEGEMOT  OPTIMISM  \\\n",
              "1      84.0     25.0     4.0     70.0       1.0      0.0     3.50      23.0   \n",
              "2      80.0     80.0     8.0     90.0       0.0      0.0     2.75      20.0   \n",
              "5      88.0     65.0     1.0     85.0       2.0      1.0     3.00      24.0   \n",
              "10     80.0     40.0     1.0     70.0       3.0      0.0     3.25      27.0   \n",
              "17     96.0     65.0     3.0     85.0       1.0      0.0     2.50      30.0   \n",
              "\n",
              "     PAIN  PSHTDEP  SLPDSTRB  SOCFUNC  SOCSTRN  SOCSUPP  SYMPTOM  chd  \\\n",
              "1    50.0  0.00144       7.0    100.0     10.0     34.0  0.38235    0   \n",
              "2   100.0  0.00552       5.0    100.0     10.0      NaN      NaN    0   \n",
              "5   100.0  0.00144       0.0    100.0     10.0     36.0  0.47059    0   \n",
              "10   50.0  0.00144       1.0     87.5      7.0     42.0  0.32353    0   \n",
              "17  100.0  0.00144       6.0    100.0      4.0     39.0  0.05882    0   \n",
              "\n",
              "    isch_stroke  hemo_stroke  death  cvd_death  non_cvd_death  dm  mi  chf  \\\n",
              "1             0            0      0          0              0   0   0    0   \n",
              "2             0            0      0          0              0   0   0    0   \n",
              "5             0            0      0          0              0   0   0    0   \n",
              "10            0            0      0          0              0   0   0    0   \n",
              "17            0            0      0          0              0   0   0    0   \n",
              "\n",
              "    dsmi  dvt  psmi  mitotal  cvd_binary  \n",
              "1      0    0     0        0           0  \n",
              "2      0    0     0        0           0  \n",
              "5      0    0     0        0           0  \n",
              "10     0    0     0        0           0  \n",
              "17     0    0     0        0           0  \n",
              "\n",
              "[5 rows x 291 columns]"
            ],
            "text/html": [
              "\n",
              "  <div id=\"df-674a6505-f798-494f-b926-bcf05d639ca1\">\n",
              "    <div class=\"colab-df-container\">\n",
              "      <div>\n",
              "<style scoped>\n",
              "    .dataframe tbody tr th:only-of-type {\n",
              "        vertical-align: middle;\n",
              "    }\n",
              "\n",
              "    .dataframe tbody tr th {\n",
              "        vertical-align: top;\n",
              "    }\n",
              "\n",
              "    .dataframe thead th {\n",
              "        text-align: right;\n",
              "    }\n",
              "</style>\n",
              "<table border=\"1\" class=\"dataframe\">\n",
              "  <thead>\n",
              "    <tr style=\"text-align: right;\">\n",
              "      <th></th>\n",
              "      <th>cancer</th>\n",
              "      <th>fat_down</th>\n",
              "      <th>SCORE_baseline_sleep_p0.05_0.05</th>\n",
              "      <th>sugar_pct</th>\n",
              "      <th>baseline_sugar</th>\n",
              "      <th>SCORE_inso_all_group</th>\n",
              "      <th>baseline_sleep</th>\n",
              "      <th>baseline_tot_cal</th>\n",
              "      <th>baseline_fat</th>\n",
              "      <th>baseline_pro</th>\n",
              "      <th>baseline_cho</th>\n",
              "      <th>baseline_sfa</th>\n",
              "      <th>baseline_mufa</th>\n",
              "      <th>baseline_pufa</th>\n",
              "      <th>baseline_alc</th>\n",
              "      <th>baseline_palm</th>\n",
              "      <th>baseline_n3</th>\n",
              "      <th>hei</th>\n",
              "      <th>myhei</th>\n",
              "      <th>age</th>\n",
              "      <th>BRCA_F2</th>\n",
              "      <th>COLON_F2</th>\n",
              "      <th>ENDO_F2</th>\n",
              "      <th>SKIN_F2</th>\n",
              "      <th>MELAN_F2</th>\n",
              "      <th>OTHCA10Y</th>\n",
              "      <th>HORM</th>\n",
              "      <th>HYST</th>\n",
              "      <th>MALDIET</th>\n",
              "      <th>LFDIETF2</th>\n",
              "      <th>DVT</th>\n",
              "      <th>PE</th>\n",
              "      <th>STROKE</th>\n",
              "      <th>TIA</th>\n",
              "      <th>MI</th>\n",
              "      <th>SCANEMIA</th>\n",
              "      <th>CHF_F2</th>\n",
              "      <th>LIVERDIS</th>\n",
              "      <th>BLDPROB</th>\n",
              "      <th>L15LBS6M</th>\n",
              "      <th>DIALYSIS</th>\n",
              "      <th>OTHCHRON</th>\n",
              "      <th>HARDSTDY</th>\n",
              "      <th>COMECC</th>\n",
              "      <th>HORMSTAT</th>\n",
              "      <th>DIABTRT</th>\n",
              "      <th>dm_intervention</th>\n",
              "      <th>ht_trial</th>\n",
              "      <th>ht_intervention</th>\n",
              "      <th>cad_trial</th>\n",
              "      <th>cad_intervention</th>\n",
              "      <th>EDUC</th>\n",
              "      <th>NOTWRK</th>\n",
              "      <th>RETIRED</th>\n",
              "      <th>HOMEMKR</th>\n",
              "      <th>EMPLOYED</th>\n",
              "      <th>DISABLED</th>\n",
              "      <th>OTHWRK</th>\n",
              "      <th>JOBHMMKR</th>\n",
              "      <th>JOBMANGR</th>\n",
              "      <th>JOBTECH</th>\n",
              "      <th>JOBSERV</th>\n",
              "      <th>JOBLABOR</th>\n",
              "      <th>JOBOTH</th>\n",
              "      <th>MARITAL</th>\n",
              "      <th>PEDUC</th>\n",
              "      <th>INCOME</th>\n",
              "      <th>CAREPROV</th>\n",
              "      <th>ABNPAP3Y</th>\n",
              "      <th>CERVDYS</th>\n",
              "      <th>MAINJOB</th>\n",
              "      <th>HOSP2Y</th>\n",
              "      <th>GLAUCOMA</th>\n",
              "      <th>CATARACT</th>\n",
              "      <th>HICHOLRP</th>\n",
              "      <th>ASTHMA</th>\n",
              "      <th>EMPHYSEM</th>\n",
              "      <th>KIDNEYST</th>\n",
              "      <th>HIBLDCA</th>\n",
              "      <th>STOMULCR</th>\n",
              "      <th>DIVERTIC</th>\n",
              "      <th>COLITIS</th>\n",
              "      <th>LUPUS</th>\n",
              "      <th>PANCREAT</th>\n",
              "      <th>OSTEOPOR</th>\n",
              "      <th>HIPREP</th>\n",
              "      <th>OTHJREP</th>\n",
              "      <th>INTESTRM</th>\n",
              "      <th>MIGRAINE</th>\n",
              "      <th>ALZHEIM</th>\n",
              "      <th>...</th>\n",
              "      <th>HARDEXP</th>\n",
              "      <th>MODEXP</th>\n",
              "      <th>MILDEXP</th>\n",
              "      <th>AVWKEXP</th>\n",
              "      <th>FFWKEXP</th>\n",
              "      <th>VFWKEXP</th>\n",
              "      <th>ALCSWK</th>\n",
              "      <th>ALCOHOL</th>\n",
              "      <th>PACKYRS</th>\n",
              "      <th>PACKYRSC</th>\n",
              "      <th>FAMILYDVTEVR</th>\n",
              "      <th>FAMILYPEEVR</th>\n",
              "      <th>sbp</th>\n",
              "      <th>dbp</th>\n",
              "      <th>bmi</th>\n",
              "      <th>RECENCY</th>\n",
              "      <th>OC</th>\n",
              "      <th>DES</th>\n",
              "      <th>DMPA</th>\n",
              "      <th>TOTE</th>\n",
              "      <th>TOTP</th>\n",
              "      <th>TOTH</th>\n",
              "      <th>TEST</th>\n",
              "      <th>ESTR</th>\n",
              "      <th>F45VITA</th>\n",
              "      <th>F45VITE</th>\n",
              "      <th>F45VITB1</th>\n",
              "      <th>F45VTB12</th>\n",
              "      <th>F45VITB2</th>\n",
              "      <th>F45VITB6</th>\n",
              "      <th>F45BETA</th>\n",
              "      <th>F45BIOT</th>\n",
              "      <th>F45VITC</th>\n",
              "      <th>F45CALC</th>\n",
              "      <th>F45CHROM</th>\n",
              "      <th>F45COPP</th>\n",
              "      <th>F45VITD</th>\n",
              "      <th>F45FOLIC</th>\n",
              "      <th>F45IRON</th>\n",
              "      <th>F45MAGN</th>\n",
              "      <th>F45MANG</th>\n",
              "      <th>F45MOLYB</th>\n",
              "      <th>F45NIAC</th>\n",
              "      <th>F45PANTO</th>\n",
              "      <th>F45RETIN</th>\n",
              "      <th>F45SELEN</th>\n",
              "      <th>F45ZINC</th>\n",
              "      <th>F45MULTI</th>\n",
              "      <th>F45MVMIN</th>\n",
              "      <th>F45STRES</th>\n",
              "      <th>F45OTHCM</th>\n",
              "      <th>F45COMBP</th>\n",
              "      <th>LIFEQUAL</th>\n",
              "      <th>SATLIFE</th>\n",
              "      <th>GENHEL</th>\n",
              "      <th>HLTHC1Y</th>\n",
              "      <th>VIGACT</th>\n",
              "      <th>MODACT</th>\n",
              "      <th>LIFTGROC</th>\n",
              "      <th>HRSSLP</th>\n",
              "      <th>EMOLIMIT</th>\n",
              "      <th>EMOWELL</th>\n",
              "      <th>ENERFAT</th>\n",
              "      <th>HOSTIL</th>\n",
              "      <th>GENHLTH</th>\n",
              "      <th>LFEVENT1</th>\n",
              "      <th>LIVALOR</th>\n",
              "      <th>NEGEMOT</th>\n",
              "      <th>OPTIMISM</th>\n",
              "      <th>PAIN</th>\n",
              "      <th>PSHTDEP</th>\n",
              "      <th>SLPDSTRB</th>\n",
              "      <th>SOCFUNC</th>\n",
              "      <th>SOCSTRN</th>\n",
              "      <th>SOCSUPP</th>\n",
              "      <th>SYMPTOM</th>\n",
              "      <th>chd</th>\n",
              "      <th>isch_stroke</th>\n",
              "      <th>hemo_stroke</th>\n",
              "      <th>death</th>\n",
              "      <th>cvd_death</th>\n",
              "      <th>non_cvd_death</th>\n",
              "      <th>dm</th>\n",
              "      <th>mi</th>\n",
              "      <th>chf</th>\n",
              "      <th>dsmi</th>\n",
              "      <th>dvt</th>\n",
              "      <th>psmi</th>\n",
              "      <th>mitotal</th>\n",
              "      <th>cvd_binary</th>\n",
              "    </tr>\n",
              "  </thead>\n",
              "  <tbody>\n",
              "    <tr>\n",
              "      <th>1</th>\n",
              "      <td>0</td>\n",
              "      <td>True</td>\n",
              "      <td>557.363</td>\n",
              "      <td>0.141641</td>\n",
              "      <td>53.98778</td>\n",
              "      <td>0.000207</td>\n",
              "      <td>7.0</td>\n",
              "      <td>1524.63584</td>\n",
              "      <td>66.72611</td>\n",
              "      <td>60.70822</td>\n",
              "      <td>155.72613</td>\n",
              "      <td>13.92200</td>\n",
              "      <td>24.03499</td>\n",
              "      <td>23.54255</td>\n",
              "      <td>10.01349</td>\n",
              "      <td>8.64331</td>\n",
              "      <td>2.54322</td>\n",
              "      <td>63.98034</td>\n",
              "      <td>-0.003884</td>\n",
              "      <td>51</td>\n",
              "      <td>0.0</td>\n",
              "      <td>0.0</td>\n",
              "      <td>0.0</td>\n",
              "      <td>0.0</td>\n",
              "      <td>0.0</td>\n",
              "      <td>0.0</td>\n",
              "      <td>0.0</td>\n",
              "      <td>amind</td>\n",
              "      <td>0.0</td>\n",
              "      <td>0.0</td>\n",
              "      <td>0.0</td>\n",
              "      <td>0.0</td>\n",
              "      <td>0.0</td>\n",
              "      <td>0.0</td>\n",
              "      <td>0.0</td>\n",
              "      <td>0.0</td>\n",
              "      <td>0.0</td>\n",
              "      <td>0.0</td>\n",
              "      <td>0.0</td>\n",
              "      <td>0.0</td>\n",
              "      <td>0.0</td>\n",
              "      <td>0.0</td>\n",
              "      <td>0.0</td>\n",
              "      <td>amind</td>\n",
              "      <td>0.0</td>\n",
              "      <td>0.0</td>\n",
              "      <td>True</td>\n",
              "      <td>True</td>\n",
              "      <td>True</td>\n",
              "      <td>True</td>\n",
              "      <td>True</td>\n",
              "      <td>7.0</td>\n",
              "      <td>0.0</td>\n",
              "      <td>0.0</td>\n",
              "      <td>0.0</td>\n",
              "      <td>1.0</td>\n",
              "      <td>0.0</td>\n",
              "      <td>0.0</td>\n",
              "      <td>0.0</td>\n",
              "      <td>0.0</td>\n",
              "      <td>1.0</td>\n",
              "      <td>0.0</td>\n",
              "      <td>0.0</td>\n",
              "      <td>0.0</td>\n",
              "      <td>4.0</td>\n",
              "      <td>6.0</td>\n",
              "      <td>5.0</td>\n",
              "      <td>1.0</td>\n",
              "      <td>0.0</td>\n",
              "      <td>0.0</td>\n",
              "      <td>2.0</td>\n",
              "      <td>0.0</td>\n",
              "      <td>0.0</td>\n",
              "      <td>0.0</td>\n",
              "      <td>0.0</td>\n",
              "      <td>0.0</td>\n",
              "      <td>0.0</td>\n",
              "      <td>1.0</td>\n",
              "      <td>0.0</td>\n",
              "      <td>0.0</td>\n",
              "      <td>0.0</td>\n",
              "      <td>1.0</td>\n",
              "      <td>0.0</td>\n",
              "      <td>0.0</td>\n",
              "      <td>0.0</td>\n",
              "      <td>0.0</td>\n",
              "      <td>0.0</td>\n",
              "      <td>0.0</td>\n",
              "      <td>0.0</td>\n",
              "      <td>0.0</td>\n",
              "      <td>...</td>\n",
              "      <td>0.0</td>\n",
              "      <td>0.00</td>\n",
              "      <td>0.0</td>\n",
              "      <td>0.000</td>\n",
              "      <td>0.00000</td>\n",
              "      <td>0.0</td>\n",
              "      <td>4.94231</td>\n",
              "      <td>5.0</td>\n",
              "      <td>30.0</td>\n",
              "      <td>3.0</td>\n",
              "      <td>9.0</td>\n",
              "      <td>9.0</td>\n",
              "      <td>125.0</td>\n",
              "      <td>84.0</td>\n",
              "      <td>41.22847</td>\n",
              "      <td>0.0</td>\n",
              "      <td>1.0</td>\n",
              "      <td>0.0</td>\n",
              "      <td>0.0</td>\n",
              "      <td>0.0</td>\n",
              "      <td>0.0</td>\n",
              "      <td>0.0</td>\n",
              "      <td>0.0</td>\n",
              "      <td>0.0</td>\n",
              "      <td>0.000</td>\n",
              "      <td>0.000</td>\n",
              "      <td>0.000</td>\n",
              "      <td>0.000</td>\n",
              "      <td>0.000</td>\n",
              "      <td>0.000</td>\n",
              "      <td>0.000</td>\n",
              "      <td>0.0</td>\n",
              "      <td>0.000</td>\n",
              "      <td>0.000</td>\n",
              "      <td>0.0</td>\n",
              "      <td>0.000</td>\n",
              "      <td>0.000</td>\n",
              "      <td>0.000</td>\n",
              "      <td>0.000</td>\n",
              "      <td>0.000</td>\n",
              "      <td>0.0</td>\n",
              "      <td>0.0</td>\n",
              "      <td>0.000</td>\n",
              "      <td>0.0</td>\n",
              "      <td>0.000</td>\n",
              "      <td>0.000</td>\n",
              "      <td>0.000</td>\n",
              "      <td>0</td>\n",
              "      <td>0</td>\n",
              "      <td>0</td>\n",
              "      <td>0</td>\n",
              "      <td>0</td>\n",
              "      <td>9.0</td>\n",
              "      <td>9.0</td>\n",
              "      <td>3.0</td>\n",
              "      <td>4.0</td>\n",
              "      <td>1.0</td>\n",
              "      <td>3.0</td>\n",
              "      <td>3.0</td>\n",
              "      <td>1.0</td>\n",
              "      <td>100.0</td>\n",
              "      <td>84.0</td>\n",
              "      <td>25.0</td>\n",
              "      <td>4.0</td>\n",
              "      <td>70.0</td>\n",
              "      <td>1.0</td>\n",
              "      <td>0.0</td>\n",
              "      <td>3.50</td>\n",
              "      <td>23.0</td>\n",
              "      <td>50.0</td>\n",
              "      <td>0.00144</td>\n",
              "      <td>7.0</td>\n",
              "      <td>100.0</td>\n",
              "      <td>10.0</td>\n",
              "      <td>34.0</td>\n",
              "      <td>0.38235</td>\n",
              "      <td>0</td>\n",
              "      <td>0</td>\n",
              "      <td>0</td>\n",
              "      <td>0</td>\n",
              "      <td>0</td>\n",
              "      <td>0</td>\n",
              "      <td>0</td>\n",
              "      <td>0</td>\n",
              "      <td>0</td>\n",
              "      <td>0</td>\n",
              "      <td>0</td>\n",
              "      <td>0</td>\n",
              "      <td>0</td>\n",
              "      <td>0</td>\n",
              "    </tr>\n",
              "    <tr>\n",
              "      <th>2</th>\n",
              "      <td>0</td>\n",
              "      <td>True</td>\n",
              "      <td>545.961</td>\n",
              "      <td>0.209902</td>\n",
              "      <td>64.46801</td>\n",
              "      <td>0.000162</td>\n",
              "      <td>5.0</td>\n",
              "      <td>1228.53449</td>\n",
              "      <td>40.19991</td>\n",
              "      <td>58.67646</td>\n",
              "      <td>160.10975</td>\n",
              "      <td>13.59158</td>\n",
              "      <td>14.54817</td>\n",
              "      <td>8.02075</td>\n",
              "      <td>0.00493</td>\n",
              "      <td>7.44353</td>\n",
              "      <td>0.82732</td>\n",
              "      <td>67.62396</td>\n",
              "      <td>-0.005394</td>\n",
              "      <td>70</td>\n",
              "      <td>0.0</td>\n",
              "      <td>0.0</td>\n",
              "      <td>0.0</td>\n",
              "      <td>0.0</td>\n",
              "      <td>0.0</td>\n",
              "      <td>0.0</td>\n",
              "      <td>0.0</td>\n",
              "      <td>0.0</td>\n",
              "      <td>0.0</td>\n",
              "      <td>0.0</td>\n",
              "      <td>0.0</td>\n",
              "      <td>0.0</td>\n",
              "      <td>0.0</td>\n",
              "      <td>0.0</td>\n",
              "      <td>0.0</td>\n",
              "      <td>0.0</td>\n",
              "      <td>0.0</td>\n",
              "      <td>0.0</td>\n",
              "      <td>0.0</td>\n",
              "      <td>0.0</td>\n",
              "      <td>0.0</td>\n",
              "      <td>0.0</td>\n",
              "      <td>0.0</td>\n",
              "      <td>amind</td>\n",
              "      <td>0.0</td>\n",
              "      <td>0.0</td>\n",
              "      <td>False</td>\n",
              "      <td>True</td>\n",
              "      <td>False</td>\n",
              "      <td>True</td>\n",
              "      <td>False</td>\n",
              "      <td>6.0</td>\n",
              "      <td>0.0</td>\n",
              "      <td>1.0</td>\n",
              "      <td>0.0</td>\n",
              "      <td>0.0</td>\n",
              "      <td>0.0</td>\n",
              "      <td>0.0</td>\n",
              "      <td>NaN</td>\n",
              "      <td>NaN</td>\n",
              "      <td>NaN</td>\n",
              "      <td>NaN</td>\n",
              "      <td>NaN</td>\n",
              "      <td>NaN</td>\n",
              "      <td>4.0</td>\n",
              "      <td>7.0</td>\n",
              "      <td>4.0</td>\n",
              "      <td>1.0</td>\n",
              "      <td>0.0</td>\n",
              "      <td>0.0</td>\n",
              "      <td>NaN</td>\n",
              "      <td>0.0</td>\n",
              "      <td>1.0</td>\n",
              "      <td>1.0</td>\n",
              "      <td>0.0</td>\n",
              "      <td>0.0</td>\n",
              "      <td>0.0</td>\n",
              "      <td>0.0</td>\n",
              "      <td>0.0</td>\n",
              "      <td>0.0</td>\n",
              "      <td>0.0</td>\n",
              "      <td>0.0</td>\n",
              "      <td>0.0</td>\n",
              "      <td>0.0</td>\n",
              "      <td>0.0</td>\n",
              "      <td>0.0</td>\n",
              "      <td>0.0</td>\n",
              "      <td>0.0</td>\n",
              "      <td>0.0</td>\n",
              "      <td>0.0</td>\n",
              "      <td>...</td>\n",
              "      <td>3.5</td>\n",
              "      <td>15.75</td>\n",
              "      <td>3.0</td>\n",
              "      <td>0.000</td>\n",
              "      <td>23.33333</td>\n",
              "      <td>0.0</td>\n",
              "      <td>0.00000</td>\n",
              "      <td>2.0</td>\n",
              "      <td>0.0</td>\n",
              "      <td>0.0</td>\n",
              "      <td>0.0</td>\n",
              "      <td>0.0</td>\n",
              "      <td>176.0</td>\n",
              "      <td>92.0</td>\n",
              "      <td>22.30924</td>\n",
              "      <td>0.0</td>\n",
              "      <td>0.0</td>\n",
              "      <td>0.0</td>\n",
              "      <td>0.0</td>\n",
              "      <td>0.0</td>\n",
              "      <td>0.0</td>\n",
              "      <td>0.0</td>\n",
              "      <td>0.0</td>\n",
              "      <td>0.0</td>\n",
              "      <td>642.857</td>\n",
              "      <td>12.857</td>\n",
              "      <td>0.643</td>\n",
              "      <td>2.571</td>\n",
              "      <td>0.729</td>\n",
              "      <td>0.857</td>\n",
              "      <td>1928.571</td>\n",
              "      <td>0.0</td>\n",
              "      <td>25.714</td>\n",
              "      <td>69.429</td>\n",
              "      <td>0.0</td>\n",
              "      <td>0.857</td>\n",
              "      <td>4.286</td>\n",
              "      <td>171.429</td>\n",
              "      <td>7.714</td>\n",
              "      <td>42.857</td>\n",
              "      <td>0.0</td>\n",
              "      <td>0.0</td>\n",
              "      <td>8.571</td>\n",
              "      <td>0.0</td>\n",
              "      <td>321.429</td>\n",
              "      <td>8.571</td>\n",
              "      <td>6.429</td>\n",
              "      <td>0</td>\n",
              "      <td>1</td>\n",
              "      <td>0</td>\n",
              "      <td>0</td>\n",
              "      <td>1</td>\n",
              "      <td>10.0</td>\n",
              "      <td>10.0</td>\n",
              "      <td>1.0</td>\n",
              "      <td>2.0</td>\n",
              "      <td>2.0</td>\n",
              "      <td>3.0</td>\n",
              "      <td>3.0</td>\n",
              "      <td>2.0</td>\n",
              "      <td>100.0</td>\n",
              "      <td>80.0</td>\n",
              "      <td>80.0</td>\n",
              "      <td>8.0</td>\n",
              "      <td>90.0</td>\n",
              "      <td>0.0</td>\n",
              "      <td>0.0</td>\n",
              "      <td>2.75</td>\n",
              "      <td>20.0</td>\n",
              "      <td>100.0</td>\n",
              "      <td>0.00552</td>\n",
              "      <td>5.0</td>\n",
              "      <td>100.0</td>\n",
              "      <td>10.0</td>\n",
              "      <td>NaN</td>\n",
              "      <td>NaN</td>\n",
              "      <td>0</td>\n",
              "      <td>0</td>\n",
              "      <td>0</td>\n",
              "      <td>0</td>\n",
              "      <td>0</td>\n",
              "      <td>0</td>\n",
              "      <td>0</td>\n",
              "      <td>0</td>\n",
              "      <td>0</td>\n",
              "      <td>0</td>\n",
              "      <td>0</td>\n",
              "      <td>0</td>\n",
              "      <td>0</td>\n",
              "      <td>0</td>\n",
              "    </tr>\n",
              "    <tr>\n",
              "      <th>5</th>\n",
              "      <td>0</td>\n",
              "      <td>True</td>\n",
              "      <td>559.216</td>\n",
              "      <td>0.141025</td>\n",
              "      <td>86.62391</td>\n",
              "      <td>0.000280</td>\n",
              "      <td>0.0</td>\n",
              "      <td>2456.97239</td>\n",
              "      <td>109.57551</td>\n",
              "      <td>105.39777</td>\n",
              "      <td>268.58096</td>\n",
              "      <td>40.51814</td>\n",
              "      <td>37.89930</td>\n",
              "      <td>22.66372</td>\n",
              "      <td>0.04528</td>\n",
              "      <td>21.16896</td>\n",
              "      <td>2.34198</td>\n",
              "      <td>56.51048</td>\n",
              "      <td>-0.000171</td>\n",
              "      <td>54</td>\n",
              "      <td>0.0</td>\n",
              "      <td>0.0</td>\n",
              "      <td>0.0</td>\n",
              "      <td>0.0</td>\n",
              "      <td>0.0</td>\n",
              "      <td>0.0</td>\n",
              "      <td>0.0</td>\n",
              "      <td>amind</td>\n",
              "      <td>0.0</td>\n",
              "      <td>0.0</td>\n",
              "      <td>0.0</td>\n",
              "      <td>0.0</td>\n",
              "      <td>0.0</td>\n",
              "      <td>0.0</td>\n",
              "      <td>0.0</td>\n",
              "      <td>0.0</td>\n",
              "      <td>0.0</td>\n",
              "      <td>0.0</td>\n",
              "      <td>0.0</td>\n",
              "      <td>0.0</td>\n",
              "      <td>0.0</td>\n",
              "      <td>amind</td>\n",
              "      <td>0.0</td>\n",
              "      <td>amind</td>\n",
              "      <td>0.0</td>\n",
              "      <td>0.0</td>\n",
              "      <td>False</td>\n",
              "      <td>True</td>\n",
              "      <td>True</td>\n",
              "      <td>True</td>\n",
              "      <td>True</td>\n",
              "      <td>10.0</td>\n",
              "      <td>0.0</td>\n",
              "      <td>0.0</td>\n",
              "      <td>0.0</td>\n",
              "      <td>1.0</td>\n",
              "      <td>0.0</td>\n",
              "      <td>0.0</td>\n",
              "      <td>0.0</td>\n",
              "      <td>1.0</td>\n",
              "      <td>0.0</td>\n",
              "      <td>0.0</td>\n",
              "      <td>0.0</td>\n",
              "      <td>0.0</td>\n",
              "      <td>3.0</td>\n",
              "      <td>NaN</td>\n",
              "      <td>3.0</td>\n",
              "      <td>1.0</td>\n",
              "      <td>0.0</td>\n",
              "      <td>0.0</td>\n",
              "      <td>1.0</td>\n",
              "      <td>0.0</td>\n",
              "      <td>0.0</td>\n",
              "      <td>0.0</td>\n",
              "      <td>0.0</td>\n",
              "      <td>0.0</td>\n",
              "      <td>0.0</td>\n",
              "      <td>0.0</td>\n",
              "      <td>0.0</td>\n",
              "      <td>0.0</td>\n",
              "      <td>0.0</td>\n",
              "      <td>0.0</td>\n",
              "      <td>0.0</td>\n",
              "      <td>0.0</td>\n",
              "      <td>0.0</td>\n",
              "      <td>0.0</td>\n",
              "      <td>0.0</td>\n",
              "      <td>0.0</td>\n",
              "      <td>0.0</td>\n",
              "      <td>0.0</td>\n",
              "      <td>...</td>\n",
              "      <td>0.0</td>\n",
              "      <td>1.50</td>\n",
              "      <td>0.0</td>\n",
              "      <td>0.000</td>\n",
              "      <td>0.00000</td>\n",
              "      <td>0.0</td>\n",
              "      <td>0.00000</td>\n",
              "      <td>2.0</td>\n",
              "      <td>15.0</td>\n",
              "      <td>2.0</td>\n",
              "      <td>0.0</td>\n",
              "      <td>0.0</td>\n",
              "      <td>104.0</td>\n",
              "      <td>69.0</td>\n",
              "      <td>26.87263</td>\n",
              "      <td>0.0</td>\n",
              "      <td>1.0</td>\n",
              "      <td>0.0</td>\n",
              "      <td>0.0</td>\n",
              "      <td>0.0</td>\n",
              "      <td>0.0</td>\n",
              "      <td>0.0</td>\n",
              "      <td>0.0</td>\n",
              "      <td>0.0</td>\n",
              "      <td>0.000</td>\n",
              "      <td>0.000</td>\n",
              "      <td>0.000</td>\n",
              "      <td>0.000</td>\n",
              "      <td>0.000</td>\n",
              "      <td>0.000</td>\n",
              "      <td>0.000</td>\n",
              "      <td>0.0</td>\n",
              "      <td>0.000</td>\n",
              "      <td>0.000</td>\n",
              "      <td>0.0</td>\n",
              "      <td>0.000</td>\n",
              "      <td>0.000</td>\n",
              "      <td>0.000</td>\n",
              "      <td>0.000</td>\n",
              "      <td>0.000</td>\n",
              "      <td>0.0</td>\n",
              "      <td>0.0</td>\n",
              "      <td>0.000</td>\n",
              "      <td>0.0</td>\n",
              "      <td>0.000</td>\n",
              "      <td>0.000</td>\n",
              "      <td>0.000</td>\n",
              "      <td>0</td>\n",
              "      <td>0</td>\n",
              "      <td>0</td>\n",
              "      <td>0</td>\n",
              "      <td>0</td>\n",
              "      <td>8.0</td>\n",
              "      <td>8.0</td>\n",
              "      <td>1.0</td>\n",
              "      <td>3.0</td>\n",
              "      <td>2.0</td>\n",
              "      <td>3.0</td>\n",
              "      <td>3.0</td>\n",
              "      <td>3.0</td>\n",
              "      <td>100.0</td>\n",
              "      <td>88.0</td>\n",
              "      <td>65.0</td>\n",
              "      <td>1.0</td>\n",
              "      <td>85.0</td>\n",
              "      <td>2.0</td>\n",
              "      <td>1.0</td>\n",
              "      <td>3.00</td>\n",
              "      <td>24.0</td>\n",
              "      <td>100.0</td>\n",
              "      <td>0.00144</td>\n",
              "      <td>0.0</td>\n",
              "      <td>100.0</td>\n",
              "      <td>10.0</td>\n",
              "      <td>36.0</td>\n",
              "      <td>0.47059</td>\n",
              "      <td>0</td>\n",
              "      <td>0</td>\n",
              "      <td>0</td>\n",
              "      <td>0</td>\n",
              "      <td>0</td>\n",
              "      <td>0</td>\n",
              "      <td>0</td>\n",
              "      <td>0</td>\n",
              "      <td>0</td>\n",
              "      <td>0</td>\n",
              "      <td>0</td>\n",
              "      <td>0</td>\n",
              "      <td>0</td>\n",
              "      <td>0</td>\n",
              "    </tr>\n",
              "    <tr>\n",
              "      <th>10</th>\n",
              "      <td>0</td>\n",
              "      <td>NaN</td>\n",
              "      <td>546.154</td>\n",
              "      <td>0.172255</td>\n",
              "      <td>57.80864</td>\n",
              "      <td>0.000221</td>\n",
              "      <td>1.0</td>\n",
              "      <td>1342.39753</td>\n",
              "      <td>60.72256</td>\n",
              "      <td>66.03346</td>\n",
              "      <td>135.05701</td>\n",
              "      <td>19.13607</td>\n",
              "      <td>21.25042</td>\n",
              "      <td>15.35011</td>\n",
              "      <td>0.85690</td>\n",
              "      <td>10.43022</td>\n",
              "      <td>1.81833</td>\n",
              "      <td>71.94189</td>\n",
              "      <td>-0.002127</td>\n",
              "      <td>64</td>\n",
              "      <td>0.0</td>\n",
              "      <td>0.0</td>\n",
              "      <td>0.0</td>\n",
              "      <td>0.0</td>\n",
              "      <td>0.0</td>\n",
              "      <td>0.0</td>\n",
              "      <td>amind</td>\n",
              "      <td>0.0</td>\n",
              "      <td>0.0</td>\n",
              "      <td>0.0</td>\n",
              "      <td>0.0</td>\n",
              "      <td>0.0</td>\n",
              "      <td>0.0</td>\n",
              "      <td>0.0</td>\n",
              "      <td>0.0</td>\n",
              "      <td>0.0</td>\n",
              "      <td>0.0</td>\n",
              "      <td>0.0</td>\n",
              "      <td>0.0</td>\n",
              "      <td>0.0</td>\n",
              "      <td>0.0</td>\n",
              "      <td>0.0</td>\n",
              "      <td>0.0</td>\n",
              "      <td>amind</td>\n",
              "      <td>asian</td>\n",
              "      <td>0.0</td>\n",
              "      <td>False</td>\n",
              "      <td>False</td>\n",
              "      <td>False</td>\n",
              "      <td>False</td>\n",
              "      <td>False</td>\n",
              "      <td>11.0</td>\n",
              "      <td>0.0</td>\n",
              "      <td>0.0</td>\n",
              "      <td>0.0</td>\n",
              "      <td>0.0</td>\n",
              "      <td>0.0</td>\n",
              "      <td>1.0</td>\n",
              "      <td>0.0</td>\n",
              "      <td>1.0</td>\n",
              "      <td>0.0</td>\n",
              "      <td>0.0</td>\n",
              "      <td>0.0</td>\n",
              "      <td>0.0</td>\n",
              "      <td>4.0</td>\n",
              "      <td>6.0</td>\n",
              "      <td>5.0</td>\n",
              "      <td>1.0</td>\n",
              "      <td>0.0</td>\n",
              "      <td>0.0</td>\n",
              "      <td>1.0</td>\n",
              "      <td>0.0</td>\n",
              "      <td>0.0</td>\n",
              "      <td>0.0</td>\n",
              "      <td>0.0</td>\n",
              "      <td>0.0</td>\n",
              "      <td>0.0</td>\n",
              "      <td>0.0</td>\n",
              "      <td>0.0</td>\n",
              "      <td>0.0</td>\n",
              "      <td>0.0</td>\n",
              "      <td>0.0</td>\n",
              "      <td>0.0</td>\n",
              "      <td>0.0</td>\n",
              "      <td>0.0</td>\n",
              "      <td>0.0</td>\n",
              "      <td>0.0</td>\n",
              "      <td>0.0</td>\n",
              "      <td>1.0</td>\n",
              "      <td>0.0</td>\n",
              "      <td>...</td>\n",
              "      <td>0.0</td>\n",
              "      <td>0.00</td>\n",
              "      <td>0.0</td>\n",
              "      <td>0.000</td>\n",
              "      <td>0.00000</td>\n",
              "      <td>0.0</td>\n",
              "      <td>0.42308</td>\n",
              "      <td>4.0</td>\n",
              "      <td>0.0</td>\n",
              "      <td>0.0</td>\n",
              "      <td>0.0</td>\n",
              "      <td>0.0</td>\n",
              "      <td>133.0</td>\n",
              "      <td>84.0</td>\n",
              "      <td>28.91433</td>\n",
              "      <td>4.0</td>\n",
              "      <td>1.0</td>\n",
              "      <td>0.0</td>\n",
              "      <td>0.0</td>\n",
              "      <td>0.0</td>\n",
              "      <td>1.0</td>\n",
              "      <td>1.0</td>\n",
              "      <td>0.0</td>\n",
              "      <td>0.0</td>\n",
              "      <td>1500.000</td>\n",
              "      <td>30.000</td>\n",
              "      <td>1.500</td>\n",
              "      <td>6.000</td>\n",
              "      <td>1.700</td>\n",
              "      <td>2.000</td>\n",
              "      <td>4500.000</td>\n",
              "      <td>0.0</td>\n",
              "      <td>75.000</td>\n",
              "      <td>487.000</td>\n",
              "      <td>0.0</td>\n",
              "      <td>2.000</td>\n",
              "      <td>15.000</td>\n",
              "      <td>400.000</td>\n",
              "      <td>18.000</td>\n",
              "      <td>179.000</td>\n",
              "      <td>0.0</td>\n",
              "      <td>0.0</td>\n",
              "      <td>20.000</td>\n",
              "      <td>0.0</td>\n",
              "      <td>750.000</td>\n",
              "      <td>20.000</td>\n",
              "      <td>15.000</td>\n",
              "      <td>0</td>\n",
              "      <td>1</td>\n",
              "      <td>0</td>\n",
              "      <td>1</td>\n",
              "      <td>1</td>\n",
              "      <td>10.0</td>\n",
              "      <td>10.0</td>\n",
              "      <td>3.0</td>\n",
              "      <td>4.0</td>\n",
              "      <td>1.0</td>\n",
              "      <td>2.0</td>\n",
              "      <td>3.0</td>\n",
              "      <td>4.0</td>\n",
              "      <td>100.0</td>\n",
              "      <td>80.0</td>\n",
              "      <td>40.0</td>\n",
              "      <td>1.0</td>\n",
              "      <td>70.0</td>\n",
              "      <td>3.0</td>\n",
              "      <td>0.0</td>\n",
              "      <td>3.25</td>\n",
              "      <td>27.0</td>\n",
              "      <td>50.0</td>\n",
              "      <td>0.00144</td>\n",
              "      <td>1.0</td>\n",
              "      <td>87.5</td>\n",
              "      <td>7.0</td>\n",
              "      <td>42.0</td>\n",
              "      <td>0.32353</td>\n",
              "      <td>0</td>\n",
              "      <td>0</td>\n",
              "      <td>0</td>\n",
              "      <td>0</td>\n",
              "      <td>0</td>\n",
              "      <td>0</td>\n",
              "      <td>0</td>\n",
              "      <td>0</td>\n",
              "      <td>0</td>\n",
              "      <td>0</td>\n",
              "      <td>0</td>\n",
              "      <td>0</td>\n",
              "      <td>0</td>\n",
              "      <td>0</td>\n",
              "    </tr>\n",
              "    <tr>\n",
              "      <th>17</th>\n",
              "      <td>0</td>\n",
              "      <td>True</td>\n",
              "      <td>542.074</td>\n",
              "      <td>0.146029</td>\n",
              "      <td>33.85894</td>\n",
              "      <td>0.000187</td>\n",
              "      <td>6.0</td>\n",
              "      <td>927.45758</td>\n",
              "      <td>35.68079</td>\n",
              "      <td>47.81902</td>\n",
              "      <td>94.63045</td>\n",
              "      <td>10.81763</td>\n",
              "      <td>14.23365</td>\n",
              "      <td>7.57422</td>\n",
              "      <td>6.22589</td>\n",
              "      <td>5.98474</td>\n",
              "      <td>1.29323</td>\n",
              "      <td>74.03998</td>\n",
              "      <td>-0.005694</td>\n",
              "      <td>62</td>\n",
              "      <td>0.0</td>\n",
              "      <td>0.0</td>\n",
              "      <td>0.0</td>\n",
              "      <td>0.0</td>\n",
              "      <td>0.0</td>\n",
              "      <td>0.0</td>\n",
              "      <td>amind</td>\n",
              "      <td>0.0</td>\n",
              "      <td>0.0</td>\n",
              "      <td>0.0</td>\n",
              "      <td>0.0</td>\n",
              "      <td>0.0</td>\n",
              "      <td>0.0</td>\n",
              "      <td>0.0</td>\n",
              "      <td>0.0</td>\n",
              "      <td>0.0</td>\n",
              "      <td>0.0</td>\n",
              "      <td>0.0</td>\n",
              "      <td>0.0</td>\n",
              "      <td>0.0</td>\n",
              "      <td>0.0</td>\n",
              "      <td>0.0</td>\n",
              "      <td>0.0</td>\n",
              "      <td>amind</td>\n",
              "      <td>amind</td>\n",
              "      <td>0.0</td>\n",
              "      <td>False</td>\n",
              "      <td>False</td>\n",
              "      <td>False</td>\n",
              "      <td>False</td>\n",
              "      <td>False</td>\n",
              "      <td>6.0</td>\n",
              "      <td>0.0</td>\n",
              "      <td>1.0</td>\n",
              "      <td>0.0</td>\n",
              "      <td>1.0</td>\n",
              "      <td>0.0</td>\n",
              "      <td>0.0</td>\n",
              "      <td>1.0</td>\n",
              "      <td>0.0</td>\n",
              "      <td>1.0</td>\n",
              "      <td>0.0</td>\n",
              "      <td>0.0</td>\n",
              "      <td>0.0</td>\n",
              "      <td>4.0</td>\n",
              "      <td>6.0</td>\n",
              "      <td>6.0</td>\n",
              "      <td>1.0</td>\n",
              "      <td>0.0</td>\n",
              "      <td>0.0</td>\n",
              "      <td>2.0</td>\n",
              "      <td>0.0</td>\n",
              "      <td>0.0</td>\n",
              "      <td>0.0</td>\n",
              "      <td>0.0</td>\n",
              "      <td>0.0</td>\n",
              "      <td>0.0</td>\n",
              "      <td>0.0</td>\n",
              "      <td>0.0</td>\n",
              "      <td>1.0</td>\n",
              "      <td>0.0</td>\n",
              "      <td>0.0</td>\n",
              "      <td>0.0</td>\n",
              "      <td>0.0</td>\n",
              "      <td>0.0</td>\n",
              "      <td>0.0</td>\n",
              "      <td>0.0</td>\n",
              "      <td>0.0</td>\n",
              "      <td>0.0</td>\n",
              "      <td>0.0</td>\n",
              "      <td>...</td>\n",
              "      <td>17.5</td>\n",
              "      <td>0.00</td>\n",
              "      <td>0.0</td>\n",
              "      <td>1.875</td>\n",
              "      <td>0.00000</td>\n",
              "      <td>0.0</td>\n",
              "      <td>2.63462</td>\n",
              "      <td>5.0</td>\n",
              "      <td>35.0</td>\n",
              "      <td>3.0</td>\n",
              "      <td>0.0</td>\n",
              "      <td>0.0</td>\n",
              "      <td>137.0</td>\n",
              "      <td>86.0</td>\n",
              "      <td>31.43576</td>\n",
              "      <td>2.0</td>\n",
              "      <td>0.0</td>\n",
              "      <td>0.0</td>\n",
              "      <td>0.0</td>\n",
              "      <td>0.0</td>\n",
              "      <td>1.0</td>\n",
              "      <td>1.0</td>\n",
              "      <td>0.0</td>\n",
              "      <td>0.0</td>\n",
              "      <td>0.000</td>\n",
              "      <td>400.000</td>\n",
              "      <td>0.000</td>\n",
              "      <td>0.000</td>\n",
              "      <td>0.000</td>\n",
              "      <td>0.000</td>\n",
              "      <td>0.000</td>\n",
              "      <td>0.0</td>\n",
              "      <td>0.000</td>\n",
              "      <td>600.000</td>\n",
              "      <td>0.0</td>\n",
              "      <td>0.000</td>\n",
              "      <td>0.000</td>\n",
              "      <td>0.000</td>\n",
              "      <td>0.000</td>\n",
              "      <td>0.000</td>\n",
              "      <td>0.0</td>\n",
              "      <td>0.0</td>\n",
              "      <td>0.000</td>\n",
              "      <td>0.0</td>\n",
              "      <td>0.000</td>\n",
              "      <td>0.000</td>\n",
              "      <td>0.000</td>\n",
              "      <td>0</td>\n",
              "      <td>0</td>\n",
              "      <td>0</td>\n",
              "      <td>0</td>\n",
              "      <td>0</td>\n",
              "      <td>10.0</td>\n",
              "      <td>10.0</td>\n",
              "      <td>1.0</td>\n",
              "      <td>2.0</td>\n",
              "      <td>2.0</td>\n",
              "      <td>3.0</td>\n",
              "      <td>3.0</td>\n",
              "      <td>3.0</td>\n",
              "      <td>100.0</td>\n",
              "      <td>96.0</td>\n",
              "      <td>65.0</td>\n",
              "      <td>3.0</td>\n",
              "      <td>85.0</td>\n",
              "      <td>1.0</td>\n",
              "      <td>0.0</td>\n",
              "      <td>2.50</td>\n",
              "      <td>30.0</td>\n",
              "      <td>100.0</td>\n",
              "      <td>0.00144</td>\n",
              "      <td>6.0</td>\n",
              "      <td>100.0</td>\n",
              "      <td>4.0</td>\n",
              "      <td>39.0</td>\n",
              "      <td>0.05882</td>\n",
              "      <td>0</td>\n",
              "      <td>0</td>\n",
              "      <td>0</td>\n",
              "      <td>0</td>\n",
              "      <td>0</td>\n",
              "      <td>0</td>\n",
              "      <td>0</td>\n",
              "      <td>0</td>\n",
              "      <td>0</td>\n",
              "      <td>0</td>\n",
              "      <td>0</td>\n",
              "      <td>0</td>\n",
              "      <td>0</td>\n",
              "      <td>0</td>\n",
              "    </tr>\n",
              "  </tbody>\n",
              "</table>\n",
              "<p>5 rows × 291 columns</p>\n",
              "</div>\n",
              "      <button class=\"colab-df-convert\" onclick=\"convertToInteractive('df-674a6505-f798-494f-b926-bcf05d639ca1')\"\n",
              "              title=\"Convert this dataframe to an interactive table.\"\n",
              "              style=\"display:none;\">\n",
              "        \n",
              "  <svg xmlns=\"http://www.w3.org/2000/svg\" height=\"24px\"viewBox=\"0 0 24 24\"\n",
              "       width=\"24px\">\n",
              "    <path d=\"M0 0h24v24H0V0z\" fill=\"none\"/>\n",
              "    <path d=\"M18.56 5.44l.94 2.06.94-2.06 2.06-.94-2.06-.94-.94-2.06-.94 2.06-2.06.94zm-11 1L8.5 8.5l.94-2.06 2.06-.94-2.06-.94L8.5 2.5l-.94 2.06-2.06.94zm10 10l.94 2.06.94-2.06 2.06-.94-2.06-.94-.94-2.06-.94 2.06-2.06.94z\"/><path d=\"M17.41 7.96l-1.37-1.37c-.4-.4-.92-.59-1.43-.59-.52 0-1.04.2-1.43.59L10.3 9.45l-7.72 7.72c-.78.78-.78 2.05 0 2.83L4 21.41c.39.39.9.59 1.41.59.51 0 1.02-.2 1.41-.59l7.78-7.78 2.81-2.81c.8-.78.8-2.07 0-2.86zM5.41 20L4 18.59l7.72-7.72 1.47 1.35L5.41 20z\"/>\n",
              "  </svg>\n",
              "      </button>\n",
              "      \n",
              "  <style>\n",
              "    .colab-df-container {\n",
              "      display:flex;\n",
              "      flex-wrap:wrap;\n",
              "      gap: 12px;\n",
              "    }\n",
              "\n",
              "    .colab-df-convert {\n",
              "      background-color: #E8F0FE;\n",
              "      border: none;\n",
              "      border-radius: 50%;\n",
              "      cursor: pointer;\n",
              "      display: none;\n",
              "      fill: #1967D2;\n",
              "      height: 32px;\n",
              "      padding: 0 0 0 0;\n",
              "      width: 32px;\n",
              "    }\n",
              "\n",
              "    .colab-df-convert:hover {\n",
              "      background-color: #E2EBFA;\n",
              "      box-shadow: 0px 1px 2px rgba(60, 64, 67, 0.3), 0px 1px 3px 1px rgba(60, 64, 67, 0.15);\n",
              "      fill: #174EA6;\n",
              "    }\n",
              "\n",
              "    [theme=dark] .colab-df-convert {\n",
              "      background-color: #3B4455;\n",
              "      fill: #D2E3FC;\n",
              "    }\n",
              "\n",
              "    [theme=dark] .colab-df-convert:hover {\n",
              "      background-color: #434B5C;\n",
              "      box-shadow: 0px 1px 3px 1px rgba(0, 0, 0, 0.15);\n",
              "      filter: drop-shadow(0px 1px 2px rgba(0, 0, 0, 0.3));\n",
              "      fill: #FFFFFF;\n",
              "    }\n",
              "  </style>\n",
              "\n",
              "      <script>\n",
              "        const buttonEl =\n",
              "          document.querySelector('#df-674a6505-f798-494f-b926-bcf05d639ca1 button.colab-df-convert');\n",
              "        buttonEl.style.display =\n",
              "          google.colab.kernel.accessAllowed ? 'block' : 'none';\n",
              "\n",
              "        async function convertToInteractive(key) {\n",
              "          const element = document.querySelector('#df-674a6505-f798-494f-b926-bcf05d639ca1');\n",
              "          const dataTable =\n",
              "            await google.colab.kernel.invokeFunction('convertToInteractive',\n",
              "                                                     [key], {});\n",
              "          if (!dataTable) return;\n",
              "\n",
              "          const docLinkHtml = 'Like what you see? Visit the ' +\n",
              "            '<a target=\"_blank\" href=https://colab.research.google.com/notebooks/data_table.ipynb>data table notebook</a>'\n",
              "            + ' to learn more about interactive tables.';\n",
              "          element.innerHTML = '';\n",
              "          dataTable['output_type'] = 'display_data';\n",
              "          await google.colab.output.renderOutput(dataTable, element);\n",
              "          const docLink = document.createElement('div');\n",
              "          docLink.innerHTML = docLinkHtml;\n",
              "          element.appendChild(docLink);\n",
              "        }\n",
              "      </script>\n",
              "    </div>\n",
              "  </div>\n",
              "  "
            ]
          },
          "metadata": {},
          "execution_count": 272
        }
      ]
    },
    {
      "cell_type": "code",
      "source": [
        "# get column names of missing variables\n",
        "missing_variables = df_update1.isnull().columns\n",
        "print(missing_variables)"
      ],
      "metadata": {
        "id": "dnqGseVnRuRa",
        "colab": {
          "base_uri": "https://localhost:8080/"
        },
        "outputId": "64546dcf-acb8-49dc-e67b-493ff6c52b74"
      },
      "execution_count": null,
      "outputs": [
        {
          "output_type": "stream",
          "name": "stdout",
          "text": [
            "Index(['cancer', 'fat_down', 'SCORE_baseline_sleep_p0.05_0.05', 'sugar_pct',\n",
            "       'baseline_sugar', 'SCORE_inso_all_group', 'baseline_sleep',\n",
            "       'baseline_tot_cal', 'baseline_fat', 'baseline_pro',\n",
            "       ...\n",
            "       'cvd_death', 'non_cvd_death', 'dm', 'mi', 'chf', 'dsmi', 'dvt', 'psmi',\n",
            "       'mitotal', 'cvd_binary'],\n",
            "      dtype='object', length=291)\n"
          ]
        }
      ]
    },
    {
      "cell_type": "code",
      "source": [
        "# 可视化缺失值\n",
        "import matplotlib.pyplot as plt\n",
        "import pylab as pl\n",
        "# 统计缺失值数量\n",
        "missing=df_update1.isnull().sum().reset_index().rename(columns={0:'missNum'})\n",
        "# 计算缺失比例\n",
        "missing['missRate']=missing['missNum']/df_update1.shape[0]\n",
        "# 按照缺失率排序显示\n",
        "miss_analy=missing[missing.missRate>0].sort_values(by='missRate',ascending=False)\n",
        "# miss_analy 存储的是每个变量缺失情况的数据框"
      ],
      "metadata": {
        "id": "L_BKUoAIRxhV"
      },
      "execution_count": null,
      "outputs": []
    },
    {
      "cell_type": "code",
      "source": [
        "fig = plt.figure(figsize=(40,6))\n",
        "plt.bar(np.arange(miss_analy.shape[0]), list(miss_analy.missRate.values), align = 'center',\n",
        "        color=['red','green','yellow','steelblue'])\n",
        "\n",
        "plt.title('Histogram of missing value of variables')\n",
        "plt.xlabel('variables names')\n",
        "plt.ylabel('missing rate')\n",
        "# 添加x轴标签，并旋转90度\n",
        "plt.xticks(np.arange(miss_analy.shape[0]),list(miss_analy['index']))\n",
        "pl.xticks(rotation=90)\n",
        "# 添加数值显示\n",
        "for x,y in enumerate(list(miss_analy.missRate.values)):\n",
        "    plt.text(x,y+0.12,'{:.2%}'.format(y),ha='center',rotation=60)    \n",
        "plt.ylim([0,1.2])\n",
        "    \n",
        "plt.show()"
      ],
      "metadata": {
        "colab": {
          "base_uri": "https://localhost:8080/",
          "height": 421
        },
        "id": "9MADgnbKR4BJ",
        "outputId": "c05b8900-5011-49fe-93b7-876e5b079d26"
      },
      "execution_count": null,
      "outputs": [
        {
          "output_type": "display_data",
          "data": {
            "text/plain": [
              "<Figure size 4000x600 with 1 Axes>"
            ],
            "image/png": "[encoded data removed]"
          },
          "metadata": {}
        }
      ]
    },
    {
      "cell_type": "code",
      "source": [
        "# 查看缺失值的数据类型，为后续不同类型填充策略做准备\n",
        "missing_variables = df_update1.columns[df_update1.isnull().any()]\n",
        "missing_df = df_update1[missing_variables]"
      ],
      "metadata": {
        "id": "uLzP3ivAS1h3"
      },
      "execution_count": null,
      "outputs": []
    },
    {
      "cell_type": "code",
      "source": [
        "missing_df.dtypes.value_counts()"
      ],
      "metadata": {
        "colab": {
          "base_uri": "https://localhost:8080/"
        },
        "id": "lqZdDoAkS8Nd",
        "outputId": "093a0def-2786-47ee-9438-aba2a7e5c209"
      },
      "execution_count": null,
      "outputs": [
        {
          "output_type": "execute_result",
          "data": {
            "text/plain": [
              "float64    190\n",
              "object      10\n",
              "dtype: int64"
            ]
          },
          "metadata": {},
          "execution_count": 278
        }
      ]
    },
    {
      "cell_type": "code",
      "source": [
        "# 定义热图函数，查看不同缺失值之间的关联\n",
        "def HeatMap(df, x=True):\n",
        "  correlations = df.corr()\n",
        "  ## creat color map ranging between two colors\n",
        "  ## diverging_palette()为创建两种颜色过渡色板\n",
        "  cmap = sns.diverging_palette(100, 10,as_cmap=True)\n",
        "  fig, ax = plt.subplots(figsize=(35,35))\n",
        "  ## heatmap中参数: vmin和vmax定义图卡颜色，用于锚定颜色图的值\n",
        "  # cmap 颜色映射名称或对象; fmt 添加注释时要使用的字符串格式化代码\n",
        "  #fmt='.2f',当Annot为TRUE时才有用，显示数值的小数点位数\n",
        "  fig = sns.heatmap(correlations, cmap=cmap, vmax=1.0, vmin=-1.0,\n",
        "                    square=True,linewidths=.05, \n",
        "                    annot=False, cbar_kws={'shrink': .25})\n",
        "                   #mask = abs(correlations) <0.9 )\n",
        "  fig.set_xticklabels(fig.get_xticklabels(), rotation = 90, fontsize = 9)\n",
        "  fig.set_yticklabels(fig.get_yticklabels(), rotation = 0, fontsize = 9)\n",
        "  plt.tight_layout()\n",
        "  plt.show()\n",
        "HeatMap(missing_df,x=True)"
      ],
      "metadata": {
        "id": "NCHZmI58S-tn"
      },
      "execution_count": null,
      "outputs": []
    },
    {
      "cell_type": "code",
      "source": [
        "#查看缺失值之间的关联性，删除关联系数 >0.9的变量\n",
        "missing_cor = missing_df.corr()\n",
        "sub_missing_cor = []\n",
        "for index in missing_cor.index:\n",
        "  for i in range(len(missing_cor.loc[index].values)):\n",
        "     if((missing_cor.loc[index].values[i] >= 0.9) & (missing_cor.loc[index].values[i]<1)):\n",
        " #sub = missing_cor.where((np.abs(missing_cor[i]).isin(0.9,1), print(missing_cor.loc[i,i])))\n",
        "     #sub_missing_cor.append(sub)\n",
        "        print(index, i)\n",
        "        print(missing_cor.loc[index].values[i])"
      ],
      "metadata": {
        "id": "sx3XQnjETRcS"
      },
      "execution_count": null,
      "outputs": []
    },
    {
      "cell_type": "code",
      "source": [
        "df_update1 = (df_update1.drop(columns=['MSMINWK','HTNTRT','BRTHLIVN','PARITY','BRSTDIS','SMOKING','NUMLIVER','SEPIWK','TMINWK','TEXPWK','HARDEXP']))"
      ],
      "metadata": {
        "id": "MtCP4kUtTsh9"
      },
      "execution_count": null,
      "outputs": []
    },
    {
      "cell_type": "code",
      "source": [
        "# 查看缺失值的数据类型，为后续不同类型填充策略做准备\n",
        "missing_variables = df_update1.columns[df_update1.isnull().any()]\n",
        "missing_df =  df_update1[missing_variables]\n",
        "#HeatMap(missing_df,x=True)"
      ],
      "metadata": {
        "id": "jut4QzxiUmPf"
      },
      "execution_count": null,
      "outputs": []
    },
    {
      "cell_type": "code",
      "source": [
        "missing_values_table(df_update1)"
      ],
      "metadata": {
        "id": "HQryppgyVsGZ",
        "colab": {
          "base_uri": "https://localhost:8080/",
          "height": 428
        },
        "outputId": "cfaf9f23-feff-47ee-fa37-82e57f8cf923"
      },
      "execution_count": null,
      "outputs": [
        {
          "output_type": "stream",
          "name": "stdout",
          "text": [
            "Your selected dataframe has 280 columns.\n",
            "There are 189 columns that have missing values.\n"
          ]
        },
        {
          "output_type": "execute_result",
          "data": {
            "text/plain": [
              "          Missing Values  % of Total Values\n",
              "PEDUC               2290               39.3\n",
              "HEMOCCDT            2064               35.4\n",
              "WALKMIN             1735               29.7\n",
              "WALKSPD             1730               29.7\n",
              "FRACT55             1377               23.6\n",
              "...                  ...                ...\n",
              "BLDPROB                2                0.0\n",
              "DVT                    2                0.0\n",
              "DIABTRT                1                0.0\n",
              "PE                     1                0.0\n",
              "RECENCY                1                0.0\n",
              "\n",
              "[189 rows x 2 columns]"
            ],
            "text/html": [
              "\n",
              "  <div id=\"df-c0894285-75be-481e-94dc-09ea911b7d09\">\n",
              "    <div class=\"colab-df-container\">\n",
              "      <div>\n",
              "<style scoped>\n",
              "    .dataframe tbody tr th:only-of-type {\n",
              "        vertical-align: middle;\n",
              "    }\n",
              "\n",
              "    .dataframe tbody tr th {\n",
              "        vertical-align: top;\n",
              "    }\n",
              "\n",
              "    .dataframe thead th {\n",
              "        text-align: right;\n",
              "    }\n",
              "</style>\n",
              "<table border=\"1\" class=\"dataframe\">\n",
              "  <thead>\n",
              "    <tr style=\"text-align: right;\">\n",
              "      <th></th>\n",
              "      <th>Missing Values</th>\n",
              "      <th>% of Total Values</th>\n",
              "    </tr>\n",
              "  </thead>\n",
              "  <tbody>\n",
              "    <tr>\n",
              "      <th>PEDUC</th>\n",
              "      <td>2290</td>\n",
              "      <td>39.3</td>\n",
              "    </tr>\n",
              "    <tr>\n",
              "      <th>HEMOCCDT</th>\n",
              "      <td>2064</td>\n",
              "      <td>35.4</td>\n",
              "    </tr>\n",
              "    <tr>\n",
              "      <th>WALKMIN</th>\n",
              "      <td>1735</td>\n",
              "      <td>29.7</td>\n",
              "    </tr>\n",
              "    <tr>\n",
              "      <th>WALKSPD</th>\n",
              "      <td>1730</td>\n",
              "      <td>29.7</td>\n",
              "    </tr>\n",
              "    <tr>\n",
              "      <th>FRACT55</th>\n",
              "      <td>1377</td>\n",
              "      <td>23.6</td>\n",
              "    </tr>\n",
              "    <tr>\n",
              "      <th>...</th>\n",
              "      <td>...</td>\n",
              "      <td>...</td>\n",
              "    </tr>\n",
              "    <tr>\n",
              "      <th>BLDPROB</th>\n",
              "      <td>2</td>\n",
              "      <td>0.0</td>\n",
              "    </tr>\n",
              "    <tr>\n",
              "      <th>DVT</th>\n",
              "      <td>2</td>\n",
              "      <td>0.0</td>\n",
              "    </tr>\n",
              "    <tr>\n",
              "      <th>DIABTRT</th>\n",
              "      <td>1</td>\n",
              "      <td>0.0</td>\n",
              "    </tr>\n",
              "    <tr>\n",
              "      <th>PE</th>\n",
              "      <td>1</td>\n",
              "      <td>0.0</td>\n",
              "    </tr>\n",
              "    <tr>\n",
              "      <th>RECENCY</th>\n",
              "      <td>1</td>\n",
              "      <td>0.0</td>\n",
              "    </tr>\n",
              "  </tbody>\n",
              "</table>\n",
              "<p>189 rows × 2 columns</p>\n",
              "</div>\n",
              "      <button class=\"colab-df-convert\" onclick=\"convertToInteractive('df-c0894285-75be-481e-94dc-09ea911b7d09')\"\n",
              "              title=\"Convert this dataframe to an interactive table.\"\n",
              "              style=\"display:none;\">\n",
              "        \n",
              "  <svg xmlns=\"http://www.w3.org/2000/svg\" height=\"24px\"viewBox=\"0 0 24 24\"\n",
              "       width=\"24px\">\n",
              "    <path d=\"M0 0h24v24H0V0z\" fill=\"none\"/>\n",
              "    <path d=\"M18.56 5.44l.94 2.06.94-2.06 2.06-.94-2.06-.94-.94-2.06-.94 2.06-2.06.94zm-11 1L8.5 8.5l.94-2.06 2.06-.94-2.06-.94L8.5 2.5l-.94 2.06-2.06.94zm10 10l.94 2.06.94-2.06 2.06-.94-2.06-.94-.94-2.06-.94 2.06-2.06.94z\"/><path d=\"M17.41 7.96l-1.37-1.37c-.4-.4-.92-.59-1.43-.59-.52 0-1.04.2-1.43.59L10.3 9.45l-7.72 7.72c-.78.78-.78 2.05 0 2.83L4 21.41c.39.39.9.59 1.41.59.51 0 1.02-.2 1.41-.59l7.78-7.78 2.81-2.81c.8-.78.8-2.07 0-2.86zM5.41 20L4 18.59l7.72-7.72 1.47 1.35L5.41 20z\"/>\n",
              "  </svg>\n",
              "      </button>\n",
              "      \n",
              "  <style>\n",
              "    .colab-df-container {\n",
              "      display:flex;\n",
              "      flex-wrap:wrap;\n",
              "      gap: 12px;\n",
              "    }\n",
              "\n",
              "    .colab-df-convert {\n",
              "      background-color: #E8F0FE;\n",
              "      border: none;\n",
              "      border-radius: 50%;\n",
              "      cursor: pointer;\n",
              "      display: none;\n",
              "      fill: #1967D2;\n",
              "      height: 32px;\n",
              "      padding: 0 0 0 0;\n",
              "      width: 32px;\n",
              "    }\n",
              "\n",
              "    .colab-df-convert:hover {\n",
              "      background-color: #E2EBFA;\n",
              "      box-shadow: 0px 1px 2px rgba(60, 64, 67, 0.3), 0px 1px 3px 1px rgba(60, 64, 67, 0.15);\n",
              "      fill: #174EA6;\n",
              "    }\n",
              "\n",
              "    [theme=dark] .colab-df-convert {\n",
              "      background-color: #3B4455;\n",
              "      fill: #D2E3FC;\n",
              "    }\n",
              "\n",
              "    [theme=dark] .colab-df-convert:hover {\n",
              "      background-color: #434B5C;\n",
              "      box-shadow: 0px 1px 3px 1px rgba(0, 0, 0, 0.15);\n",
              "      filter: drop-shadow(0px 1px 2px rgba(0, 0, 0, 0.3));\n",
              "      fill: #FFFFFF;\n",
              "    }\n",
              "  </style>\n",
              "\n",
              "      <script>\n",
              "        const buttonEl =\n",
              "          document.querySelector('#df-c0894285-75be-481e-94dc-09ea911b7d09 button.colab-df-convert');\n",
              "        buttonEl.style.display =\n",
              "          google.colab.kernel.accessAllowed ? 'block' : 'none';\n",
              "\n",
              "        async function convertToInteractive(key) {\n",
              "          const element = document.querySelector('#df-c0894285-75be-481e-94dc-09ea911b7d09');\n",
              "          const dataTable =\n",
              "            await google.colab.kernel.invokeFunction('convertToInteractive',\n",
              "                                                     [key], {});\n",
              "          if (!dataTable) return;\n",
              "\n",
              "          const docLinkHtml = 'Like what you see? Visit the ' +\n",
              "            '<a target=\"_blank\" href=https://colab.research.google.com/notebooks/data_table.ipynb>data table notebook</a>'\n",
              "            + ' to learn more about interactive tables.';\n",
              "          element.innerHTML = '';\n",
              "          dataTable['output_type'] = 'display_data';\n",
              "          await google.colab.output.renderOutput(dataTable, element);\n",
              "          const docLink = document.createElement('div');\n",
              "          docLink.innerHTML = docLinkHtml;\n",
              "          element.appendChild(docLink);\n",
              "        }\n",
              "      </script>\n",
              "    </div>\n",
              "  </div>\n",
              "  "
            ]
          },
          "metadata": {},
          "execution_count": 283
        }
      ]
    },
    {
      "cell_type": "code",
      "source": [
        "df_update2['MI'].value_counts()"
      ],
      "metadata": {
        "id": "Glo_6W7aetYZ",
        "outputId": "a020ae9b-9188-462d-a702-1df5b4080a68",
        "colab": {
          "base_uri": "https://localhost:8080/"
        }
      },
      "execution_count": null,
      "outputs": [
        {
          "output_type": "execute_result",
          "data": {
            "text/plain": [
              "0.0    5698\n",
              "1       134\n",
              "Name: MI, dtype: int64"
            ]
          },
          "metadata": {},
          "execution_count": 333
        }
      ]
    },
    {
      "cell_type": "code",
      "source": [
        "### 将缺失列中的文本数据填充为NAN为连续变量插入缺失值\n",
        "df_update2 = df_update1.replace('amind', 1)\n",
        "df_update3 = df_update2.replace('asian',np.nan)\n",
        "df_update3[missing_variables].dtypes.value_counts()"
      ],
      "metadata": {
        "colab": {
          "base_uri": "https://localhost:8080/"
        },
        "id": "-_5HT_yLV-Gw",
        "outputId": "8037a830-6101-467f-ffcb-481de1465ef5"
      },
      "execution_count": null,
      "outputs": [
        {
          "output_type": "execute_result",
          "data": {
            "text/plain": [
              "float64    179\n",
              "object      17\n",
              "dtype: int64"
            ]
          },
          "metadata": {},
          "execution_count": 330
        }
      ]
    },
    {
      "cell_type": "code",
      "source": [
        "## count missing values\n",
        "df3_missing = missing_values_table(df_update3)\n",
        "df3_missing"
      ],
      "metadata": {
        "id": "QGdONXGb1g83",
        "outputId": "54bb6e45-0e13-45ca-d349-09051dbd40ca",
        "colab": {
          "base_uri": "https://localhost:8080/",
          "height": 428
        }
      },
      "execution_count": null,
      "outputs": [
        {
          "output_type": "stream",
          "name": "stdout",
          "text": [
            "Your selected dataframe has 280 columns.\n",
            "There are 189 columns that have missing values.\n"
          ]
        },
        {
          "output_type": "execute_result",
          "data": {
            "text/plain": [
              "          Missing Values  % of Total Values\n",
              "PEDUC               2290               39.3\n",
              "HEMOCCDT            2064               35.4\n",
              "HORMSTAT            2034               34.9\n",
              "WALKMIN             1735               29.7\n",
              "WALKSPD             1730               29.7\n",
              "...                  ...                ...\n",
              "BLDPROB                2                0.0\n",
              "DVT                    2                0.0\n",
              "DIABTRT                1                0.0\n",
              "PE                     1                0.0\n",
              "RECENCY                1                0.0\n",
              "\n",
              "[189 rows x 2 columns]"
            ],
            "text/html": [
              "\n",
              "  <div id=\"df-4ae5d0a3-715b-44ee-9260-54158d464e98\">\n",
              "    <div class=\"colab-df-container\">\n",
              "      <div>\n",
              "<style scoped>\n",
              "    .dataframe tbody tr th:only-of-type {\n",
              "        vertical-align: middle;\n",
              "    }\n",
              "\n",
              "    .dataframe tbody tr th {\n",
              "        vertical-align: top;\n",
              "    }\n",
              "\n",
              "    .dataframe thead th {\n",
              "        text-align: right;\n",
              "    }\n",
              "</style>\n",
              "<table border=\"1\" class=\"dataframe\">\n",
              "  <thead>\n",
              "    <tr style=\"text-align: right;\">\n",
              "      <th></th>\n",
              "      <th>Missing Values</th>\n",
              "      <th>% of Total Values</th>\n",
              "    </tr>\n",
              "  </thead>\n",
              "  <tbody>\n",
              "    <tr>\n",
              "      <th>PEDUC</th>\n",
              "      <td>2290</td>\n",
              "      <td>39.3</td>\n",
              "    </tr>\n",
              "    <tr>\n",
              "      <th>HEMOCCDT</th>\n",
              "      <td>2064</td>\n",
              "      <td>35.4</td>\n",
              "    </tr>\n",
              "    <tr>\n",
              "      <th>HORMSTAT</th>\n",
              "      <td>2034</td>\n",
              "      <td>34.9</td>\n",
              "    </tr>\n",
              "    <tr>\n",
              "      <th>WALKMIN</th>\n",
              "      <td>1735</td>\n",
              "      <td>29.7</td>\n",
              "    </tr>\n",
              "    <tr>\n",
              "      <th>WALKSPD</th>\n",
              "      <td>1730</td>\n",
              "      <td>29.7</td>\n",
              "    </tr>\n",
              "    <tr>\n",
              "      <th>...</th>\n",
              "      <td>...</td>\n",
              "      <td>...</td>\n",
              "    </tr>\n",
              "    <tr>\n",
              "      <th>BLDPROB</th>\n",
              "      <td>2</td>\n",
              "      <td>0.0</td>\n",
              "    </tr>\n",
              "    <tr>\n",
              "      <th>DVT</th>\n",
              "      <td>2</td>\n",
              "      <td>0.0</td>\n",
              "    </tr>\n",
              "    <tr>\n",
              "      <th>DIABTRT</th>\n",
              "      <td>1</td>\n",
              "      <td>0.0</td>\n",
              "    </tr>\n",
              "    <tr>\n",
              "      <th>PE</th>\n",
              "      <td>1</td>\n",
              "      <td>0.0</td>\n",
              "    </tr>\n",
              "    <tr>\n",
              "      <th>RECENCY</th>\n",
              "      <td>1</td>\n",
              "      <td>0.0</td>\n",
              "    </tr>\n",
              "  </tbody>\n",
              "</table>\n",
              "<p>189 rows × 2 columns</p>\n",
              "</div>\n",
              "      <button class=\"colab-df-convert\" onclick=\"convertToInteractive('df-4ae5d0a3-715b-44ee-9260-54158d464e98')\"\n",
              "              title=\"Convert this dataframe to an interactive table.\"\n",
              "              style=\"display:none;\">\n",
              "        \n",
              "  <svg xmlns=\"http://www.w3.org/2000/svg\" height=\"24px\"viewBox=\"0 0 24 24\"\n",
              "       width=\"24px\">\n",
              "    <path d=\"M0 0h24v24H0V0z\" fill=\"none\"/>\n",
              "    <path d=\"M18.56 5.44l.94 2.06.94-2.06 2.06-.94-2.06-.94-.94-2.06-.94 2.06-2.06.94zm-11 1L8.5 8.5l.94-2.06 2.06-.94-2.06-.94L8.5 2.5l-.94 2.06-2.06.94zm10 10l.94 2.06.94-2.06 2.06-.94-2.06-.94-.94-2.06-.94 2.06-2.06.94z\"/><path d=\"M17.41 7.96l-1.37-1.37c-.4-.4-.92-.59-1.43-.59-.52 0-1.04.2-1.43.59L10.3 9.45l-7.72 7.72c-.78.78-.78 2.05 0 2.83L4 21.41c.39.39.9.59 1.41.59.51 0 1.02-.2 1.41-.59l7.78-7.78 2.81-2.81c.8-.78.8-2.07 0-2.86zM5.41 20L4 18.59l7.72-7.72 1.47 1.35L5.41 20z\"/>\n",
              "  </svg>\n",
              "      </button>\n",
              "      \n",
              "  <style>\n",
              "    .colab-df-container {\n",
              "      display:flex;\n",
              "      flex-wrap:wrap;\n",
              "      gap: 12px;\n",
              "    }\n",
              "\n",
              "    .colab-df-convert {\n",
              "      background-color: #E8F0FE;\n",
              "      border: none;\n",
              "      border-radius: 50%;\n",
              "      cursor: pointer;\n",
              "      display: none;\n",
              "      fill: #1967D2;\n",
              "      height: 32px;\n",
              "      padding: 0 0 0 0;\n",
              "      width: 32px;\n",
              "    }\n",
              "\n",
              "    .colab-df-convert:hover {\n",
              "      background-color: #E2EBFA;\n",
              "      box-shadow: 0px 1px 2px rgba(60, 64, 67, 0.3), 0px 1px 3px 1px rgba(60, 64, 67, 0.15);\n",
              "      fill: #174EA6;\n",
              "    }\n",
              "\n",
              "    [theme=dark] .colab-df-convert {\n",
              "      background-color: #3B4455;\n",
              "      fill: #D2E3FC;\n",
              "    }\n",
              "\n",
              "    [theme=dark] .colab-df-convert:hover {\n",
              "      background-color: #434B5C;\n",
              "      box-shadow: 0px 1px 3px 1px rgba(0, 0, 0, 0.15);\n",
              "      filter: drop-shadow(0px 1px 2px rgba(0, 0, 0, 0.3));\n",
              "      fill: #FFFFFF;\n",
              "    }\n",
              "  </style>\n",
              "\n",
              "      <script>\n",
              "        const buttonEl =\n",
              "          document.querySelector('#df-4ae5d0a3-715b-44ee-9260-54158d464e98 button.colab-df-convert');\n",
              "        buttonEl.style.display =\n",
              "          google.colab.kernel.accessAllowed ? 'block' : 'none';\n",
              "\n",
              "        async function convertToInteractive(key) {\n",
              "          const element = document.querySelector('#df-4ae5d0a3-715b-44ee-9260-54158d464e98');\n",
              "          const dataTable =\n",
              "            await google.colab.kernel.invokeFunction('convertToInteractive',\n",
              "                                                     [key], {});\n",
              "          if (!dataTable) return;\n",
              "\n",
              "          const docLinkHtml = 'Like what you see? Visit the ' +\n",
              "            '<a target=\"_blank\" href=https://colab.research.google.com/notebooks/data_table.ipynb>data table notebook</a>'\n",
              "            + ' to learn more about interactive tables.';\n",
              "          element.innerHTML = '';\n",
              "          dataTable['output_type'] = 'display_data';\n",
              "          await google.colab.output.renderOutput(dataTable, element);\n",
              "          const docLink = document.createElement('div');\n",
              "          docLink.innerHTML = docLinkHtml;\n",
              "          element.appendChild(docLink);\n",
              "        }\n",
              "      </script>\n",
              "    </div>\n",
              "  </div>\n",
              "  "
            ]
          },
          "metadata": {},
          "execution_count": 331
        }
      ]
    },
    {
      "cell_type": "code",
      "source": [
        "# detect missing values >40%\n",
        "df3_40_missing = df3_missing[df3_missing['% of Total Values'] > 40]\n",
        "df3_40_missing.index"
      ],
      "metadata": {
        "id": "OHuXjDWx2IPm",
        "outputId": "36c2c94e-e8f4-496a-900f-fcede035e533",
        "colab": {
          "base_uri": "https://localhost:8080/"
        }
      },
      "execution_count": null,
      "outputs": [
        {
          "output_type": "execute_result",
          "data": {
            "text/plain": [
              "Index([], dtype='object')"
            ]
          },
          "metadata": {},
          "execution_count": 334
        }
      ]
    },
    {
      "cell_type": "code",
      "source": [
        "## delete variables with missing values higher than 50%\n",
        "missing_vars = df3_40_missing.index\n",
        "df_update4 = (df_update3.drop(missing_vars,axis=1))"
      ],
      "metadata": {
        "id": "w3qdxfA7Q55W"
      },
      "execution_count": null,
      "outputs": []
    },
    {
      "cell_type": "code",
      "source": [
        "#df_update4 = (df_update4.drop(columns=['ENDO_F2','SKIN_F2','MELAN_F2','OTHCA10Y','MALDIET','LFDIETF2','DVT','PE','STROKE','TIA','MI','CHF_F2','LIVERDIS','BLDPROB','OTHCHRON','HARDSTDY']))"
      ],
      "metadata": {
        "id": "l87t_Mks3E3K"
      },
      "execution_count": null,
      "outputs": []
    },
    {
      "cell_type": "code",
      "source": [
        "missing_values_table(df_update4)"
      ],
      "metadata": {
        "id": "KIDbtqJ3RouE",
        "outputId": "5d5d45de-49d8-4ccf-f73e-48667b809c52",
        "colab": {
          "base_uri": "https://localhost:8080/",
          "height": 428
        }
      },
      "execution_count": null,
      "outputs": [
        {
          "output_type": "stream",
          "name": "stdout",
          "text": [
            "Your selected dataframe has 280 columns.\n",
            "There are 189 columns that have missing values.\n"
          ]
        },
        {
          "output_type": "execute_result",
          "data": {
            "text/plain": [
              "          Missing Values  % of Total Values\n",
              "PEDUC               2290               39.3\n",
              "HEMOCCDT            2064               35.4\n",
              "HORMSTAT            2034               34.9\n",
              "WALKMIN             1735               29.7\n",
              "WALKSPD             1730               29.7\n",
              "...                  ...                ...\n",
              "BLDPROB                2                0.0\n",
              "DVT                    2                0.0\n",
              "DIABTRT                1                0.0\n",
              "PE                     1                0.0\n",
              "RECENCY                1                0.0\n",
              "\n",
              "[189 rows x 2 columns]"
            ],
            "text/html": [
              "\n",
              "  <div id=\"df-8e5a2379-0b24-4d4a-8b7e-d647ca881a49\">\n",
              "    <div class=\"colab-df-container\">\n",
              "      <div>\n",
              "<style scoped>\n",
              "    .dataframe tbody tr th:only-of-type {\n",
              "        vertical-align: middle;\n",
              "    }\n",
              "\n",
              "    .dataframe tbody tr th {\n",
              "        vertical-align: top;\n",
              "    }\n",
              "\n",
              "    .dataframe thead th {\n",
              "        text-align: right;\n",
              "    }\n",
              "</style>\n",
              "<table border=\"1\" class=\"dataframe\">\n",
              "  <thead>\n",
              "    <tr style=\"text-align: right;\">\n",
              "      <th></th>\n",
              "      <th>Missing Values</th>\n",
              "      <th>% of Total Values</th>\n",
              "    </tr>\n",
              "  </thead>\n",
              "  <tbody>\n",
              "    <tr>\n",
              "      <th>PEDUC</th>\n",
              "      <td>2290</td>\n",
              "      <td>39.3</td>\n",
              "    </tr>\n",
              "    <tr>\n",
              "      <th>HEMOCCDT</th>\n",
              "      <td>2064</td>\n",
              "      <td>35.4</td>\n",
              "    </tr>\n",
              "    <tr>\n",
              "      <th>HORMSTAT</th>\n",
              "      <td>2034</td>\n",
              "      <td>34.9</td>\n",
              "    </tr>\n",
              "    <tr>\n",
              "      <th>WALKMIN</th>\n",
              "      <td>1735</td>\n",
              "      <td>29.7</td>\n",
              "    </tr>\n",
              "    <tr>\n",
              "      <th>WALKSPD</th>\n",
              "      <td>1730</td>\n",
              "      <td>29.7</td>\n",
              "    </tr>\n",
              "    <tr>\n",
              "      <th>...</th>\n",
              "      <td>...</td>\n",
              "      <td>...</td>\n",
              "    </tr>\n",
              "    <tr>\n",
              "      <th>BLDPROB</th>\n",
              "      <td>2</td>\n",
              "      <td>0.0</td>\n",
              "    </tr>\n",
              "    <tr>\n",
              "      <th>DVT</th>\n",
              "      <td>2</td>\n",
              "      <td>0.0</td>\n",
              "    </tr>\n",
              "    <tr>\n",
              "      <th>DIABTRT</th>\n",
              "      <td>1</td>\n",
              "      <td>0.0</td>\n",
              "    </tr>\n",
              "    <tr>\n",
              "      <th>PE</th>\n",
              "      <td>1</td>\n",
              "      <td>0.0</td>\n",
              "    </tr>\n",
              "    <tr>\n",
              "      <th>RECENCY</th>\n",
              "      <td>1</td>\n",
              "      <td>0.0</td>\n",
              "    </tr>\n",
              "  </tbody>\n",
              "</table>\n",
              "<p>189 rows × 2 columns</p>\n",
              "</div>\n",
              "      <button class=\"colab-df-convert\" onclick=\"convertToInteractive('df-8e5a2379-0b24-4d4a-8b7e-d647ca881a49')\"\n",
              "              title=\"Convert this dataframe to an interactive table.\"\n",
              "              style=\"display:none;\">\n",
              "        \n",
              "  <svg xmlns=\"http://www.w3.org/2000/svg\" height=\"24px\"viewBox=\"0 0 24 24\"\n",
              "       width=\"24px\">\n",
              "    <path d=\"M0 0h24v24H0V0z\" fill=\"none\"/>\n",
              "    <path d=\"M18.56 5.44l.94 2.06.94-2.06 2.06-.94-2.06-.94-.94-2.06-.94 2.06-2.06.94zm-11 1L8.5 8.5l.94-2.06 2.06-.94-2.06-.94L8.5 2.5l-.94 2.06-2.06.94zm10 10l.94 2.06.94-2.06 2.06-.94-2.06-.94-.94-2.06-.94 2.06-2.06.94z\"/><path d=\"M17.41 7.96l-1.37-1.37c-.4-.4-.92-.59-1.43-.59-.52 0-1.04.2-1.43.59L10.3 9.45l-7.72 7.72c-.78.78-.78 2.05 0 2.83L4 21.41c.39.39.9.59 1.41.59.51 0 1.02-.2 1.41-.59l7.78-7.78 2.81-2.81c.8-.78.8-2.07 0-2.86zM5.41 20L4 18.59l7.72-7.72 1.47 1.35L5.41 20z\"/>\n",
              "  </svg>\n",
              "      </button>\n",
              "      \n",
              "  <style>\n",
              "    .colab-df-container {\n",
              "      display:flex;\n",
              "      flex-wrap:wrap;\n",
              "      gap: 12px;\n",
              "    }\n",
              "\n",
              "    .colab-df-convert {\n",
              "      background-color: #E8F0FE;\n",
              "      border: none;\n",
              "      border-radius: 50%;\n",
              "      cursor: pointer;\n",
              "      display: none;\n",
              "      fill: #1967D2;\n",
              "      height: 32px;\n",
              "      padding: 0 0 0 0;\n",
              "      width: 32px;\n",
              "    }\n",
              "\n",
              "    .colab-df-convert:hover {\n",
              "      background-color: #E2EBFA;\n",
              "      box-shadow: 0px 1px 2px rgba(60, 64, 67, 0.3), 0px 1px 3px 1px rgba(60, 64, 67, 0.15);\n",
              "      fill: #174EA6;\n",
              "    }\n",
              "\n",
              "    [theme=dark] .colab-df-convert {\n",
              "      background-color: #3B4455;\n",
              "      fill: #D2E3FC;\n",
              "    }\n",
              "\n",
              "    [theme=dark] .colab-df-convert:hover {\n",
              "      background-color: #434B5C;\n",
              "      box-shadow: 0px 1px 3px 1px rgba(0, 0, 0, 0.15);\n",
              "      filter: drop-shadow(0px 1px 2px rgba(0, 0, 0, 0.3));\n",
              "      fill: #FFFFFF;\n",
              "    }\n",
              "  </style>\n",
              "\n",
              "      <script>\n",
              "        const buttonEl =\n",
              "          document.querySelector('#df-8e5a2379-0b24-4d4a-8b7e-d647ca881a49 button.colab-df-convert');\n",
              "        buttonEl.style.display =\n",
              "          google.colab.kernel.accessAllowed ? 'block' : 'none';\n",
              "\n",
              "        async function convertToInteractive(key) {\n",
              "          const element = document.querySelector('#df-8e5a2379-0b24-4d4a-8b7e-d647ca881a49');\n",
              "          const dataTable =\n",
              "            await google.colab.kernel.invokeFunction('convertToInteractive',\n",
              "                                                     [key], {});\n",
              "          if (!dataTable) return;\n",
              "\n",
              "          const docLinkHtml = 'Like what you see? Visit the ' +\n",
              "            '<a target=\"_blank\" href=https://colab.research.google.com/notebooks/data_table.ipynb>data table notebook</a>'\n",
              "            + ' to learn more about interactive tables.';\n",
              "          element.innerHTML = '';\n",
              "          dataTable['output_type'] = 'display_data';\n",
              "          await google.colab.output.renderOutput(dataTable, element);\n",
              "          const docLink = document.createElement('div');\n",
              "          docLink.innerHTML = docLinkHtml;\n",
              "          element.appendChild(docLink);\n",
              "        }\n",
              "      </script>\n",
              "    </div>\n",
              "  </div>\n",
              "  "
            ]
          },
          "metadata": {},
          "execution_count": 336
        }
      ]
    },
    {
      "cell_type": "code",
      "source": [
        "df_update4.to_csv('pheno.prs.0607.csv', sep=\",\", index = False)"
      ],
      "metadata": {
        "id": "HVgVr_hObzIg"
      },
      "execution_count": null,
      "outputs": []
    },
    {
      "cell_type": "code",
      "source": [
        "df_update4 = pd.read_csv('pheno.prs.0531.csv', sep=\",\")"
      ],
      "metadata": {
        "id": "JJ0LCoSEMJnK"
      },
      "execution_count": null,
      "outputs": []
    },
    {
      "cell_type": "markdown",
      "source": [
        "## 缺失值填充"
      ],
      "metadata": {
        "id": "adYuRU4mN13a"
      }
    },
    {
      "cell_type": "code",
      "source": [
        "## 将连续变量和分类变量分开填充\n",
        "## example \n",
        "from sklearn.experimental import enable_iterative_imputer\n",
        "from sklearn.impute import IterativeImputer\n",
        "from sklearn.base import TransformerMixin"
      ],
      "metadata": {
        "id": "sYlWd9baWIGl"
      },
      "execution_count": null,
      "outputs": []
    },
    {
      "cell_type": "code",
      "source": [
        "# 定义热图函数，查看不同缺失值之间的关联\n",
        "def HeatMap(df, x=True):\n",
        "  correlations = df.corr()\n",
        "  ## creat color map ranging between two colors\n",
        "  ## diverging_palette()为创建两种颜色过渡色板\n",
        "  cmap = sns.diverging_palette(100, 10,as_cmap=True)\n",
        "  fig, ax = plt.subplots(figsize=(35,35))\n",
        "  ## heatmap中参数: vmin和vmax定义图卡颜色，用于锚定颜色图的值\n",
        "  # cmap 颜色映射名称或对象; fmt 添加注释时要使用的字符串格式化代码\n",
        "  #fmt='.2f',当Annot为TRUE时才有用，显示数值的小数点位数\n",
        "  fig = sns.heatmap(correlations, cmap=cmap, vmax=1.0, vmin=-1.0,\n",
        "                    square=True,linewidths=.05, \n",
        "                    annot=False, cbar_kws={'shrink': .25})\n",
        "                   #mask = abs(correlations) <0.9 )\n",
        "  fig.set_xticklabels(fig.get_xticklabels(), rotation = 90, fontsize = 9)\n",
        "  fig.set_yticklabels(fig.get_yticklabels(), rotation = 0, fontsize = 9)\n",
        "  plt.tight_layout()\n",
        "  plt.show()\n",
        "#HeatMap(missing_df,x=True)"
      ],
      "metadata": {
        "id": "g6erpHmcNx6f"
      },
      "execution_count": null,
      "outputs": []
    },
    {
      "cell_type": "code",
      "source": [
        "missing_variables = df_update4.columns[df_update4.isnull().any()]\n",
        "missing_df =  df_update4[missing_variables]"
      ],
      "metadata": {
        "id": "wDh8-aL3NpoG"
      },
      "execution_count": null,
      "outputs": []
    },
    {
      "cell_type": "markdown",
      "source": [
        "#### 缺失值填充（方法一）通过变量类型填充缺失值"
      ],
      "metadata": {
        "id": "Z3dWW_kwMfMQ"
      }
    },
    {
      "cell_type": "code",
      "source": [
        " missing = missing_values_table(df_update4)\n",
        " missing"
      ],
      "metadata": {
        "id": "4tuURubB7Ogj",
        "outputId": "4bdc3723-3537-4117-c60f-f04c4a4b8bd8",
        "colab": {
          "base_uri": "https://localhost:8080/",
          "height": 428
        }
      },
      "execution_count": null,
      "outputs": [
        {
          "output_type": "stream",
          "name": "stdout",
          "text": [
            "Your selected dataframe has 280 columns.\n",
            "There are 189 columns that have missing values.\n"
          ]
        },
        {
          "output_type": "execute_result",
          "data": {
            "text/plain": [
              "          Missing Values  % of Total Values\n",
              "PEDUC               2290               39.3\n",
              "HEMOCCDT            2064               35.4\n",
              "HORMSTAT            2034               34.9\n",
              "WALKMIN             1735               29.7\n",
              "WALKSPD             1730               29.7\n",
              "...                  ...                ...\n",
              "BLDPROB                2                0.0\n",
              "DVT                    2                0.0\n",
              "DIABTRT                1                0.0\n",
              "PE                     1                0.0\n",
              "RECENCY                1                0.0\n",
              "\n",
              "[189 rows x 2 columns]"
            ],
            "text/html": [
              "\n",
              "  <div id=\"df-c6e5afe9-603f-4330-8a76-ba33a9e1f8b5\">\n",
              "    <div class=\"colab-df-container\">\n",
              "      <div>\n",
              "<style scoped>\n",
              "    .dataframe tbody tr th:only-of-type {\n",
              "        vertical-align: middle;\n",
              "    }\n",
              "\n",
              "    .dataframe tbody tr th {\n",
              "        vertical-align: top;\n",
              "    }\n",
              "\n",
              "    .dataframe thead th {\n",
              "        text-align: right;\n",
              "    }\n",
              "</style>\n",
              "<table border=\"1\" class=\"dataframe\">\n",
              "  <thead>\n",
              "    <tr style=\"text-align: right;\">\n",
              "      <th></th>\n",
              "      <th>Missing Values</th>\n",
              "      <th>% of Total Values</th>\n",
              "    </tr>\n",
              "  </thead>\n",
              "  <tbody>\n",
              "    <tr>\n",
              "      <th>PEDUC</th>\n",
              "      <td>2290</td>\n",
              "      <td>39.3</td>\n",
              "    </tr>\n",
              "    <tr>\n",
              "      <th>HEMOCCDT</th>\n",
              "      <td>2064</td>\n",
              "      <td>35.4</td>\n",
              "    </tr>\n",
              "    <tr>\n",
              "      <th>HORMSTAT</th>\n",
              "      <td>2034</td>\n",
              "      <td>34.9</td>\n",
              "    </tr>\n",
              "    <tr>\n",
              "      <th>WALKMIN</th>\n",
              "      <td>1735</td>\n",
              "      <td>29.7</td>\n",
              "    </tr>\n",
              "    <tr>\n",
              "      <th>WALKSPD</th>\n",
              "      <td>1730</td>\n",
              "      <td>29.7</td>\n",
              "    </tr>\n",
              "    <tr>\n",
              "      <th>...</th>\n",
              "      <td>...</td>\n",
              "      <td>...</td>\n",
              "    </tr>\n",
              "    <tr>\n",
              "      <th>BLDPROB</th>\n",
              "      <td>2</td>\n",
              "      <td>0.0</td>\n",
              "    </tr>\n",
              "    <tr>\n",
              "      <th>DVT</th>\n",
              "      <td>2</td>\n",
              "      <td>0.0</td>\n",
              "    </tr>\n",
              "    <tr>\n",
              "      <th>DIABTRT</th>\n",
              "      <td>1</td>\n",
              "      <td>0.0</td>\n",
              "    </tr>\n",
              "    <tr>\n",
              "      <th>PE</th>\n",
              "      <td>1</td>\n",
              "      <td>0.0</td>\n",
              "    </tr>\n",
              "    <tr>\n",
              "      <th>RECENCY</th>\n",
              "      <td>1</td>\n",
              "      <td>0.0</td>\n",
              "    </tr>\n",
              "  </tbody>\n",
              "</table>\n",
              "<p>189 rows × 2 columns</p>\n",
              "</div>\n",
              "      <button class=\"colab-df-convert\" onclick=\"convertToInteractive('df-c6e5afe9-603f-4330-8a76-ba33a9e1f8b5')\"\n",
              "              title=\"Convert this dataframe to an interactive table.\"\n",
              "              style=\"display:none;\">\n",
              "        \n",
              "  <svg xmlns=\"http://www.w3.org/2000/svg\" height=\"24px\"viewBox=\"0 0 24 24\"\n",
              "       width=\"24px\">\n",
              "    <path d=\"M0 0h24v24H0V0z\" fill=\"none\"/>\n",
              "    <path d=\"M18.56 5.44l.94 2.06.94-2.06 2.06-.94-2.06-.94-.94-2.06-.94 2.06-2.06.94zm-11 1L8.5 8.5l.94-2.06 2.06-.94-2.06-.94L8.5 2.5l-.94 2.06-2.06.94zm10 10l.94 2.06.94-2.06 2.06-.94-2.06-.94-.94-2.06-.94 2.06-2.06.94z\"/><path d=\"M17.41 7.96l-1.37-1.37c-.4-.4-.92-.59-1.43-.59-.52 0-1.04.2-1.43.59L10.3 9.45l-7.72 7.72c-.78.78-.78 2.05 0 2.83L4 21.41c.39.39.9.59 1.41.59.51 0 1.02-.2 1.41-.59l7.78-7.78 2.81-2.81c.8-.78.8-2.07 0-2.86zM5.41 20L4 18.59l7.72-7.72 1.47 1.35L5.41 20z\"/>\n",
              "  </svg>\n",
              "      </button>\n",
              "      \n",
              "  <style>\n",
              "    .colab-df-container {\n",
              "      display:flex;\n",
              "      flex-wrap:wrap;\n",
              "      gap: 12px;\n",
              "    }\n",
              "\n",
              "    .colab-df-convert {\n",
              "      background-color: #E8F0FE;\n",
              "      border: none;\n",
              "      border-radius: 50%;\n",
              "      cursor: pointer;\n",
              "      display: none;\n",
              "      fill: #1967D2;\n",
              "      height: 32px;\n",
              "      padding: 0 0 0 0;\n",
              "      width: 32px;\n",
              "    }\n",
              "\n",
              "    .colab-df-convert:hover {\n",
              "      background-color: #E2EBFA;\n",
              "      box-shadow: 0px 1px 2px rgba(60, 64, 67, 0.3), 0px 1px 3px 1px rgba(60, 64, 67, 0.15);\n",
              "      fill: #174EA6;\n",
              "    }\n",
              "\n",
              "    [theme=dark] .colab-df-convert {\n",
              "      background-color: #3B4455;\n",
              "      fill: #D2E3FC;\n",
              "    }\n",
              "\n",
              "    [theme=dark] .colab-df-convert:hover {\n",
              "      background-color: #434B5C;\n",
              "      box-shadow: 0px 1px 3px 1px rgba(0, 0, 0, 0.15);\n",
              "      filter: drop-shadow(0px 1px 2px rgba(0, 0, 0, 0.3));\n",
              "      fill: #FFFFFF;\n",
              "    }\n",
              "  </style>\n",
              "\n",
              "      <script>\n",
              "        const buttonEl =\n",
              "          document.querySelector('#df-c6e5afe9-603f-4330-8a76-ba33a9e1f8b5 button.colab-df-convert');\n",
              "        buttonEl.style.display =\n",
              "          google.colab.kernel.accessAllowed ? 'block' : 'none';\n",
              "\n",
              "        async function convertToInteractive(key) {\n",
              "          const element = document.querySelector('#df-c6e5afe9-603f-4330-8a76-ba33a9e1f8b5');\n",
              "          const dataTable =\n",
              "            await google.colab.kernel.invokeFunction('convertToInteractive',\n",
              "                                                     [key], {});\n",
              "          if (!dataTable) return;\n",
              "\n",
              "          const docLinkHtml = 'Like what you see? Visit the ' +\n",
              "            '<a target=\"_blank\" href=https://colab.research.google.com/notebooks/data_table.ipynb>data table notebook</a>'\n",
              "            + ' to learn more about interactive tables.';\n",
              "          element.innerHTML = '';\n",
              "          dataTable['output_type'] = 'display_data';\n",
              "          await google.colab.output.renderOutput(dataTable, element);\n",
              "          const docLink = document.createElement('div');\n",
              "          docLink.innerHTML = docLinkHtml;\n",
              "          element.appendChild(docLink);\n",
              "        }\n",
              "      </script>\n",
              "    </div>\n",
              "  </div>\n",
              "  "
            ]
          },
          "metadata": {},
          "execution_count": 338
        }
      ]
    },
    {
      "cell_type": "code",
      "source": [
        "df_update4.isna().sum()"
      ],
      "metadata": {
        "id": "mPMhmtcf7NTk",
        "outputId": "65367770-65a2-4ca5-d931-7e998a2076ad",
        "colab": {
          "base_uri": "https://localhost:8080/"
        }
      },
      "execution_count": null,
      "outputs": [
        {
          "output_type": "execute_result",
          "data": {
            "text/plain": [
              "cancer                               0\n",
              "fat_down                           134\n",
              "SCORE_baseline_sleep_p0.05_0.05      0\n",
              "sugar_pct                            0\n",
              "baseline_sugar                       0\n",
              "                                  ... \n",
              "dsmi                                 0\n",
              "dvt                                  0\n",
              "psmi                                 0\n",
              "mitotal                              0\n",
              "cvd_binary                           0\n",
              "Length: 280, dtype: int64"
            ]
          },
          "metadata": {},
          "execution_count": 339
        }
      ]
    },
    {
      "cell_type": "code",
      "source": [
        "df_update4.head()"
      ],
      "metadata": {
        "id": "GrBDBgvp7l7x",
        "outputId": "ba8d04f3-1818-42cc-af2e-382ae6a52520",
        "colab": {
          "base_uri": "https://localhost:8080/",
          "height": 282
        }
      },
      "execution_count": null,
      "outputs": [
        {
          "output_type": "execute_result",
          "data": {
            "text/plain": [
              "    cancer fat_down  SCORE_baseline_sleep_p0.05_0.05  sugar_pct  \\\n",
              "1        0     True                          557.363   0.141641   \n",
              "2        0     True                          545.961   0.209902   \n",
              "5        0     True                          559.216   0.141025   \n",
              "10       0      NaN                          546.154   0.172255   \n",
              "17       0     True                          542.074   0.146029   \n",
              "\n",
              "    baseline_sugar  SCORE_inso_all_group  baseline_sleep  baseline_tot_cal  \\\n",
              "1         53.98778              0.000207             7.0        1524.63584   \n",
              "2         64.46801              0.000162             5.0        1228.53449   \n",
              "5         86.62391              0.000280             0.0        2456.97239   \n",
              "10        57.80864              0.000221             1.0        1342.39753   \n",
              "17        33.85894              0.000187             6.0         927.45758   \n",
              "\n",
              "    baseline_fat  baseline_pro  baseline_cho  baseline_sfa  baseline_mufa  \\\n",
              "1       66.72611      60.70822     155.72613      13.92200       24.03499   \n",
              "2       40.19991      58.67646     160.10975      13.59158       14.54817   \n",
              "5      109.57551     105.39777     268.58096      40.51814       37.89930   \n",
              "10      60.72256      66.03346     135.05701      19.13607       21.25042   \n",
              "17      35.68079      47.81902      94.63045      10.81763       14.23365   \n",
              "\n",
              "    baseline_pufa  baseline_alc  baseline_palm  baseline_n3       hei  \\\n",
              "1        23.54255      10.01349        8.64331      2.54322  63.98034   \n",
              "2         8.02075       0.00493        7.44353      0.82732  67.62396   \n",
              "5        22.66372       0.04528       21.16896      2.34198  56.51048   \n",
              "10       15.35011       0.85690       10.43022      1.81833  71.94189   \n",
              "17        7.57422       6.22589        5.98474      1.29323  74.03998   \n",
              "\n",
              "       myhei  age BRCA_F2 COLON_F2 ENDO_F2 SKIN_F2 MELAN_F2 OTHCA10Y HORM  \\\n",
              "1  -0.003884   51     0.0      0.0     0.0     0.0      0.0      0.0  0.0   \n",
              "2  -0.005394   70     0.0      0.0     0.0     0.0      0.0      0.0  0.0   \n",
              "5  -0.000171   54     0.0      0.0     0.0     0.0      0.0      0.0  0.0   \n",
              "10 -0.002127   64     0.0      0.0     0.0     0.0      0.0      0.0    1   \n",
              "17 -0.005694   62     0.0      0.0     0.0     0.0      0.0      0.0    1   \n",
              "\n",
              "   HYST MALDIET LFDIETF2  DVT   PE STROKE  TIA   MI  SCANEMIA CHF_F2 LIVERDIS  \\\n",
              "1     1     0.0      0.0  0.0  0.0    0.0  0.0  0.0       0.0    0.0      0.0   \n",
              "2   0.0     0.0      0.0  0.0  0.0    0.0  0.0  0.0       0.0    0.0      0.0   \n",
              "5     1     0.0      0.0  0.0  0.0    0.0  0.0  0.0       0.0    0.0      0.0   \n",
              "10  0.0     0.0      0.0  0.0  0.0    0.0  0.0  0.0       0.0    0.0      0.0   \n",
              "17  0.0     0.0      0.0  0.0  0.0    0.0  0.0  0.0       0.0    0.0      0.0   \n",
              "\n",
              "   BLDPROB L15LBS6M  DIALYSIS OTHCHRON  HARDSTDY COMECC HORMSTAT DIABTRT  \\\n",
              "1      0.0      0.0       0.0      0.0       0.0      1      0.0     0.0   \n",
              "2      0.0      0.0       0.0      0.0       0.0      1      0.0     0.0   \n",
              "5      0.0      0.0       0.0        1       0.0      1      0.0     0.0   \n",
              "10     0.0      0.0       0.0      0.0       0.0      1      NaN     0.0   \n",
              "17     0.0      0.0       0.0      0.0       0.0      1        1     0.0   \n",
              "\n",
              "    dm_intervention  ht_trial  ht_intervention  cad_trial  cad_intervention  \\\n",
              "1              True      True             True       True              True   \n",
              "2             False      True            False       True             False   \n",
              "5             False      True             True       True              True   \n",
              "10            False     False            False      False             False   \n",
              "17            False     False            False      False             False   \n",
              "\n",
              "    EDUC  NOTWRK  RETIRED  HOMEMKR  EMPLOYED  DISABLED  OTHWRK  JOBHMMKR  \\\n",
              "1    7.0     0.0      0.0      0.0       1.0       0.0     0.0       0.0   \n",
              "2    6.0     0.0      1.0      0.0       0.0       0.0     0.0       NaN   \n",
              "5   10.0     0.0      0.0      0.0       1.0       0.0     0.0       0.0   \n",
              "10  11.0     0.0      0.0      0.0       0.0       0.0     1.0       0.0   \n",
              "17   6.0     0.0      1.0      0.0       1.0       0.0     0.0       1.0   \n",
              "\n",
              "    JOBMANGR  JOBTECH  JOBSERV  JOBLABOR  JOBOTH  MARITAL  PEDUC  INCOME  \\\n",
              "1        0.0      1.0      0.0       0.0     0.0      4.0    6.0     5.0   \n",
              "2        NaN      NaN      NaN       NaN     NaN      4.0    7.0     4.0   \n",
              "5        1.0      0.0      0.0       0.0     0.0      3.0    NaN     3.0   \n",
              "10       1.0      0.0      0.0       0.0     0.0      4.0    6.0     5.0   \n",
              "17       0.0      1.0      0.0       0.0     0.0      4.0    6.0     6.0   \n",
              "\n",
              "    CAREPROV  ABNPAP3Y  CERVDYS  MAINJOB  HOSP2Y  GLAUCOMA  CATARACT  \\\n",
              "1        1.0       0.0      0.0      2.0     0.0       0.0       0.0   \n",
              "2        1.0       0.0      0.0      NaN     0.0       1.0       1.0   \n",
              "5        1.0       0.0      0.0      1.0     0.0       0.0       0.0   \n",
              "10       1.0       0.0      0.0      1.0     0.0       0.0       0.0   \n",
              "17       1.0       0.0      0.0      2.0     0.0       0.0       0.0   \n",
              "\n",
              "    HICHOLRP  ASTHMA  EMPHYSEM  KIDNEYST  HIBLDCA  STOMULCR  DIVERTIC  \\\n",
              "1        0.0     0.0       0.0       1.0      0.0       0.0       0.0   \n",
              "2        0.0     0.0       0.0       0.0      0.0       0.0       0.0   \n",
              "5        0.0     0.0       0.0       0.0      0.0       0.0       0.0   \n",
              "10       0.0     0.0       0.0       0.0      0.0       0.0       0.0   \n",
              "17       0.0     0.0       0.0       0.0      0.0       1.0       0.0   \n",
              "\n",
              "    COLITIS  LUPUS  PANCREAT  OSTEOPOR  HIPREP  OTHJREP  INTESTRM  MIGRAINE  \\\n",
              "1       1.0    0.0       0.0       0.0     0.0      0.0       0.0       0.0   \n",
              "2       0.0    0.0       0.0       0.0     0.0      0.0       0.0       0.0   \n",
              "5       0.0    0.0       0.0       0.0     0.0      0.0       0.0       0.0   \n",
              "10      0.0    0.0       0.0       0.0     0.0      0.0       0.0       1.0   \n",
              "17      0.0    0.0       0.0       0.0     0.0      0.0       0.0       0.0   \n",
              "\n",
              "    ALZHEIM  ...   WALKEXP  MODEXP  MILDEXP  AVWKEXP   FFWKEXP  VFWKEXP  \\\n",
              "1       0.0  ...   0.00000    0.00      0.0    0.000   0.00000      0.0   \n",
              "2       0.0  ...  23.33333   15.75      3.0    0.000  23.33333      0.0   \n",
              "5       0.0  ...   0.00000    1.50      0.0    0.000   0.00000      0.0   \n",
              "10      0.0  ...   0.00000    0.00      0.0    0.000   0.00000      0.0   \n",
              "17      0.0  ...   1.87500    0.00      0.0    1.875   0.00000      0.0   \n",
              "\n",
              "     ALCSWK  ALCOHOL  PACKYRS  PACKYRSC  FAMILYDVTEVR  FAMILYPEEVR    sbp  \\\n",
              "1   4.94231      5.0     30.0       3.0           9.0          9.0  125.0   \n",
              "2   0.00000      2.0      0.0       0.0           0.0          0.0  176.0   \n",
              "5   0.00000      2.0     15.0       2.0           0.0          0.0  104.0   \n",
              "10  0.42308      4.0      0.0       0.0           0.0          0.0  133.0   \n",
              "17  2.63462      5.0     35.0       3.0           0.0          0.0  137.0   \n",
              "\n",
              "     dbp       bmi  RECENCY   OC  DES  DMPA  TOTE  TOTP  TOTH  TEST  ESTR  \\\n",
              "1   84.0  41.22847      0.0  1.0  0.0   0.0   0.0   0.0   0.0   0.0   0.0   \n",
              "2   92.0  22.30924      0.0  0.0  0.0   0.0   0.0   0.0   0.0   0.0   0.0   \n",
              "5   69.0  26.87263      0.0  1.0  0.0   0.0   0.0   0.0   0.0   0.0   0.0   \n",
              "10  84.0  28.91433      4.0  1.0  0.0   0.0   0.0   1.0   1.0   0.0   0.0   \n",
              "17  86.0  31.43576      2.0  0.0  0.0   0.0   0.0   1.0   1.0   0.0   0.0   \n",
              "\n",
              "     F45VITA  F45VITE  F45VITB1  F45VTB12  F45VITB2  F45VITB6   F45BETA  \\\n",
              "1      0.000    0.000     0.000     0.000     0.000     0.000     0.000   \n",
              "2    642.857   12.857     0.643     2.571     0.729     0.857  1928.571   \n",
              "5      0.000    0.000     0.000     0.000     0.000     0.000     0.000   \n",
              "10  1500.000   30.000     1.500     6.000     1.700     2.000  4500.000   \n",
              "17     0.000  400.000     0.000     0.000     0.000     0.000     0.000   \n",
              "\n",
              "    F45BIOT  F45VITC  F45CALC  F45CHROM  F45COPP  F45VITD  F45FOLIC  F45IRON  \\\n",
              "1       0.0    0.000    0.000       0.0    0.000    0.000     0.000    0.000   \n",
              "2       0.0   25.714   69.429       0.0    0.857    4.286   171.429    7.714   \n",
              "5       0.0    0.000    0.000       0.0    0.000    0.000     0.000    0.000   \n",
              "10      0.0   75.000  487.000       0.0    2.000   15.000   400.000   18.000   \n",
              "17      0.0    0.000  600.000       0.0    0.000    0.000     0.000    0.000   \n",
              "\n",
              "    F45MAGN  F45MANG  F45MOLYB  F45NIAC  F45PANTO  F45RETIN  F45SELEN  \\\n",
              "1     0.000      0.0       0.0    0.000       0.0     0.000     0.000   \n",
              "2    42.857      0.0       0.0    8.571       0.0   321.429     8.571   \n",
              "5     0.000      0.0       0.0    0.000       0.0     0.000     0.000   \n",
              "10  179.000      0.0       0.0   20.000       0.0   750.000    20.000   \n",
              "17    0.000      0.0       0.0    0.000       0.0     0.000     0.000   \n",
              "\n",
              "    F45ZINC  F45MULTI  F45MVMIN  F45STRES  F45OTHCM  F45COMBP  LIFEQUAL  \\\n",
              "1     0.000         0         0         0         0         0       9.0   \n",
              "2     6.429         0         1         0         0         1      10.0   \n",
              "5     0.000         0         0         0         0         0       8.0   \n",
              "10   15.000         0         1         0         1         1      10.0   \n",
              "17    0.000         0         0         0         0         0      10.0   \n",
              "\n",
              "    SATLIFE  GENHEL  HLTHC1Y  VIGACT  MODACT  LIFTGROC  HRSSLP  EMOLIMIT  \\\n",
              "1       9.0     3.0      4.0     1.0     3.0       3.0     1.0     100.0   \n",
              "2      10.0     1.0      2.0     2.0     3.0       3.0     2.0     100.0   \n",
              "5       8.0     1.0      3.0     2.0     3.0       3.0     3.0     100.0   \n",
              "10     10.0     3.0      4.0     1.0     2.0       3.0     4.0     100.0   \n",
              "17     10.0     1.0      2.0     2.0     3.0       3.0     3.0     100.0   \n",
              "\n",
              "    EMOWELL  ENERFAT  HOSTIL  GENHLTH  LFEVENT1  LIVALOR  NEGEMOT  OPTIMISM  \\\n",
              "1      84.0     25.0     4.0     70.0       1.0      0.0     3.50      23.0   \n",
              "2      80.0     80.0     8.0     90.0       0.0      0.0     2.75      20.0   \n",
              "5      88.0     65.0     1.0     85.0       2.0      1.0     3.00      24.0   \n",
              "10     80.0     40.0     1.0     70.0       3.0      0.0     3.25      27.0   \n",
              "17     96.0     65.0     3.0     85.0       1.0      0.0     2.50      30.0   \n",
              "\n",
              "     PAIN  PSHTDEP  SLPDSTRB  SOCFUNC  SOCSTRN  SOCSUPP  SYMPTOM  chd  \\\n",
              "1    50.0  0.00144       7.0    100.0     10.0     34.0  0.38235    0   \n",
              "2   100.0  0.00552       5.0    100.0     10.0      NaN      NaN    0   \n",
              "5   100.0  0.00144       0.0    100.0     10.0     36.0  0.47059    0   \n",
              "10   50.0  0.00144       1.0     87.5      7.0     42.0  0.32353    0   \n",
              "17  100.0  0.00144       6.0    100.0      4.0     39.0  0.05882    0   \n",
              "\n",
              "    isch_stroke  hemo_stroke  death  cvd_death  non_cvd_death  dm  mi  chf  \\\n",
              "1             0            0      0          0              0   0   0    0   \n",
              "2             0            0      0          0              0   0   0    0   \n",
              "5             0            0      0          0              0   0   0    0   \n",
              "10            0            0      0          0              0   0   0    0   \n",
              "17            0            0      0          0              0   0   0    0   \n",
              "\n",
              "    dsmi  dvt  psmi  mitotal  cvd_binary  \n",
              "1      0    0     0        0           0  \n",
              "2      0    0     0        0           0  \n",
              "5      0    0     0        0           0  \n",
              "10     0    0     0        0           0  \n",
              "17     0    0     0        0           0  \n",
              "\n",
              "[5 rows x 280 columns]"
            ],
            "text/html": [
              "\n",
              "  <div id=\"df-9f25da92-f227-4ac9-a203-575f13198998\">\n",
              "    <div class=\"colab-df-container\">\n",
              "      <div>\n",
              "<style scoped>\n",
              "    .dataframe tbody tr th:only-of-type {\n",
              "        vertical-align: middle;\n",
              "    }\n",
              "\n",
              "    .dataframe tbody tr th {\n",
              "        vertical-align: top;\n",
              "    }\n",
              "\n",
              "    .dataframe thead th {\n",
              "        text-align: right;\n",
              "    }\n",
              "</style>\n",
              "<table border=\"1\" class=\"dataframe\">\n",
              "  <thead>\n",
              "    <tr style=\"text-align: right;\">\n",
              "      <th></th>\n",
              "      <th>cancer</th>\n",
              "      <th>fat_down</th>\n",
              "      <th>SCORE_baseline_sleep_p0.05_0.05</th>\n",
              "      <th>sugar_pct</th>\n",
              "      <th>baseline_sugar</th>\n",
              "      <th>SCORE_inso_all_group</th>\n",
              "      <th>baseline_sleep</th>\n",
              "      <th>baseline_tot_cal</th>\n",
              "      <th>baseline_fat</th>\n",
              "      <th>baseline_pro</th>\n",
              "      <th>baseline_cho</th>\n",
              "      <th>baseline_sfa</th>\n",
              "      <th>baseline_mufa</th>\n",
              "      <th>baseline_pufa</th>\n",
              "      <th>baseline_alc</th>\n",
              "      <th>baseline_palm</th>\n",
              "      <th>baseline_n3</th>\n",
              "      <th>hei</th>\n",
              "      <th>myhei</th>\n",
              "      <th>age</th>\n",
              "      <th>BRCA_F2</th>\n",
              "      <th>COLON_F2</th>\n",
              "      <th>ENDO_F2</th>\n",
              "      <th>SKIN_F2</th>\n",
              "      <th>MELAN_F2</th>\n",
              "      <th>OTHCA10Y</th>\n",
              "      <th>HORM</th>\n",
              "      <th>HYST</th>\n",
              "      <th>MALDIET</th>\n",
              "      <th>LFDIETF2</th>\n",
              "      <th>DVT</th>\n",
              "      <th>PE</th>\n",
              "      <th>STROKE</th>\n",
              "      <th>TIA</th>\n",
              "      <th>MI</th>\n",
              "      <th>SCANEMIA</th>\n",
              "      <th>CHF_F2</th>\n",
              "      <th>LIVERDIS</th>\n",
              "      <th>BLDPROB</th>\n",
              "      <th>L15LBS6M</th>\n",
              "      <th>DIALYSIS</th>\n",
              "      <th>OTHCHRON</th>\n",
              "      <th>HARDSTDY</th>\n",
              "      <th>COMECC</th>\n",
              "      <th>HORMSTAT</th>\n",
              "      <th>DIABTRT</th>\n",
              "      <th>dm_intervention</th>\n",
              "      <th>ht_trial</th>\n",
              "      <th>ht_intervention</th>\n",
              "      <th>cad_trial</th>\n",
              "      <th>cad_intervention</th>\n",
              "      <th>EDUC</th>\n",
              "      <th>NOTWRK</th>\n",
              "      <th>RETIRED</th>\n",
              "      <th>HOMEMKR</th>\n",
              "      <th>EMPLOYED</th>\n",
              "      <th>DISABLED</th>\n",
              "      <th>OTHWRK</th>\n",
              "      <th>JOBHMMKR</th>\n",
              "      <th>JOBMANGR</th>\n",
              "      <th>JOBTECH</th>\n",
              "      <th>JOBSERV</th>\n",
              "      <th>JOBLABOR</th>\n",
              "      <th>JOBOTH</th>\n",
              "      <th>MARITAL</th>\n",
              "      <th>PEDUC</th>\n",
              "      <th>INCOME</th>\n",
              "      <th>CAREPROV</th>\n",
              "      <th>ABNPAP3Y</th>\n",
              "      <th>CERVDYS</th>\n",
              "      <th>MAINJOB</th>\n",
              "      <th>HOSP2Y</th>\n",
              "      <th>GLAUCOMA</th>\n",
              "      <th>CATARACT</th>\n",
              "      <th>HICHOLRP</th>\n",
              "      <th>ASTHMA</th>\n",
              "      <th>EMPHYSEM</th>\n",
              "      <th>KIDNEYST</th>\n",
              "      <th>HIBLDCA</th>\n",
              "      <th>STOMULCR</th>\n",
              "      <th>DIVERTIC</th>\n",
              "      <th>COLITIS</th>\n",
              "      <th>LUPUS</th>\n",
              "      <th>PANCREAT</th>\n",
              "      <th>OSTEOPOR</th>\n",
              "      <th>HIPREP</th>\n",
              "      <th>OTHJREP</th>\n",
              "      <th>INTESTRM</th>\n",
              "      <th>MIGRAINE</th>\n",
              "      <th>ALZHEIM</th>\n",
              "      <th>...</th>\n",
              "      <th>WALKEXP</th>\n",
              "      <th>MODEXP</th>\n",
              "      <th>MILDEXP</th>\n",
              "      <th>AVWKEXP</th>\n",
              "      <th>FFWKEXP</th>\n",
              "      <th>VFWKEXP</th>\n",
              "      <th>ALCSWK</th>\n",
              "      <th>ALCOHOL</th>\n",
              "      <th>PACKYRS</th>\n",
              "      <th>PACKYRSC</th>\n",
              "      <th>FAMILYDVTEVR</th>\n",
              "      <th>FAMILYPEEVR</th>\n",
              "      <th>sbp</th>\n",
              "      <th>dbp</th>\n",
              "      <th>bmi</th>\n",
              "      <th>RECENCY</th>\n",
              "      <th>OC</th>\n",
              "      <th>DES</th>\n",
              "      <th>DMPA</th>\n",
              "      <th>TOTE</th>\n",
              "      <th>TOTP</th>\n",
              "      <th>TOTH</th>\n",
              "      <th>TEST</th>\n",
              "      <th>ESTR</th>\n",
              "      <th>F45VITA</th>\n",
              "      <th>F45VITE</th>\n",
              "      <th>F45VITB1</th>\n",
              "      <th>F45VTB12</th>\n",
              "      <th>F45VITB2</th>\n",
              "      <th>F45VITB6</th>\n",
              "      <th>F45BETA</th>\n",
              "      <th>F45BIOT</th>\n",
              "      <th>F45VITC</th>\n",
              "      <th>F45CALC</th>\n",
              "      <th>F45CHROM</th>\n",
              "      <th>F45COPP</th>\n",
              "      <th>F45VITD</th>\n",
              "      <th>F45FOLIC</th>\n",
              "      <th>F45IRON</th>\n",
              "      <th>F45MAGN</th>\n",
              "      <th>F45MANG</th>\n",
              "      <th>F45MOLYB</th>\n",
              "      <th>F45NIAC</th>\n",
              "      <th>F45PANTO</th>\n",
              "      <th>F45RETIN</th>\n",
              "      <th>F45SELEN</th>\n",
              "      <th>F45ZINC</th>\n",
              "      <th>F45MULTI</th>\n",
              "      <th>F45MVMIN</th>\n",
              "      <th>F45STRES</th>\n",
              "      <th>F45OTHCM</th>\n",
              "      <th>F45COMBP</th>\n",
              "      <th>LIFEQUAL</th>\n",
              "      <th>SATLIFE</th>\n",
              "      <th>GENHEL</th>\n",
              "      <th>HLTHC1Y</th>\n",
              "      <th>VIGACT</th>\n",
              "      <th>MODACT</th>\n",
              "      <th>LIFTGROC</th>\n",
              "      <th>HRSSLP</th>\n",
              "      <th>EMOLIMIT</th>\n",
              "      <th>EMOWELL</th>\n",
              "      <th>ENERFAT</th>\n",
              "      <th>HOSTIL</th>\n",
              "      <th>GENHLTH</th>\n",
              "      <th>LFEVENT1</th>\n",
              "      <th>LIVALOR</th>\n",
              "      <th>NEGEMOT</th>\n",
              "      <th>OPTIMISM</th>\n",
              "      <th>PAIN</th>\n",
              "      <th>PSHTDEP</th>\n",
              "      <th>SLPDSTRB</th>\n",
              "      <th>SOCFUNC</th>\n",
              "      <th>SOCSTRN</th>\n",
              "      <th>SOCSUPP</th>\n",
              "      <th>SYMPTOM</th>\n",
              "      <th>chd</th>\n",
              "      <th>isch_stroke</th>\n",
              "      <th>hemo_stroke</th>\n",
              "      <th>death</th>\n",
              "      <th>cvd_death</th>\n",
              "      <th>non_cvd_death</th>\n",
              "      <th>dm</th>\n",
              "      <th>mi</th>\n",
              "      <th>chf</th>\n",
              "      <th>dsmi</th>\n",
              "      <th>dvt</th>\n",
              "      <th>psmi</th>\n",
              "      <th>mitotal</th>\n",
              "      <th>cvd_binary</th>\n",
              "    </tr>\n",
              "  </thead>\n",
              "  <tbody>\n",
              "    <tr>\n",
              "      <th>1</th>\n",
              "      <td>0</td>\n",
              "      <td>True</td>\n",
              "      <td>557.363</td>\n",
              "      <td>0.141641</td>\n",
              "      <td>53.98778</td>\n",
              "      <td>0.000207</td>\n",
              "      <td>7.0</td>\n",
              "      <td>1524.63584</td>\n",
              "      <td>66.72611</td>\n",
              "      <td>60.70822</td>\n",
              "      <td>155.72613</td>\n",
              "      <td>13.92200</td>\n",
              "      <td>24.03499</td>\n",
              "      <td>23.54255</td>\n",
              "      <td>10.01349</td>\n",
              "      <td>8.64331</td>\n",
              "      <td>2.54322</td>\n",
              "      <td>63.98034</td>\n",
              "      <td>-0.003884</td>\n",
              "      <td>51</td>\n",
              "      <td>0.0</td>\n",
              "      <td>0.0</td>\n",
              "      <td>0.0</td>\n",
              "      <td>0.0</td>\n",
              "      <td>0.0</td>\n",
              "      <td>0.0</td>\n",
              "      <td>0.0</td>\n",
              "      <td>1</td>\n",
              "      <td>0.0</td>\n",
              "      <td>0.0</td>\n",
              "      <td>0.0</td>\n",
              "      <td>0.0</td>\n",
              "      <td>0.0</td>\n",
              "      <td>0.0</td>\n",
              "      <td>0.0</td>\n",
              "      <td>0.0</td>\n",
              "      <td>0.0</td>\n",
              "      <td>0.0</td>\n",
              "      <td>0.0</td>\n",
              "      <td>0.0</td>\n",
              "      <td>0.0</td>\n",
              "      <td>0.0</td>\n",
              "      <td>0.0</td>\n",
              "      <td>1</td>\n",
              "      <td>0.0</td>\n",
              "      <td>0.0</td>\n",
              "      <td>True</td>\n",
              "      <td>True</td>\n",
              "      <td>True</td>\n",
              "      <td>True</td>\n",
              "      <td>True</td>\n",
              "      <td>7.0</td>\n",
              "      <td>0.0</td>\n",
              "      <td>0.0</td>\n",
              "      <td>0.0</td>\n",
              "      <td>1.0</td>\n",
              "      <td>0.0</td>\n",
              "      <td>0.0</td>\n",
              "      <td>0.0</td>\n",
              "      <td>0.0</td>\n",
              "      <td>1.0</td>\n",
              "      <td>0.0</td>\n",
              "      <td>0.0</td>\n",
              "      <td>0.0</td>\n",
              "      <td>4.0</td>\n",
              "      <td>6.0</td>\n",
              "      <td>5.0</td>\n",
              "      <td>1.0</td>\n",
              "      <td>0.0</td>\n",
              "      <td>0.0</td>\n",
              "      <td>2.0</td>\n",
              "      <td>0.0</td>\n",
              "      <td>0.0</td>\n",
              "      <td>0.0</td>\n",
              "      <td>0.0</td>\n",
              "      <td>0.0</td>\n",
              "      <td>0.0</td>\n",
              "      <td>1.0</td>\n",
              "      <td>0.0</td>\n",
              "      <td>0.0</td>\n",
              "      <td>0.0</td>\n",
              "      <td>1.0</td>\n",
              "      <td>0.0</td>\n",
              "      <td>0.0</td>\n",
              "      <td>0.0</td>\n",
              "      <td>0.0</td>\n",
              "      <td>0.0</td>\n",
              "      <td>0.0</td>\n",
              "      <td>0.0</td>\n",
              "      <td>0.0</td>\n",
              "      <td>...</td>\n",
              "      <td>0.00000</td>\n",
              "      <td>0.00</td>\n",
              "      <td>0.0</td>\n",
              "      <td>0.000</td>\n",
              "      <td>0.00000</td>\n",
              "      <td>0.0</td>\n",
              "      <td>4.94231</td>\n",
              "      <td>5.0</td>\n",
              "      <td>30.0</td>\n",
              "      <td>3.0</td>\n",
              "      <td>9.0</td>\n",
              "      <td>9.0</td>\n",
              "      <td>125.0</td>\n",
              "      <td>84.0</td>\n",
              "      <td>41.22847</td>\n",
              "      <td>0.0</td>\n",
              "      <td>1.0</td>\n",
              "      <td>0.0</td>\n",
              "      <td>0.0</td>\n",
              "      <td>0.0</td>\n",
              "      <td>0.0</td>\n",
              "      <td>0.0</td>\n",
              "      <td>0.0</td>\n",
              "      <td>0.0</td>\n",
              "      <td>0.000</td>\n",
              "      <td>0.000</td>\n",
              "      <td>0.000</td>\n",
              "      <td>0.000</td>\n",
              "      <td>0.000</td>\n",
              "      <td>0.000</td>\n",
              "      <td>0.000</td>\n",
              "      <td>0.0</td>\n",
              "      <td>0.000</td>\n",
              "      <td>0.000</td>\n",
              "      <td>0.0</td>\n",
              "      <td>0.000</td>\n",
              "      <td>0.000</td>\n",
              "      <td>0.000</td>\n",
              "      <td>0.000</td>\n",
              "      <td>0.000</td>\n",
              "      <td>0.0</td>\n",
              "      <td>0.0</td>\n",
              "      <td>0.000</td>\n",
              "      <td>0.0</td>\n",
              "      <td>0.000</td>\n",
              "      <td>0.000</td>\n",
              "      <td>0.000</td>\n",
              "      <td>0</td>\n",
              "      <td>0</td>\n",
              "      <td>0</td>\n",
              "      <td>0</td>\n",
              "      <td>0</td>\n",
              "      <td>9.0</td>\n",
              "      <td>9.0</td>\n",
              "      <td>3.0</td>\n",
              "      <td>4.0</td>\n",
              "      <td>1.0</td>\n",
              "      <td>3.0</td>\n",
              "      <td>3.0</td>\n",
              "      <td>1.0</td>\n",
              "      <td>100.0</td>\n",
              "      <td>84.0</td>\n",
              "      <td>25.0</td>\n",
              "      <td>4.0</td>\n",
              "      <td>70.0</td>\n",
              "      <td>1.0</td>\n",
              "      <td>0.0</td>\n",
              "      <td>3.50</td>\n",
              "      <td>23.0</td>\n",
              "      <td>50.0</td>\n",
              "      <td>0.00144</td>\n",
              "      <td>7.0</td>\n",
              "      <td>100.0</td>\n",
              "      <td>10.0</td>\n",
              "      <td>34.0</td>\n",
              "      <td>0.38235</td>\n",
              "      <td>0</td>\n",
              "      <td>0</td>\n",
              "      <td>0</td>\n",
              "      <td>0</td>\n",
              "      <td>0</td>\n",
              "      <td>0</td>\n",
              "      <td>0</td>\n",
              "      <td>0</td>\n",
              "      <td>0</td>\n",
              "      <td>0</td>\n",
              "      <td>0</td>\n",
              "      <td>0</td>\n",
              "      <td>0</td>\n",
              "      <td>0</td>\n",
              "    </tr>\n",
              "    <tr>\n",
              "      <th>2</th>\n",
              "      <td>0</td>\n",
              "      <td>True</td>\n",
              "      <td>545.961</td>\n",
              "      <td>0.209902</td>\n",
              "      <td>64.46801</td>\n",
              "      <td>0.000162</td>\n",
              "      <td>5.0</td>\n",
              "      <td>1228.53449</td>\n",
              "      <td>40.19991</td>\n",
              "      <td>58.67646</td>\n",
              "      <td>160.10975</td>\n",
              "      <td>13.59158</td>\n",
              "      <td>14.54817</td>\n",
              "      <td>8.02075</td>\n",
              "      <td>0.00493</td>\n",
              "      <td>7.44353</td>\n",
              "      <td>0.82732</td>\n",
              "      <td>67.62396</td>\n",
              "      <td>-0.005394</td>\n",
              "      <td>70</td>\n",
              "      <td>0.0</td>\n",
              "      <td>0.0</td>\n",
              "      <td>0.0</td>\n",
              "      <td>0.0</td>\n",
              "      <td>0.0</td>\n",
              "      <td>0.0</td>\n",
              "      <td>0.0</td>\n",
              "      <td>0.0</td>\n",
              "      <td>0.0</td>\n",
              "      <td>0.0</td>\n",
              "      <td>0.0</td>\n",
              "      <td>0.0</td>\n",
              "      <td>0.0</td>\n",
              "      <td>0.0</td>\n",
              "      <td>0.0</td>\n",
              "      <td>0.0</td>\n",
              "      <td>0.0</td>\n",
              "      <td>0.0</td>\n",
              "      <td>0.0</td>\n",
              "      <td>0.0</td>\n",
              "      <td>0.0</td>\n",
              "      <td>0.0</td>\n",
              "      <td>0.0</td>\n",
              "      <td>1</td>\n",
              "      <td>0.0</td>\n",
              "      <td>0.0</td>\n",
              "      <td>False</td>\n",
              "      <td>True</td>\n",
              "      <td>False</td>\n",
              "      <td>True</td>\n",
              "      <td>False</td>\n",
              "      <td>6.0</td>\n",
              "      <td>0.0</td>\n",
              "      <td>1.0</td>\n",
              "      <td>0.0</td>\n",
              "      <td>0.0</td>\n",
              "      <td>0.0</td>\n",
              "      <td>0.0</td>\n",
              "      <td>NaN</td>\n",
              "      <td>NaN</td>\n",
              "      <td>NaN</td>\n",
              "      <td>NaN</td>\n",
              "      <td>NaN</td>\n",
              "      <td>NaN</td>\n",
              "      <td>4.0</td>\n",
              "      <td>7.0</td>\n",
              "      <td>4.0</td>\n",
              "      <td>1.0</td>\n",
              "      <td>0.0</td>\n",
              "      <td>0.0</td>\n",
              "      <td>NaN</td>\n",
              "      <td>0.0</td>\n",
              "      <td>1.0</td>\n",
              "      <td>1.0</td>\n",
              "      <td>0.0</td>\n",
              "      <td>0.0</td>\n",
              "      <td>0.0</td>\n",
              "      <td>0.0</td>\n",
              "      <td>0.0</td>\n",
              "      <td>0.0</td>\n",
              "      <td>0.0</td>\n",
              "      <td>0.0</td>\n",
              "      <td>0.0</td>\n",
              "      <td>0.0</td>\n",
              "      <td>0.0</td>\n",
              "      <td>0.0</td>\n",
              "      <td>0.0</td>\n",
              "      <td>0.0</td>\n",
              "      <td>0.0</td>\n",
              "      <td>0.0</td>\n",
              "      <td>...</td>\n",
              "      <td>23.33333</td>\n",
              "      <td>15.75</td>\n",
              "      <td>3.0</td>\n",
              "      <td>0.000</td>\n",
              "      <td>23.33333</td>\n",
              "      <td>0.0</td>\n",
              "      <td>0.00000</td>\n",
              "      <td>2.0</td>\n",
              "      <td>0.0</td>\n",
              "      <td>0.0</td>\n",
              "      <td>0.0</td>\n",
              "      <td>0.0</td>\n",
              "      <td>176.0</td>\n",
              "      <td>92.0</td>\n",
              "      <td>22.30924</td>\n",
              "      <td>0.0</td>\n",
              "      <td>0.0</td>\n",
              "      <td>0.0</td>\n",
              "      <td>0.0</td>\n",
              "      <td>0.0</td>\n",
              "      <td>0.0</td>\n",
              "      <td>0.0</td>\n",
              "      <td>0.0</td>\n",
              "      <td>0.0</td>\n",
              "      <td>642.857</td>\n",
              "      <td>12.857</td>\n",
              "      <td>0.643</td>\n",
              "      <td>2.571</td>\n",
              "      <td>0.729</td>\n",
              "      <td>0.857</td>\n",
              "      <td>1928.571</td>\n",
              "      <td>0.0</td>\n",
              "      <td>25.714</td>\n",
              "      <td>69.429</td>\n",
              "      <td>0.0</td>\n",
              "      <td>0.857</td>\n",
              "      <td>4.286</td>\n",
              "      <td>171.429</td>\n",
              "      <td>7.714</td>\n",
              "      <td>42.857</td>\n",
              "      <td>0.0</td>\n",
              "      <td>0.0</td>\n",
              "      <td>8.571</td>\n",
              "      <td>0.0</td>\n",
              "      <td>321.429</td>\n",
              "      <td>8.571</td>\n",
              "      <td>6.429</td>\n",
              "      <td>0</td>\n",
              "      <td>1</td>\n",
              "      <td>0</td>\n",
              "      <td>0</td>\n",
              "      <td>1</td>\n",
              "      <td>10.0</td>\n",
              "      <td>10.0</td>\n",
              "      <td>1.0</td>\n",
              "      <td>2.0</td>\n",
              "      <td>2.0</td>\n",
              "      <td>3.0</td>\n",
              "      <td>3.0</td>\n",
              "      <td>2.0</td>\n",
              "      <td>100.0</td>\n",
              "      <td>80.0</td>\n",
              "      <td>80.0</td>\n",
              "      <td>8.0</td>\n",
              "      <td>90.0</td>\n",
              "      <td>0.0</td>\n",
              "      <td>0.0</td>\n",
              "      <td>2.75</td>\n",
              "      <td>20.0</td>\n",
              "      <td>100.0</td>\n",
              "      <td>0.00552</td>\n",
              "      <td>5.0</td>\n",
              "      <td>100.0</td>\n",
              "      <td>10.0</td>\n",
              "      <td>NaN</td>\n",
              "      <td>NaN</td>\n",
              "      <td>0</td>\n",
              "      <td>0</td>\n",
              "      <td>0</td>\n",
              "      <td>0</td>\n",
              "      <td>0</td>\n",
              "      <td>0</td>\n",
              "      <td>0</td>\n",
              "      <td>0</td>\n",
              "      <td>0</td>\n",
              "      <td>0</td>\n",
              "      <td>0</td>\n",
              "      <td>0</td>\n",
              "      <td>0</td>\n",
              "      <td>0</td>\n",
              "    </tr>\n",
              "    <tr>\n",
              "      <th>5</th>\n",
              "      <td>0</td>\n",
              "      <td>True</td>\n",
              "      <td>559.216</td>\n",
              "      <td>0.141025</td>\n",
              "      <td>86.62391</td>\n",
              "      <td>0.000280</td>\n",
              "      <td>0.0</td>\n",
              "      <td>2456.97239</td>\n",
              "      <td>109.57551</td>\n",
              "      <td>105.39777</td>\n",
              "      <td>268.58096</td>\n",
              "      <td>40.51814</td>\n",
              "      <td>37.89930</td>\n",
              "      <td>22.66372</td>\n",
              "      <td>0.04528</td>\n",
              "      <td>21.16896</td>\n",
              "      <td>2.34198</td>\n",
              "      <td>56.51048</td>\n",
              "      <td>-0.000171</td>\n",
              "      <td>54</td>\n",
              "      <td>0.0</td>\n",
              "      <td>0.0</td>\n",
              "      <td>0.0</td>\n",
              "      <td>0.0</td>\n",
              "      <td>0.0</td>\n",
              "      <td>0.0</td>\n",
              "      <td>0.0</td>\n",
              "      <td>1</td>\n",
              "      <td>0.0</td>\n",
              "      <td>0.0</td>\n",
              "      <td>0.0</td>\n",
              "      <td>0.0</td>\n",
              "      <td>0.0</td>\n",
              "      <td>0.0</td>\n",
              "      <td>0.0</td>\n",
              "      <td>0.0</td>\n",
              "      <td>0.0</td>\n",
              "      <td>0.0</td>\n",
              "      <td>0.0</td>\n",
              "      <td>0.0</td>\n",
              "      <td>0.0</td>\n",
              "      <td>1</td>\n",
              "      <td>0.0</td>\n",
              "      <td>1</td>\n",
              "      <td>0.0</td>\n",
              "      <td>0.0</td>\n",
              "      <td>False</td>\n",
              "      <td>True</td>\n",
              "      <td>True</td>\n",
              "      <td>True</td>\n",
              "      <td>True</td>\n",
              "      <td>10.0</td>\n",
              "      <td>0.0</td>\n",
              "      <td>0.0</td>\n",
              "      <td>0.0</td>\n",
              "      <td>1.0</td>\n",
              "      <td>0.0</td>\n",
              "      <td>0.0</td>\n",
              "      <td>0.0</td>\n",
              "      <td>1.0</td>\n",
              "      <td>0.0</td>\n",
              "      <td>0.0</td>\n",
              "      <td>0.0</td>\n",
              "      <td>0.0</td>\n",
              "      <td>3.0</td>\n",
              "      <td>NaN</td>\n",
              "      <td>3.0</td>\n",
              "      <td>1.0</td>\n",
              "      <td>0.0</td>\n",
              "      <td>0.0</td>\n",
              "      <td>1.0</td>\n",
              "      <td>0.0</td>\n",
              "      <td>0.0</td>\n",
              "      <td>0.0</td>\n",
              "      <td>0.0</td>\n",
              "      <td>0.0</td>\n",
              "      <td>0.0</td>\n",
              "      <td>0.0</td>\n",
              "      <td>0.0</td>\n",
              "      <td>0.0</td>\n",
              "      <td>0.0</td>\n",
              "      <td>0.0</td>\n",
              "      <td>0.0</td>\n",
              "      <td>0.0</td>\n",
              "      <td>0.0</td>\n",
              "      <td>0.0</td>\n",
              "      <td>0.0</td>\n",
              "      <td>0.0</td>\n",
              "      <td>0.0</td>\n",
              "      <td>0.0</td>\n",
              "      <td>...</td>\n",
              "      <td>0.00000</td>\n",
              "      <td>1.50</td>\n",
              "      <td>0.0</td>\n",
              "      <td>0.000</td>\n",
              "      <td>0.00000</td>\n",
              "      <td>0.0</td>\n",
              "      <td>0.00000</td>\n",
              "      <td>2.0</td>\n",
              "      <td>15.0</td>\n",
              "      <td>2.0</td>\n",
              "      <td>0.0</td>\n",
              "      <td>0.0</td>\n",
              "      <td>104.0</td>\n",
              "      <td>69.0</td>\n",
              "      <td>26.87263</td>\n",
              "      <td>0.0</td>\n",
              "      <td>1.0</td>\n",
              "      <td>0.0</td>\n",
              "      <td>0.0</td>\n",
              "      <td>0.0</td>\n",
              "      <td>0.0</td>\n",
              "      <td>0.0</td>\n",
              "      <td>0.0</td>\n",
              "      <td>0.0</td>\n",
              "      <td>0.000</td>\n",
              "      <td>0.000</td>\n",
              "      <td>0.000</td>\n",
              "      <td>0.000</td>\n",
              "      <td>0.000</td>\n",
              "      <td>0.000</td>\n",
              "      <td>0.000</td>\n",
              "      <td>0.0</td>\n",
              "      <td>0.000</td>\n",
              "      <td>0.000</td>\n",
              "      <td>0.0</td>\n",
              "      <td>0.000</td>\n",
              "      <td>0.000</td>\n",
              "      <td>0.000</td>\n",
              "      <td>0.000</td>\n",
              "      <td>0.000</td>\n",
              "      <td>0.0</td>\n",
              "      <td>0.0</td>\n",
              "      <td>0.000</td>\n",
              "      <td>0.0</td>\n",
              "      <td>0.000</td>\n",
              "      <td>0.000</td>\n",
              "      <td>0.000</td>\n",
              "      <td>0</td>\n",
              "      <td>0</td>\n",
              "      <td>0</td>\n",
              "      <td>0</td>\n",
              "      <td>0</td>\n",
              "      <td>8.0</td>\n",
              "      <td>8.0</td>\n",
              "      <td>1.0</td>\n",
              "      <td>3.0</td>\n",
              "      <td>2.0</td>\n",
              "      <td>3.0</td>\n",
              "      <td>3.0</td>\n",
              "      <td>3.0</td>\n",
              "      <td>100.0</td>\n",
              "      <td>88.0</td>\n",
              "      <td>65.0</td>\n",
              "      <td>1.0</td>\n",
              "      <td>85.0</td>\n",
              "      <td>2.0</td>\n",
              "      <td>1.0</td>\n",
              "      <td>3.00</td>\n",
              "      <td>24.0</td>\n",
              "      <td>100.0</td>\n",
              "      <td>0.00144</td>\n",
              "      <td>0.0</td>\n",
              "      <td>100.0</td>\n",
              "      <td>10.0</td>\n",
              "      <td>36.0</td>\n",
              "      <td>0.47059</td>\n",
              "      <td>0</td>\n",
              "      <td>0</td>\n",
              "      <td>0</td>\n",
              "      <td>0</td>\n",
              "      <td>0</td>\n",
              "      <td>0</td>\n",
              "      <td>0</td>\n",
              "      <td>0</td>\n",
              "      <td>0</td>\n",
              "      <td>0</td>\n",
              "      <td>0</td>\n",
              "      <td>0</td>\n",
              "      <td>0</td>\n",
              "      <td>0</td>\n",
              "    </tr>\n",
              "    <tr>\n",
              "      <th>10</th>\n",
              "      <td>0</td>\n",
              "      <td>NaN</td>\n",
              "      <td>546.154</td>\n",
              "      <td>0.172255</td>\n",
              "      <td>57.80864</td>\n",
              "      <td>0.000221</td>\n",
              "      <td>1.0</td>\n",
              "      <td>1342.39753</td>\n",
              "      <td>60.72256</td>\n",
              "      <td>66.03346</td>\n",
              "      <td>135.05701</td>\n",
              "      <td>19.13607</td>\n",
              "      <td>21.25042</td>\n",
              "      <td>15.35011</td>\n",
              "      <td>0.85690</td>\n",
              "      <td>10.43022</td>\n",
              "      <td>1.81833</td>\n",
              "      <td>71.94189</td>\n",
              "      <td>-0.002127</td>\n",
              "      <td>64</td>\n",
              "      <td>0.0</td>\n",
              "      <td>0.0</td>\n",
              "      <td>0.0</td>\n",
              "      <td>0.0</td>\n",
              "      <td>0.0</td>\n",
              "      <td>0.0</td>\n",
              "      <td>1</td>\n",
              "      <td>0.0</td>\n",
              "      <td>0.0</td>\n",
              "      <td>0.0</td>\n",
              "      <td>0.0</td>\n",
              "      <td>0.0</td>\n",
              "      <td>0.0</td>\n",
              "      <td>0.0</td>\n",
              "      <td>0.0</td>\n",
              "      <td>0.0</td>\n",
              "      <td>0.0</td>\n",
              "      <td>0.0</td>\n",
              "      <td>0.0</td>\n",
              "      <td>0.0</td>\n",
              "      <td>0.0</td>\n",
              "      <td>0.0</td>\n",
              "      <td>0.0</td>\n",
              "      <td>1</td>\n",
              "      <td>NaN</td>\n",
              "      <td>0.0</td>\n",
              "      <td>False</td>\n",
              "      <td>False</td>\n",
              "      <td>False</td>\n",
              "      <td>False</td>\n",
              "      <td>False</td>\n",
              "      <td>11.0</td>\n",
              "      <td>0.0</td>\n",
              "      <td>0.0</td>\n",
              "      <td>0.0</td>\n",
              "      <td>0.0</td>\n",
              "      <td>0.0</td>\n",
              "      <td>1.0</td>\n",
              "      <td>0.0</td>\n",
              "      <td>1.0</td>\n",
              "      <td>0.0</td>\n",
              "      <td>0.0</td>\n",
              "      <td>0.0</td>\n",
              "      <td>0.0</td>\n",
              "      <td>4.0</td>\n",
              "      <td>6.0</td>\n",
              "      <td>5.0</td>\n",
              "      <td>1.0</td>\n",
              "      <td>0.0</td>\n",
              "      <td>0.0</td>\n",
              "      <td>1.0</td>\n",
              "      <td>0.0</td>\n",
              "      <td>0.0</td>\n",
              "      <td>0.0</td>\n",
              "      <td>0.0</td>\n",
              "      <td>0.0</td>\n",
              "      <td>0.0</td>\n",
              "      <td>0.0</td>\n",
              "      <td>0.0</td>\n",
              "      <td>0.0</td>\n",
              "      <td>0.0</td>\n",
              "      <td>0.0</td>\n",
              "      <td>0.0</td>\n",
              "      <td>0.0</td>\n",
              "      <td>0.0</td>\n",
              "      <td>0.0</td>\n",
              "      <td>0.0</td>\n",
              "      <td>0.0</td>\n",
              "      <td>1.0</td>\n",
              "      <td>0.0</td>\n",
              "      <td>...</td>\n",
              "      <td>0.00000</td>\n",
              "      <td>0.00</td>\n",
              "      <td>0.0</td>\n",
              "      <td>0.000</td>\n",
              "      <td>0.00000</td>\n",
              "      <td>0.0</td>\n",
              "      <td>0.42308</td>\n",
              "      <td>4.0</td>\n",
              "      <td>0.0</td>\n",
              "      <td>0.0</td>\n",
              "      <td>0.0</td>\n",
              "      <td>0.0</td>\n",
              "      <td>133.0</td>\n",
              "      <td>84.0</td>\n",
              "      <td>28.91433</td>\n",
              "      <td>4.0</td>\n",
              "      <td>1.0</td>\n",
              "      <td>0.0</td>\n",
              "      <td>0.0</td>\n",
              "      <td>0.0</td>\n",
              "      <td>1.0</td>\n",
              "      <td>1.0</td>\n",
              "      <td>0.0</td>\n",
              "      <td>0.0</td>\n",
              "      <td>1500.000</td>\n",
              "      <td>30.000</td>\n",
              "      <td>1.500</td>\n",
              "      <td>6.000</td>\n",
              "      <td>1.700</td>\n",
              "      <td>2.000</td>\n",
              "      <td>4500.000</td>\n",
              "      <td>0.0</td>\n",
              "      <td>75.000</td>\n",
              "      <td>487.000</td>\n",
              "      <td>0.0</td>\n",
              "      <td>2.000</td>\n",
              "      <td>15.000</td>\n",
              "      <td>400.000</td>\n",
              "      <td>18.000</td>\n",
              "      <td>179.000</td>\n",
              "      <td>0.0</td>\n",
              "      <td>0.0</td>\n",
              "      <td>20.000</td>\n",
              "      <td>0.0</td>\n",
              "      <td>750.000</td>\n",
              "      <td>20.000</td>\n",
              "      <td>15.000</td>\n",
              "      <td>0</td>\n",
              "      <td>1</td>\n",
              "      <td>0</td>\n",
              "      <td>1</td>\n",
              "      <td>1</td>\n",
              "      <td>10.0</td>\n",
              "      <td>10.0</td>\n",
              "      <td>3.0</td>\n",
              "      <td>4.0</td>\n",
              "      <td>1.0</td>\n",
              "      <td>2.0</td>\n",
              "      <td>3.0</td>\n",
              "      <td>4.0</td>\n",
              "      <td>100.0</td>\n",
              "      <td>80.0</td>\n",
              "      <td>40.0</td>\n",
              "      <td>1.0</td>\n",
              "      <td>70.0</td>\n",
              "      <td>3.0</td>\n",
              "      <td>0.0</td>\n",
              "      <td>3.25</td>\n",
              "      <td>27.0</td>\n",
              "      <td>50.0</td>\n",
              "      <td>0.00144</td>\n",
              "      <td>1.0</td>\n",
              "      <td>87.5</td>\n",
              "      <td>7.0</td>\n",
              "      <td>42.0</td>\n",
              "      <td>0.32353</td>\n",
              "      <td>0</td>\n",
              "      <td>0</td>\n",
              "      <td>0</td>\n",
              "      <td>0</td>\n",
              "      <td>0</td>\n",
              "      <td>0</td>\n",
              "      <td>0</td>\n",
              "      <td>0</td>\n",
              "      <td>0</td>\n",
              "      <td>0</td>\n",
              "      <td>0</td>\n",
              "      <td>0</td>\n",
              "      <td>0</td>\n",
              "      <td>0</td>\n",
              "    </tr>\n",
              "    <tr>\n",
              "      <th>17</th>\n",
              "      <td>0</td>\n",
              "      <td>True</td>\n",
              "      <td>542.074</td>\n",
              "      <td>0.146029</td>\n",
              "      <td>33.85894</td>\n",
              "      <td>0.000187</td>\n",
              "      <td>6.0</td>\n",
              "      <td>927.45758</td>\n",
              "      <td>35.68079</td>\n",
              "      <td>47.81902</td>\n",
              "      <td>94.63045</td>\n",
              "      <td>10.81763</td>\n",
              "      <td>14.23365</td>\n",
              "      <td>7.57422</td>\n",
              "      <td>6.22589</td>\n",
              "      <td>5.98474</td>\n",
              "      <td>1.29323</td>\n",
              "      <td>74.03998</td>\n",
              "      <td>-0.005694</td>\n",
              "      <td>62</td>\n",
              "      <td>0.0</td>\n",
              "      <td>0.0</td>\n",
              "      <td>0.0</td>\n",
              "      <td>0.0</td>\n",
              "      <td>0.0</td>\n",
              "      <td>0.0</td>\n",
              "      <td>1</td>\n",
              "      <td>0.0</td>\n",
              "      <td>0.0</td>\n",
              "      <td>0.0</td>\n",
              "      <td>0.0</td>\n",
              "      <td>0.0</td>\n",
              "      <td>0.0</td>\n",
              "      <td>0.0</td>\n",
              "      <td>0.0</td>\n",
              "      <td>0.0</td>\n",
              "      <td>0.0</td>\n",
              "      <td>0.0</td>\n",
              "      <td>0.0</td>\n",
              "      <td>0.0</td>\n",
              "      <td>0.0</td>\n",
              "      <td>0.0</td>\n",
              "      <td>0.0</td>\n",
              "      <td>1</td>\n",
              "      <td>1</td>\n",
              "      <td>0.0</td>\n",
              "      <td>False</td>\n",
              "      <td>False</td>\n",
              "      <td>False</td>\n",
              "      <td>False</td>\n",
              "      <td>False</td>\n",
              "      <td>6.0</td>\n",
              "      <td>0.0</td>\n",
              "      <td>1.0</td>\n",
              "      <td>0.0</td>\n",
              "      <td>1.0</td>\n",
              "      <td>0.0</td>\n",
              "      <td>0.0</td>\n",
              "      <td>1.0</td>\n",
              "      <td>0.0</td>\n",
              "      <td>1.0</td>\n",
              "      <td>0.0</td>\n",
              "      <td>0.0</td>\n",
              "      <td>0.0</td>\n",
              "      <td>4.0</td>\n",
              "      <td>6.0</td>\n",
              "      <td>6.0</td>\n",
              "      <td>1.0</td>\n",
              "      <td>0.0</td>\n",
              "      <td>0.0</td>\n",
              "      <td>2.0</td>\n",
              "      <td>0.0</td>\n",
              "      <td>0.0</td>\n",
              "      <td>0.0</td>\n",
              "      <td>0.0</td>\n",
              "      <td>0.0</td>\n",
              "      <td>0.0</td>\n",
              "      <td>0.0</td>\n",
              "      <td>0.0</td>\n",
              "      <td>1.0</td>\n",
              "      <td>0.0</td>\n",
              "      <td>0.0</td>\n",
              "      <td>0.0</td>\n",
              "      <td>0.0</td>\n",
              "      <td>0.0</td>\n",
              "      <td>0.0</td>\n",
              "      <td>0.0</td>\n",
              "      <td>0.0</td>\n",
              "      <td>0.0</td>\n",
              "      <td>0.0</td>\n",
              "      <td>...</td>\n",
              "      <td>1.87500</td>\n",
              "      <td>0.00</td>\n",
              "      <td>0.0</td>\n",
              "      <td>1.875</td>\n",
              "      <td>0.00000</td>\n",
              "      <td>0.0</td>\n",
              "      <td>2.63462</td>\n",
              "      <td>5.0</td>\n",
              "      <td>35.0</td>\n",
              "      <td>3.0</td>\n",
              "      <td>0.0</td>\n",
              "      <td>0.0</td>\n",
              "      <td>137.0</td>\n",
              "      <td>86.0</td>\n",
              "      <td>31.43576</td>\n",
              "      <td>2.0</td>\n",
              "      <td>0.0</td>\n",
              "      <td>0.0</td>\n",
              "      <td>0.0</td>\n",
              "      <td>0.0</td>\n",
              "      <td>1.0</td>\n",
              "      <td>1.0</td>\n",
              "      <td>0.0</td>\n",
              "      <td>0.0</td>\n",
              "      <td>0.000</td>\n",
              "      <td>400.000</td>\n",
              "      <td>0.000</td>\n",
              "      <td>0.000</td>\n",
              "      <td>0.000</td>\n",
              "      <td>0.000</td>\n",
              "      <td>0.000</td>\n",
              "      <td>0.0</td>\n",
              "      <td>0.000</td>\n",
              "      <td>600.000</td>\n",
              "      <td>0.0</td>\n",
              "      <td>0.000</td>\n",
              "      <td>0.000</td>\n",
              "      <td>0.000</td>\n",
              "      <td>0.000</td>\n",
              "      <td>0.000</td>\n",
              "      <td>0.0</td>\n",
              "      <td>0.0</td>\n",
              "      <td>0.000</td>\n",
              "      <td>0.0</td>\n",
              "      <td>0.000</td>\n",
              "      <td>0.000</td>\n",
              "      <td>0.000</td>\n",
              "      <td>0</td>\n",
              "      <td>0</td>\n",
              "      <td>0</td>\n",
              "      <td>0</td>\n",
              "      <td>0</td>\n",
              "      <td>10.0</td>\n",
              "      <td>10.0</td>\n",
              "      <td>1.0</td>\n",
              "      <td>2.0</td>\n",
              "      <td>2.0</td>\n",
              "      <td>3.0</td>\n",
              "      <td>3.0</td>\n",
              "      <td>3.0</td>\n",
              "      <td>100.0</td>\n",
              "      <td>96.0</td>\n",
              "      <td>65.0</td>\n",
              "      <td>3.0</td>\n",
              "      <td>85.0</td>\n",
              "      <td>1.0</td>\n",
              "      <td>0.0</td>\n",
              "      <td>2.50</td>\n",
              "      <td>30.0</td>\n",
              "      <td>100.0</td>\n",
              "      <td>0.00144</td>\n",
              "      <td>6.0</td>\n",
              "      <td>100.0</td>\n",
              "      <td>4.0</td>\n",
              "      <td>39.0</td>\n",
              "      <td>0.05882</td>\n",
              "      <td>0</td>\n",
              "      <td>0</td>\n",
              "      <td>0</td>\n",
              "      <td>0</td>\n",
              "      <td>0</td>\n",
              "      <td>0</td>\n",
              "      <td>0</td>\n",
              "      <td>0</td>\n",
              "      <td>0</td>\n",
              "      <td>0</td>\n",
              "      <td>0</td>\n",
              "      <td>0</td>\n",
              "      <td>0</td>\n",
              "      <td>0</td>\n",
              "    </tr>\n",
              "  </tbody>\n",
              "</table>\n",
              "<p>5 rows × 280 columns</p>\n",
              "</div>\n",
              "      <button class=\"colab-df-convert\" onclick=\"convertToInteractive('df-9f25da92-f227-4ac9-a203-575f13198998')\"\n",
              "              title=\"Convert this dataframe to an interactive table.\"\n",
              "              style=\"display:none;\">\n",
              "        \n",
              "  <svg xmlns=\"http://www.w3.org/2000/svg\" height=\"24px\"viewBox=\"0 0 24 24\"\n",
              "       width=\"24px\">\n",
              "    <path d=\"M0 0h24v24H0V0z\" fill=\"none\"/>\n",
              "    <path d=\"M18.56 5.44l.94 2.06.94-2.06 2.06-.94-2.06-.94-.94-2.06-.94 2.06-2.06.94zm-11 1L8.5 8.5l.94-2.06 2.06-.94-2.06-.94L8.5 2.5l-.94 2.06-2.06.94zm10 10l.94 2.06.94-2.06 2.06-.94-2.06-.94-.94-2.06-.94 2.06-2.06.94z\"/><path d=\"M17.41 7.96l-1.37-1.37c-.4-.4-.92-.59-1.43-.59-.52 0-1.04.2-1.43.59L10.3 9.45l-7.72 7.72c-.78.78-.78 2.05 0 2.83L4 21.41c.39.39.9.59 1.41.59.51 0 1.02-.2 1.41-.59l7.78-7.78 2.81-2.81c.8-.78.8-2.07 0-2.86zM5.41 20L4 18.59l7.72-7.72 1.47 1.35L5.41 20z\"/>\n",
              "  </svg>\n",
              "      </button>\n",
              "      \n",
              "  <style>\n",
              "    .colab-df-container {\n",
              "      display:flex;\n",
              "      flex-wrap:wrap;\n",
              "      gap: 12px;\n",
              "    }\n",
              "\n",
              "    .colab-df-convert {\n",
              "      background-color: #E8F0FE;\n",
              "      border: none;\n",
              "      border-radius: 50%;\n",
              "      cursor: pointer;\n",
              "      display: none;\n",
              "      fill: #1967D2;\n",
              "      height: 32px;\n",
              "      padding: 0 0 0 0;\n",
              "      width: 32px;\n",
              "    }\n",
              "\n",
              "    .colab-df-convert:hover {\n",
              "      background-color: #E2EBFA;\n",
              "      box-shadow: 0px 1px 2px rgba(60, 64, 67, 0.3), 0px 1px 3px 1px rgba(60, 64, 67, 0.15);\n",
              "      fill: #174EA6;\n",
              "    }\n",
              "\n",
              "    [theme=dark] .colab-df-convert {\n",
              "      background-color: #3B4455;\n",
              "      fill: #D2E3FC;\n",
              "    }\n",
              "\n",
              "    [theme=dark] .colab-df-convert:hover {\n",
              "      background-color: #434B5C;\n",
              "      box-shadow: 0px 1px 3px 1px rgba(0, 0, 0, 0.15);\n",
              "      filter: drop-shadow(0px 1px 2px rgba(0, 0, 0, 0.3));\n",
              "      fill: #FFFFFF;\n",
              "    }\n",
              "  </style>\n",
              "\n",
              "      <script>\n",
              "        const buttonEl =\n",
              "          document.querySelector('#df-9f25da92-f227-4ac9-a203-575f13198998 button.colab-df-convert');\n",
              "        buttonEl.style.display =\n",
              "          google.colab.kernel.accessAllowed ? 'block' : 'none';\n",
              "\n",
              "        async function convertToInteractive(key) {\n",
              "          const element = document.querySelector('#df-9f25da92-f227-4ac9-a203-575f13198998');\n",
              "          const dataTable =\n",
              "            await google.colab.kernel.invokeFunction('convertToInteractive',\n",
              "                                                     [key], {});\n",
              "          if (!dataTable) return;\n",
              "\n",
              "          const docLinkHtml = 'Like what you see? Visit the ' +\n",
              "            '<a target=\"_blank\" href=https://colab.research.google.com/notebooks/data_table.ipynb>data table notebook</a>'\n",
              "            + ' to learn more about interactive tables.';\n",
              "          element.innerHTML = '';\n",
              "          dataTable['output_type'] = 'display_data';\n",
              "          await google.colab.output.renderOutput(dataTable, element);\n",
              "          const docLink = document.createElement('div');\n",
              "          docLink.innerHTML = docLinkHtml;\n",
              "          element.appendChild(docLink);\n",
              "        }\n",
              "      </script>\n",
              "    </div>\n",
              "  </div>\n",
              "  "
            ]
          },
          "metadata": {},
          "execution_count": 340
        }
      ]
    },
    {
      "cell_type": "code",
      "source": [
        "### 区分数据中的数值变量和离散变量，对不同的变量类型分别采用不同的填充策略\n",
        "## O_index:   数值变量列名\n",
        "##C :离散变量列名\n",
        "def distinguish_Char_Num(DataFrame_data):\n",
        "  import copy\n",
        "  m, n = DataFrame_data.shape\n",
        "  O = []\n",
        "  C = []\n",
        "  data = copy.deepcopy(DataFrame_data)\n",
        "  for i in range(n):\n",
        "    try:\n",
        "      if isinstance(data.iloc[0, i], int) or isinstance(data.iloc[0, i], float) or isinstance(data.iloc[0, i],  np.float64)  or isinstance(data.iloc[0, i], np.int64) or isinstance(data.iloc[0, i], np.int32):\n",
        "          O.append(i)\n",
        "      elif isinstance(data.iloc[0, i], object):\n",
        "          C.append(i)\n",
        "      else:\n",
        "            raise ValueError(\"the %d colum of data is ot a umber or object\")\n",
        "    except TypeError as e:\n",
        "          print(e)\n",
        "  O_data = copy.deepcopy(data.iloc[:, O])\n",
        "  C_data = copy.deepcopy(data.iloc[:, C])\n",
        "  O_index = O_data.columns.tolist()\n",
        "  C_index = C_data.columns.tolist()\n",
        "  return O_index, C_index\n",
        "# 取得两类变量类型的名称\n",
        "O_index, C_index = distinguish_Char_Num(df_update4[missing_variables])\n",
        "# 连续变量 \n",
        "O_index\n",
        "# 离散变量\n",
        "C_index"
      ],
      "metadata": {
        "id": "OTAmXOdfWS7p",
        "colab": {
          "base_uri": "https://localhost:8080/"
        },
        "outputId": "5003d53b-699f-4725-8ed3-d14443db1ca5"
      },
      "execution_count": null,
      "outputs": [
        {
          "output_type": "execute_result",
          "data": {
            "text/plain": [
              "['OTHCA10Y',\n",
              " 'HORM',\n",
              " 'MALDIET',\n",
              " 'LFDIETF2',\n",
              " 'DVT',\n",
              " 'PE',\n",
              " 'BLDPROB',\n",
              " 'HORMSTAT',\n",
              " 'DIABTRT']"
            ]
          },
          "metadata": {},
          "execution_count": 341
        }
      ]
    },
    {
      "cell_type": "code",
      "source": [
        "df_update4.iloc[:,1].unique()"
      ],
      "metadata": {
        "colab": {
          "base_uri": "https://localhost:8080/"
        },
        "id": "SGPQAKnuQyG5",
        "outputId": "6bb065ba-8352-4f13-a27e-bcf1a3cab155"
      },
      "execution_count": null,
      "outputs": [
        {
          "output_type": "execute_result",
          "data": {
            "text/plain": [
              "array([True, nan, False], dtype=object)"
            ]
          },
          "metadata": {},
          "execution_count": 342
        }
      ]
    },
    {
      "cell_type": "code",
      "source": [
        "## 2023-06-01\n",
        "y_train = X_train['mi']\n",
        "y_val = X_val['mi']\n",
        "y_test = X_test['mi']\n"
      ],
      "metadata": {
        "id": "t5RPdaAiM3Hr"
      },
      "execution_count": null,
      "outputs": []
    },
    {
      "cell_type": "code",
      "source": [
        "#\n",
        "X_train.drop(columns=['mi'], inplace = True)\n",
        "X_val.drop(columns=['mi'], inplace = True)\n",
        "X_test.drop(columns=['mi'], inplace = True)\n",
        "#\n",
        "selected_features_train = X_train.columns\n",
        "selected_features_val = X_val.columns\n",
        "selected_features_test = X_test.columns"
      ],
      "metadata": {
        "id": "UzZbsJNiOQGY"
      },
      "execution_count": null,
      "outputs": []
    },
    {
      "cell_type": "code",
      "source": [
        "X_test"
      ],
      "metadata": {
        "id": "2GJunviFj7-A"
      },
      "execution_count": null,
      "outputs": []
    },
    {
      "cell_type": "code",
      "source": [
        "lr = RandomForestClassifier(n_estimators=100, random_state=42)"
      ],
      "metadata": {
        "id": "7m6zkvcaq1Dk"
      },
      "execution_count": null,
      "outputs": []
    },
    {
      "cell_type": "code",
      "source": [
        "lr.fit(X_train, y_train)"
      ],
      "metadata": {
        "colab": {
          "base_uri": "https://localhost:8080/",
          "height": 72
        },
        "id": "4hxvZLy2Otve",
        "outputId": "2f745464-2634-437c-a134-1fb84a32d0b9"
      },
      "execution_count": null,
      "outputs": [
        {
          "output_type": "execute_result",
          "data": {
            "text/plain": [
              "RandomForestClassifier(random_state=42)"
            ],
            "text/html": [
              "<style>#sk-container-id-2 {color: black;background-color: white;}#sk-container-id-2 pre{padding: 0;}#sk-container-id-2 div.sk-toggleable {background-color: white;}#sk-container-id-2 label.sk-toggleable__label {cursor: pointer;display: block;width: 100%;margin-bottom: 0;padding: 0.3em;box-sizing: border-box;text-align: center;}#sk-container-id-2 label.sk-toggleable__label-arrow:before {content: \"▸\";float: left;margin-right: 0.25em;color: #696969;}#sk-container-id-2 label.sk-toggleable__label-arrow:hover:before {color: black;}#sk-container-id-2 div.sk-estimator:hover label.sk-toggleable__label-arrow:before {color: black;}#sk-container-id-2 div.sk-toggleable__content {max-height: 0;max-width: 0;overflow: hidden;text-align: left;background-color: #f0f8ff;}#sk-container-id-2 div.sk-toggleable__content pre {margin: 0.2em;color: black;border-radius: 0.25em;background-color: #f0f8ff;}#sk-container-id-2 input.sk-toggleable__control:checked~div.sk-toggleable__content {max-height: 200px;max-width: 100%;overflow: auto;}#sk-container-id-2 input.sk-toggleable__control:checked~label.sk-toggleable__label-arrow:before {content: \"▾\";}#sk-container-id-2 div.sk-estimator input.sk-toggleable__control:checked~label.sk-toggleable__label {background-color: #d4ebff;}#sk-container-id-2 div.sk-label input.sk-toggleable__control:checked~label.sk-toggleable__label {background-color: #d4ebff;}#sk-container-id-2 input.sk-hidden--visually {border: 0;clip: rect(1px 1px 1px 1px);clip: rect(1px, 1px, 1px, 1px);height: 1px;margin: -1px;overflow: hidden;padding: 0;position: absolute;width: 1px;}#sk-container-id-2 div.sk-estimator {font-family: monospace;background-color: #f0f8ff;border: 1px dotted black;border-radius: 0.25em;box-sizing: border-box;margin-bottom: 0.5em;}#sk-container-id-2 div.sk-estimator:hover {background-color: #d4ebff;}#sk-container-id-2 div.sk-parallel-item::after {content: \"\";width: 100%;border-bottom: 1px solid gray;flex-grow: 1;}#sk-container-id-2 div.sk-label:hover label.sk-toggleable__label {background-color: #d4ebff;}#sk-container-id-2 div.sk-serial::before {content: \"\";position: absolute;border-left: 1px solid gray;box-sizing: border-box;top: 0;bottom: 0;left: 50%;z-index: 0;}#sk-container-id-2 div.sk-serial {display: flex;flex-direction: column;align-items: center;background-color: white;padding-right: 0.2em;padding-left: 0.2em;position: relative;}#sk-container-id-2 div.sk-item {position: relative;z-index: 1;}#sk-container-id-2 div.sk-parallel {display: flex;align-items: stretch;justify-content: center;background-color: white;position: relative;}#sk-container-id-2 div.sk-item::before, #sk-container-id-2 div.sk-parallel-item::before {content: \"\";position: absolute;border-left: 1px solid gray;box-sizing: border-box;top: 0;bottom: 0;left: 50%;z-index: -1;}#sk-container-id-2 div.sk-parallel-item {display: flex;flex-direction: column;z-index: 1;position: relative;background-color: white;}#sk-container-id-2 div.sk-parallel-item:first-child::after {align-self: flex-end;width: 50%;}#sk-container-id-2 div.sk-parallel-item:last-child::after {align-self: flex-start;width: 50%;}#sk-container-id-2 div.sk-parallel-item:only-child::after {width: 0;}#sk-container-id-2 div.sk-dashed-wrapped {border: 1px dashed gray;margin: 0 0.4em 0.5em 0.4em;box-sizing: border-box;padding-bottom: 0.4em;background-color: white;}#sk-container-id-2 div.sk-label label {font-family: monospace;font-weight: bold;display: inline-block;line-height: 1.2em;}#sk-container-id-2 div.sk-label-container {text-align: center;}#sk-container-id-2 div.sk-container {/* jupyter's `normalize.less` sets `[hidden] { display: none; }` but bootstrap.min.css set `[hidden] { display: none !important; }` so we also need the `!important` here to be able to override the default hidden behavior on the sphinx rendered scikit-learn.org. See: https://github.com/scikit-learn/scikit-learn/issues/21755 */display: inline-block !important;position: relative;}#sk-container-id-2 div.sk-text-repr-fallback {display: none;}</style><div id=\"sk-container-id-2\" class=\"sk-top-container\"><div class=\"sk-text-repr-fallback\"><pre>RandomForestClassifier(random_state=42)</pre><b>In a Jupyter environment, please rerun this cell to show the HTML representation or trust the notebook. <br />On GitHub, the HTML representation is unable to render, please try loading this page with nbviewer.org.</b></div><div class=\"sk-container\" hidden><div class=\"sk-item\"><div class=\"sk-estimator sk-toggleable\"><input class=\"sk-toggleable__control sk-hidden--visually\" id=\"sk-estimator-id-2\" type=\"checkbox\" checked><label for=\"sk-estimator-id-2\" class=\"sk-toggleable__label sk-toggleable__label-arrow\">RandomForestClassifier</label><div class=\"sk-toggleable__content\"><pre>RandomForestClassifier(random_state=42)</pre></div></div></div></div></div>"
            ]
          },
          "metadata": {},
          "execution_count": 415
        }
      ]
    },
    {
      "cell_type": "code",
      "source": [
        "#lr = LogisticRegression(solver='newton-cg', class_weight='balanced')\n",
        "lr = RandomForestClassifier(n_estimators=100, random_state=42)\n",
        "lr.fit(X_train, y_train)\n",
        "cv = KFold(n_splits=5, shuffle=True, random_state=42)\n",
        "#val_auc = cross_val_score(lr, X_val, y_val, scoring='roc_auc', cv=cv).mean()\n",
        "test_auc = cross_val_score(lr, X_test, y_test, scoring='roc_auc', cv=cv).mean()\n",
        "\n",
        "#print('Validation AUC:', val_auc)\n",
        "print('Test AUC:', test_auc)\n",
        "\n",
        "test_prob = lr.predict_proba(X_test)[:, 1]\n",
        "fpr_test, tpr_test, thresholds_test = roc_curve(y_test, test_prob)\n",
        "#auc = metrics.auc(fpr_test, tpr_test)\n",
        "# plot ROC vurve\n",
        "plt.figure()\n",
        "lw = 2\n",
        "plt.plot([0,1],[0,1], lw = lw, linestyle = '--')\n",
        "plt.plot(fpr_test, tpr_test, lw = lw, label='ROC curve (area = %0.2f)' % test_auc)\n",
        "plt.xlabel('False Positive Rate')\n",
        "plt.ylabel('True Positive Rate')\n",
        "plt.title('Validation ROC Curve')\n",
        "plt.legend(loc =\"lower right\")\n",
        "plt.show()"
      ],
      "metadata": {
        "colab": {
          "base_uri": "https://localhost:8080/",
          "height": 517
        },
        "id": "K7gCvzWRPPUM",
        "outputId": "f4a31897-8429-48e7-c4f6-269d1390361e"
      },
      "execution_count": null,
      "outputs": [
        {
          "output_type": "stream",
          "name": "stdout",
          "text": [
            "Test AUC: 0.6403507081927711\n"
          ]
        },
        {
          "output_type": "display_data",
          "data": {
            "text/plain": [
              "<Figure size 640x480 with 1 Axes>"
            ],
            "image/png": "[encoded data removed]"
          },
          "metadata": {}
        }
      ]
    },
    {
      "cell_type": "code",
      "source": [
        "print(auc)"
      ],
      "metadata": {
        "id": "Eduup6xDth4O",
        "outputId": "049e6aa5-430b-4bd3-f421-71ee30f9162a",
        "colab": {
          "base_uri": "https://localhost:8080/"
        }
      },
      "execution_count": null,
      "outputs": [
        {
          "output_type": "stream",
          "name": "stdout",
          "text": [
            "0.6472918718278917\n"
          ]
        }
      ]
    },
    {
      "cell_type": "markdown",
      "source": [
        "###### 缺失值填充（方法二）通过变量数值的数量填充"
      ],
      "metadata": {
        "id": "rFdqRTMlNWhD"
      }
    },
    {
      "cell_type": "code",
      "source": [
        "### 方法二： 区分数据中的数值变量和离散变量，对不同的变量类型分别采用不同的填充策略\n",
        "def check_var(DataFrame_data):\n",
        "  import copy\n",
        "  m, n = DataFrame_data.shape\n",
        "  O1 = []\n",
        "  C1 = []\n",
        "  data = copy.deepcopy(DataFrame_data)\n",
        "  for i in range(n):\n",
        "      if len(data.iloc[:,i].unique()) > 13:\n",
        "          O1.append(i)\n",
        "      else:\n",
        "          C1.append(i)\n",
        "  O1_data = copy.deepcopy(data.iloc[:, O1])\n",
        "  C1_data = copy.deepcopy(data.iloc[:, C1])\n",
        "  O1_index = O1_data.columns.tolist()\n",
        "  C1_index = C1_data.columns.tolist()\n",
        "  return O1_index, C1_index\n",
        "# 取得两类变量类型的名称\n",
        "O1_index, C1_index = check_var(df_update4[missing_variables])\n",
        "# 连续变量 \n",
        "print(O1_index)\n",
        "# 离散变量\n",
        "print(C1_index)"
      ],
      "metadata": {
        "id": "m4ZWDJb4P0eH",
        "colab": {
          "base_uri": "https://localhost:8080/"
        },
        "outputId": "00f6af88-e8f3-4d6c-c196-53083c9dd996"
      },
      "execution_count": null,
      "outputs": [
        {
          "output_type": "stream",
          "name": "stdout",
          "text": [
            "['baseline_sleep', 'ANYMENSA', 'MENO', 'TEPIWK', 'LEPITOT', 'MSEPIWK', 'XLMSEPI', 'SMINWK', 'WALKEXP', 'MODEXP', 'MILDEXP', 'AVWKEXP', 'FFWKEXP', 'ALCSWK', 'PACKYRS', 'bmi', 'EMOWELL', 'ENERFAT', 'HOSTIL', 'GENHLTH', 'NEGEMOT', 'OPTIMISM', 'PSHTDEP', 'SLPDSTRB', 'SOCSTRN', 'SOCSUPP', 'SYMPTOM']\n",
            "['fat_down', 'OTHCA10Y', 'HORM', 'MALDIET', 'LFDIETF2', 'DVT', 'PE', 'BLDPROB', 'HARDSTDY', 'HORMSTAT', 'DIABTRT', 'EDUC', 'NOTWRK', 'RETIRED', 'HOMEMKR', 'EMPLOYED', 'DISABLED', 'OTHWRK', 'JOBHMMKR', 'JOBMANGR', 'JOBTECH', 'JOBSERV', 'JOBLABOR', 'JOBOTH', 'MARITAL', 'PEDUC', 'INCOME', 'CAREPROV', 'ABNPAP3Y', 'CERVDYS', 'MAINJOB', 'HOSP2Y', 'GLAUCOMA', 'CATARACT', 'HICHOLRP', 'ASTHMA', 'EMPHYSEM', 'KIDNEYST', 'HIBLDCA', 'STOMULCR', 'DIVERTIC', 'COLITIS', 'LUPUS', 'PANCREAT', 'OSTEOPOR', 'HIPREP', 'OTHJREP', 'INTESTRM', 'MIGRAINE', 'ALZHEIM', 'MS', 'PARKINS', 'ALS', 'NACOND', 'CVD', 'CARDCATH', 'CABG', 'PTCA', 'CAROTID', 'ATRIALFB', 'AORTICAN', 'ARTHRIT', 'GALLBS', 'THYROID', 'HYPT', 'ANGINA', 'PAD', 'COLNSCPY', 'HEMOCCUL', 'HEMOCCDT', 'CANC_F30', 'BRCA_F30', 'OVRYCA', 'ENDO_F30', 'COLN_F30', 'THYRCA', 'CERVCA', 'SKINCA', 'MELN_F30', 'LIVERCA', 'LUNGCA', 'BRAINCA', 'BKBONE', 'FRACT55', 'REVASC', 'MENARCHE', 'MENSREG', 'MENSREGA', 'MENSWO1Y', 'MENPSYMP', 'PREG', 'PREGNUM', 'PREG6M', 'PREG6MN', 'PREG6MAF', 'PREG6MAL', 'BRTHSTLN', 'ECTPREG', 'NOCNCEIV', 'BRSTFEED', 'OOPH', 'TUBTIED', 'NEDLASP', 'BRSTBIOP', 'BRSTAUG', 'BRSTOPOT', 'GRAVID', 'FULLTRMR', 'AGEFBIR', 'BOOPH', 'BRSTFDMO', 'DIABREL', 'MIREL', 'STRKREL', 'CANCFREL', 'CANCMREL', 'BKBONMOM', 'BKBONDAD', 'BKBONREL', 'COLOREL', 'SMOKEVR', 'COFFEE', 'CUPREG', 'ALC12DR', 'ALCNOW', 'WGTADULT', 'LCALDIET', 'LFATDIET', 'LSLTDIET', 'FBDIET34', 'DBDIET34', 'LACTDIET', 'OTHDIET', 'WALK', 'WALKMIN', 'WALKSPD', 'HRDEX', 'MODEX', 'MLDEX', 'HRDEX18', 'HRDEX35', 'HRDEX50', 'LMSEPI', 'VFWKEXP', 'ALCOHOL', 'PACKYRSC', 'FAMILYDVTEVR', 'FAMILYPEEVR', 'RECENCY', 'LIFEQUAL', 'SATLIFE', 'GENHEL', 'HLTHC1Y', 'VIGACT', 'MODACT', 'LIFTGROC', 'HRSSLP', 'EMOLIMIT', 'LFEVENT1', 'LIVALOR', 'PAIN', 'SOCFUNC']\n"
          ]
        }
      ]
    },
    {
      "cell_type": "code",
      "source": [
        "df_update4[missing_variables].dtypes.value_counts()"
      ],
      "metadata": {
        "id": "ShMEADoJOQgJ",
        "colab": {
          "base_uri": "https://localhost:8080/"
        },
        "outputId": "5f3108c6-9399-481a-de85-b85e641adfb1"
      },
      "execution_count": null,
      "outputs": [
        {
          "output_type": "execute_result",
          "data": {
            "text/plain": [
              "float64    179\n",
              "object      10\n",
              "dtype: int64"
            ]
          },
          "metadata": {},
          "execution_count": 344
        }
      ]
    },
    {
      "cell_type": "code",
      "source": [
        "# 填补缺失值数据类型为OBJECT类型的分类变量数据，填补的方法为填充为类别多的值\n",
        "#class DataFrameImputer(TransformerMixin):\n",
        "#  def _init_(self):\n",
        "#    \"\"\"Impute missing values.\n",
        "#     Columns of dype object are imputed with MICE category variables in columns.\n",
        "#     Columns of float types are imputed with MICE continueous variables in columns.\n",
        "#    \"\"\"\n",
        "#  def fit(self, X, y=None):\n",
        "#      self.fill = pd.Series([X[c].value_counts().index[0] \n",
        "#                      if X[c].dtypes == 'object' else np.nan for c in X],\n",
        "#                      index = X.columns)\n",
        "#      \n",
        "#      return self\n",
        "\n",
        "#  def transform(self, X, Y=None):\n",
        "#        return X.fillna(self.fill)\n",
        "#xt_obj_complete = DataFrameImputer().fit_transform(df_update4)\n",
        "#xt_obj_complete.dtypes.value_counts()\n"
      ],
      "metadata": {
        "id": "f_onKQ3PPxCl"
      },
      "execution_count": null,
      "outputs": []
    },
    {
      "cell_type": "code",
      "source": [
        "#missing_values_table(xt_obj_complete)"
      ],
      "metadata": {
        "id": "qhJsOMjrO1Yx"
      },
      "execution_count": null,
      "outputs": []
    },
    {
      "cell_type": "markdown",
      "source": [
        "####2）填补为类别分类变量的缺失值，采用中位数填补"
      ],
      "metadata": {
        "id": "SKQKidEuO8Bm"
      }
    },
    {
      "cell_type": "code",
      "source": [
        "df_update4['fat_down']= df_update4['fat_down'].fillna(0)"
      ],
      "metadata": {
        "id": "R3MLY0zGJiYO"
      },
      "execution_count": null,
      "outputs": []
    },
    {
      "cell_type": "code",
      "source": [
        "df_update4['fat_down']= df_update4['fat_down'].astype(int)"
      ],
      "metadata": {
        "id": "HQC56YsQpgg2"
      },
      "execution_count": null,
      "outputs": []
    },
    {
      "cell_type": "code",
      "source": [
        "i = ['dm_intervention','ht_trial','ht_intervention','cad_trial','cad_intervention']\n",
        "for col in i:\n",
        " df_update4[col]= df_update4[col].astype(int)"
      ],
      "metadata": {
        "id": "DqkuVYl8GO4A"
      },
      "execution_count": null,
      "outputs": []
    },
    {
      "cell_type": "code",
      "source": [
        " df_update4.iloc[:,1].unique()"
      ],
      "metadata": {
        "id": "D0kLtCYnIE9T",
        "outputId": "3c0e6ac6-2000-43d1-cb77-979d5615af37",
        "colab": {
          "base_uri": "https://localhost:8080/"
        }
      },
      "execution_count": null,
      "outputs": [
        {
          "output_type": "execute_result",
          "data": {
            "text/plain": [
              "array([1, 0])"
            ]
          },
          "metadata": {},
          "execution_count": 348
        }
      ]
    },
    {
      "cell_type": "code",
      "source": [
        "df_update4.dtypes.value_counts()"
      ],
      "metadata": {
        "id": "twLjbxtJGcgv",
        "outputId": "14860c81-73f9-4419-e504-cd9bea80acb5",
        "colab": {
          "base_uri": "https://localhost:8080/"
        }
      },
      "execution_count": null,
      "outputs": [
        {
          "output_type": "execute_result",
          "data": {
            "text/plain": [
              "float64    230\n",
              "int64       27\n",
              "object      23\n",
              "dtype: int64"
            ]
          },
          "metadata": {},
          "execution_count": 349
        }
      ]
    },
    {
      "cell_type": "code",
      "source": [
        "#df_update4['SOCFUNC'] = df_update4['SOCFUNC'].fillna((df_update4.loc[df_update4['SOCFUNC'].isnull() == False, 'SOCFUNC']).mode())"
      ],
      "metadata": {
        "id": "I-GiF299_3Sz"
      },
      "execution_count": null,
      "outputs": []
    },
    {
      "cell_type": "code",
      "source": [
        "for col_name in C1_index:\n",
        "    print(df_update4.loc[df_update4[col_name].isnull() == False, col_name].mode())"
      ],
      "metadata": {
        "id": "on2aP5dgM0Aw"
      },
      "execution_count": null,
      "outputs": []
    },
    {
      "cell_type": "code",
      "source": [
        "df_update4.head()"
      ],
      "metadata": {
        "id": "ikJfoFHOKhV0"
      },
      "execution_count": null,
      "outputs": []
    },
    {
      "cell_type": "code",
      "source": [
        "## 填补经UNIQUE判断出的分类变量数据，填补类型为中位数\n",
        "# C1_index 为分类数据\n",
        "print(C1_index)\n",
        "for col_name in C1_index:\n",
        "    #print(col_name)\n",
        "     df_update4[col_name] = df_update4[col_name].fillna(df_update4.loc[df_update4[col_name].isnull() == False, col_name].median())"
      ],
      "metadata": {
        "colab": {
          "base_uri": "https://localhost:8080/"
        },
        "id": "8U7kRttaRnsx",
        "outputId": "0220d84c-2a29-44cf-d56d-4a39feac14e3"
      },
      "execution_count": null,
      "outputs": [
        {
          "output_type": "stream",
          "name": "stdout",
          "text": [
            "['fat_down', 'OTHCA10Y', 'HORM', 'MALDIET', 'LFDIETF2', 'DVT', 'PE', 'BLDPROB', 'HARDSTDY', 'HORMSTAT', 'DIABTRT', 'EDUC', 'NOTWRK', 'RETIRED', 'HOMEMKR', 'EMPLOYED', 'DISABLED', 'OTHWRK', 'JOBHMMKR', 'JOBMANGR', 'JOBTECH', 'JOBSERV', 'JOBLABOR', 'JOBOTH', 'MARITAL', 'PEDUC', 'INCOME', 'CAREPROV', 'ABNPAP3Y', 'CERVDYS', 'MAINJOB', 'HOSP2Y', 'GLAUCOMA', 'CATARACT', 'HICHOLRP', 'ASTHMA', 'EMPHYSEM', 'KIDNEYST', 'HIBLDCA', 'STOMULCR', 'DIVERTIC', 'COLITIS', 'LUPUS', 'PANCREAT', 'OSTEOPOR', 'HIPREP', 'OTHJREP', 'INTESTRM', 'MIGRAINE', 'ALZHEIM', 'MS', 'PARKINS', 'ALS', 'NACOND', 'CVD', 'CARDCATH', 'CABG', 'PTCA', 'CAROTID', 'ATRIALFB', 'AORTICAN', 'ARTHRIT', 'GALLBS', 'THYROID', 'HYPT', 'ANGINA', 'PAD', 'COLNSCPY', 'HEMOCCUL', 'HEMOCCDT', 'CANC_F30', 'BRCA_F30', 'OVRYCA', 'ENDO_F30', 'COLN_F30', 'THYRCA', 'CERVCA', 'SKINCA', 'MELN_F30', 'LIVERCA', 'LUNGCA', 'BRAINCA', 'BKBONE', 'FRACT55', 'REVASC', 'MENARCHE', 'MENSREG', 'MENSREGA', 'MENSWO1Y', 'MENPSYMP', 'PREG', 'PREGNUM', 'PREG6M', 'PREG6MN', 'PREG6MAF', 'PREG6MAL', 'BRTHSTLN', 'ECTPREG', 'NOCNCEIV', 'BRSTFEED', 'OOPH', 'TUBTIED', 'NEDLASP', 'BRSTBIOP', 'BRSTAUG', 'BRSTOPOT', 'GRAVID', 'FULLTRMR', 'AGEFBIR', 'BOOPH', 'BRSTFDMO', 'DIABREL', 'MIREL', 'STRKREL', 'CANCFREL', 'CANCMREL', 'BKBONMOM', 'BKBONDAD', 'BKBONREL', 'COLOREL', 'SMOKEVR', 'COFFEE', 'CUPREG', 'ALC12DR', 'ALCNOW', 'WGTADULT', 'LCALDIET', 'LFATDIET', 'LSLTDIET', 'FBDIET34', 'DBDIET34', 'LACTDIET', 'OTHDIET', 'WALK', 'WALKMIN', 'WALKSPD', 'HRDEX', 'MODEX', 'MLDEX', 'HRDEX18', 'HRDEX35', 'HRDEX50', 'LMSEPI', 'VFWKEXP', 'ALCOHOL', 'PACKYRSC', 'FAMILYDVTEVR', 'FAMILYPEEVR', 'RECENCY', 'LIFEQUAL', 'SATLIFE', 'GENHEL', 'HLTHC1Y', 'VIGACT', 'MODACT', 'LIFTGROC', 'HRSSLP', 'EMOLIMIT', 'LFEVENT1', 'LIVALOR', 'PAIN', 'SOCFUNC']\n"
          ]
        }
      ]
    },
    {
      "cell_type": "markdown",
      "source": [
        "####3）填补变量缺失率小与0.2的缺失值，采用均值填充"
      ],
      "metadata": {
        "id": "gfhv_T_YPMLH"
      }
    },
    {
      "cell_type": "code",
      "source": [
        " # 再核对一遍填充数据的效果\n",
        " missing = missing_values_table(df_update4)\n",
        " missing"
      ],
      "metadata": {
        "id": "O9x3l5bxKBa5"
      },
      "execution_count": null,
      "outputs": []
    },
    {
      "cell_type": "code",
      "source": [
        "### 采用均值填充缺失值比例<2%的连续变量\n",
        "# 筛选出缺失值比例< 2%的变量，直接用均值填充\n",
        "O1_index_low = missing[(missing['% of Total Values'] < 2) ].index\n",
        "print(O1_index_low)\n",
        "for col_name in O1_index_low:\n",
        "      df_update4[col_name] = df_update4[col_name].fillna(df_update4.loc[df_update4[col_name].isnull() == False, col_name].mean())"
      ],
      "metadata": {
        "colab": {
          "base_uri": "https://localhost:8080/"
        },
        "id": "Yjm4IRLsWosN",
        "outputId": "0a40e3d6-6d8a-4437-dce4-f4d90ad7a134"
      },
      "execution_count": null,
      "outputs": [
        {
          "output_type": "stream",
          "name": "stdout",
          "text": [
            "Index([], dtype='object')\n"
          ]
        }
      ]
    },
    {
      "cell_type": "code",
      "source": [
        "# 核对一遍填充缺失值< 0.2数据的效果\n",
        "missing_values_table(df_update4)"
      ],
      "metadata": {
        "colab": {
          "base_uri": "https://localhost:8080/",
          "height": 545
        },
        "id": "Mg3osEmlXzvp",
        "outputId": "73f71123-0dc4-46b6-ecee-c6b77c3e9d2d"
      },
      "execution_count": null,
      "outputs": [
        {
          "output_type": "stream",
          "name": "stdout",
          "text": [
            "Your selected dataframe has 280 columns.\n",
            "There are 16 columns that have missing values.\n"
          ]
        },
        {
          "output_type": "execute_result",
          "data": {
            "text/plain": [
              "          Missing Values  % of Total Values\n",
              "ANYMENSA             894               15.3\n",
              "TEPIWK               611               10.5\n",
              "LEPITOT              611               10.5\n",
              "MSEPIWK              611               10.5\n",
              "XLMSEPI              611               10.5\n",
              "SMINWK               611               10.5\n",
              "WALKEXP              611               10.5\n",
              "MODEXP               611               10.5\n",
              "MILDEXP              611               10.5\n",
              "AVWKEXP              611               10.5\n",
              "FFWKEXP              611               10.5\n",
              "SYMPTOM              512                8.8\n",
              "MENO                 494                8.5\n",
              "HOSTIL               213                3.7\n",
              "PACKYRS              158                2.7\n",
              "PSHTDEP              130                2.2"
            ],
            "text/html": [
              "\n",
              "  <div id=\"df-8fc84225-4c6e-4820-92e1-5c9f92414acf\">\n",
              "    <div class=\"colab-df-container\">\n",
              "      <div>\n",
              "<style scoped>\n",
              "    .dataframe tbody tr th:only-of-type {\n",
              "        vertical-align: middle;\n",
              "    }\n",
              "\n",
              "    .dataframe tbody tr th {\n",
              "        vertical-align: top;\n",
              "    }\n",
              "\n",
              "    .dataframe thead th {\n",
              "        text-align: right;\n",
              "    }\n",
              "</style>\n",
              "<table border=\"1\" class=\"dataframe\">\n",
              "  <thead>\n",
              "    <tr style=\"text-align: right;\">\n",
              "      <th></th>\n",
              "      <th>Missing Values</th>\n",
              "      <th>% of Total Values</th>\n",
              "    </tr>\n",
              "  </thead>\n",
              "  <tbody>\n",
              "    <tr>\n",
              "      <th>ANYMENSA</th>\n",
              "      <td>894</td>\n",
              "      <td>15.3</td>\n",
              "    </tr>\n",
              "    <tr>\n",
              "      <th>TEPIWK</th>\n",
              "      <td>611</td>\n",
              "      <td>10.5</td>\n",
              "    </tr>\n",
              "    <tr>\n",
              "      <th>LEPITOT</th>\n",
              "      <td>611</td>\n",
              "      <td>10.5</td>\n",
              "    </tr>\n",
              "    <tr>\n",
              "      <th>MSEPIWK</th>\n",
              "      <td>611</td>\n",
              "      <td>10.5</td>\n",
              "    </tr>\n",
              "    <tr>\n",
              "      <th>XLMSEPI</th>\n",
              "      <td>611</td>\n",
              "      <td>10.5</td>\n",
              "    </tr>\n",
              "    <tr>\n",
              "      <th>SMINWK</th>\n",
              "      <td>611</td>\n",
              "      <td>10.5</td>\n",
              "    </tr>\n",
              "    <tr>\n",
              "      <th>WALKEXP</th>\n",
              "      <td>611</td>\n",
              "      <td>10.5</td>\n",
              "    </tr>\n",
              "    <tr>\n",
              "      <th>MODEXP</th>\n",
              "      <td>611</td>\n",
              "      <td>10.5</td>\n",
              "    </tr>\n",
              "    <tr>\n",
              "      <th>MILDEXP</th>\n",
              "      <td>611</td>\n",
              "      <td>10.5</td>\n",
              "    </tr>\n",
              "    <tr>\n",
              "      <th>AVWKEXP</th>\n",
              "      <td>611</td>\n",
              "      <td>10.5</td>\n",
              "    </tr>\n",
              "    <tr>\n",
              "      <th>FFWKEXP</th>\n",
              "      <td>611</td>\n",
              "      <td>10.5</td>\n",
              "    </tr>\n",
              "    <tr>\n",
              "      <th>SYMPTOM</th>\n",
              "      <td>512</td>\n",
              "      <td>8.8</td>\n",
              "    </tr>\n",
              "    <tr>\n",
              "      <th>MENO</th>\n",
              "      <td>494</td>\n",
              "      <td>8.5</td>\n",
              "    </tr>\n",
              "    <tr>\n",
              "      <th>HOSTIL</th>\n",
              "      <td>213</td>\n",
              "      <td>3.7</td>\n",
              "    </tr>\n",
              "    <tr>\n",
              "      <th>PACKYRS</th>\n",
              "      <td>158</td>\n",
              "      <td>2.7</td>\n",
              "    </tr>\n",
              "    <tr>\n",
              "      <th>PSHTDEP</th>\n",
              "      <td>130</td>\n",
              "      <td>2.2</td>\n",
              "    </tr>\n",
              "  </tbody>\n",
              "</table>\n",
              "</div>\n",
              "      <button class=\"colab-df-convert\" onclick=\"convertToInteractive('df-8fc84225-4c6e-4820-92e1-5c9f92414acf')\"\n",
              "              title=\"Convert this dataframe to an interactive table.\"\n",
              "              style=\"display:none;\">\n",
              "        \n",
              "  <svg xmlns=\"http://www.w3.org/2000/svg\" height=\"24px\"viewBox=\"0 0 24 24\"\n",
              "       width=\"24px\">\n",
              "    <path d=\"M0 0h24v24H0V0z\" fill=\"none\"/>\n",
              "    <path d=\"M18.56 5.44l.94 2.06.94-2.06 2.06-.94-2.06-.94-.94-2.06-.94 2.06-2.06.94zm-11 1L8.5 8.5l.94-2.06 2.06-.94-2.06-.94L8.5 2.5l-.94 2.06-2.06.94zm10 10l.94 2.06.94-2.06 2.06-.94-2.06-.94-.94-2.06-.94 2.06-2.06.94z\"/><path d=\"M17.41 7.96l-1.37-1.37c-.4-.4-.92-.59-1.43-.59-.52 0-1.04.2-1.43.59L10.3 9.45l-7.72 7.72c-.78.78-.78 2.05 0 2.83L4 21.41c.39.39.9.59 1.41.59.51 0 1.02-.2 1.41-.59l7.78-7.78 2.81-2.81c.8-.78.8-2.07 0-2.86zM5.41 20L4 18.59l7.72-7.72 1.47 1.35L5.41 20z\"/>\n",
              "  </svg>\n",
              "      </button>\n",
              "      \n",
              "  <style>\n",
              "    .colab-df-container {\n",
              "      display:flex;\n",
              "      flex-wrap:wrap;\n",
              "      gap: 12px;\n",
              "    }\n",
              "\n",
              "    .colab-df-convert {\n",
              "      background-color: #E8F0FE;\n",
              "      border: none;\n",
              "      border-radius: 50%;\n",
              "      cursor: pointer;\n",
              "      display: none;\n",
              "      fill: #1967D2;\n",
              "      height: 32px;\n",
              "      padding: 0 0 0 0;\n",
              "      width: 32px;\n",
              "    }\n",
              "\n",
              "    .colab-df-convert:hover {\n",
              "      background-color: #E2EBFA;\n",
              "      box-shadow: 0px 1px 2px rgba(60, 64, 67, 0.3), 0px 1px 3px 1px rgba(60, 64, 67, 0.15);\n",
              "      fill: #174EA6;\n",
              "    }\n",
              "\n",
              "    [theme=dark] .colab-df-convert {\n",
              "      background-color: #3B4455;\n",
              "      fill: #D2E3FC;\n",
              "    }\n",
              "\n",
              "    [theme=dark] .colab-df-convert:hover {\n",
              "      background-color: #434B5C;\n",
              "      box-shadow: 0px 1px 3px 1px rgba(0, 0, 0, 0.15);\n",
              "      filter: drop-shadow(0px 1px 2px rgba(0, 0, 0, 0.3));\n",
              "      fill: #FFFFFF;\n",
              "    }\n",
              "  </style>\n",
              "\n",
              "      <script>\n",
              "        const buttonEl =\n",
              "          document.querySelector('#df-8fc84225-4c6e-4820-92e1-5c9f92414acf button.colab-df-convert');\n",
              "        buttonEl.style.display =\n",
              "          google.colab.kernel.accessAllowed ? 'block' : 'none';\n",
              "\n",
              "        async function convertToInteractive(key) {\n",
              "          const element = document.querySelector('#df-8fc84225-4c6e-4820-92e1-5c9f92414acf');\n",
              "          const dataTable =\n",
              "            await google.colab.kernel.invokeFunction('convertToInteractive',\n",
              "                                                     [key], {});\n",
              "          if (!dataTable) return;\n",
              "\n",
              "          const docLinkHtml = 'Like what you see? Visit the ' +\n",
              "            '<a target=\"_blank\" href=https://colab.research.google.com/notebooks/data_table.ipynb>data table notebook</a>'\n",
              "            + ' to learn more about interactive tables.';\n",
              "          element.innerHTML = '';\n",
              "          dataTable['output_type'] = 'display_data';\n",
              "          await google.colab.output.renderOutput(dataTable, element);\n",
              "          const docLink = document.createElement('div');\n",
              "          docLink.innerHTML = docLinkHtml;\n",
              "          element.appendChild(docLink);\n",
              "        }\n",
              "      </script>\n",
              "    </div>\n",
              "  </div>\n",
              "  "
            ]
          },
          "metadata": {},
          "execution_count": 358
        }
      ]
    },
    {
      "cell_type": "code",
      "source": [
        "df_update4.head()"
      ],
      "metadata": {
        "id": "AJy83xU4UAtG"
      },
      "execution_count": null,
      "outputs": []
    },
    {
      "cell_type": "code",
      "source": [
        "# 删除其他cvd的患病情况\n",
        "cvd_vars = ['chd','isch_stroke','hemo_stroke','death','cvd_death','non_cvd_death','cancer','chf','dm','mi','dsmi','psmi','mitotal','dvt']\n",
        "df_update5= (df_update4.drop(cvd_vars, axis=1))\n",
        "df_name = df_update5.columns\n",
        "df_name"
      ],
      "metadata": {
        "colab": {
          "base_uri": "https://localhost:8080/"
        },
        "id": "0VAGAj5wX2W3",
        "outputId": "70f29d29-4140-4ebc-e94d-fd9f84b70233"
      },
      "execution_count": null,
      "outputs": [
        {
          "output_type": "execute_result",
          "data": {
            "text/plain": [
              "Index(['fat_down', 'SCORE_baseline_sleep_p0.05_0.05', 'sugar_pct',\n",
              "       'baseline_sugar', 'SCORE_inso_all_group', 'baseline_sleep',\n",
              "       'baseline_tot_cal', 'baseline_fat', 'baseline_pro', 'baseline_cho',\n",
              "       ...\n",
              "       'NEGEMOT', 'OPTIMISM', 'PAIN', 'PSHTDEP', 'SLPDSTRB', 'SOCFUNC',\n",
              "       'SOCSTRN', 'SOCSUPP', 'SYMPTOM', 'cvd_binary'],\n",
              "      dtype='object', length=266)"
            ]
          },
          "metadata": {},
          "execution_count": 360
        }
      ]
    },
    {
      "cell_type": "markdown",
      "source": [
        "####4）采用MICE方法填充连续变量"
      ],
      "metadata": {
        "id": "YxyomqFPPsT_"
      }
    },
    {
      "cell_type": "code",
      "source": [
        "### 采用MICE方法填充连续变量\n",
        "from sklearn.experimental import enable_iterative_imputer\n",
        "from sklearn.impute import IterativeImputer\n",
        "from numpy import mean\n",
        "from numpy import std\n",
        "from pandas import read_csv\n",
        "from sklearn.ensemble import RandomForestClassifier\n",
        "from sklearn.experimental import enable_iterative_imputer\n",
        "from sklearn.impute import IterativeImputer\n",
        "from sklearn.model_selection import cross_val_score\n",
        "from sklearn.model_selection import RepeatedStratifiedKFold\n",
        "from sklearn.pipeline import Pipeline"
      ],
      "metadata": {
        "id": "qXjBaskNXTTR"
      },
      "execution_count": null,
      "outputs": []
    },
    {
      "cell_type": "code",
      "source": [
        "# 方法一：采用固定参数 进行多重插补填充缺失值\n",
        "mice_imputer = IterativeImputer(imputation_order='ascending',max_iter=500,random_state=42,n_nearest_features=5)\n",
        "\n",
        "#['insu','ldl','hdl','chol','tg','glu','sbp','dbp',\n",
        "variables =  missing_values_table(df_update5).index\n",
        "for i in variables:\n",
        "  df_update5[i] = mice_imputer.fit_transform(df_update5[[i]])"
      ],
      "metadata": {
        "colab": {
          "base_uri": "https://localhost:8080/"
        },
        "id": "hcrXaDKlP1ZE",
        "outputId": "cc10a873-c91e-4399-a39b-5d01d8f662b0"
      },
      "execution_count": null,
      "outputs": [
        {
          "output_type": "stream",
          "name": "stdout",
          "text": [
            "Your selected dataframe has 266 columns.\n",
            "There are 16 columns that have missing values.\n"
          ]
        }
      ]
    },
    {
      "cell_type": "code",
      "source": [
        "# 方法二：创建建模通道，历遍不同参数，看哪个参数的效果最好\n",
        "from matplotlib import pyplot\n",
        "#LR_results = list()\n",
        "LR_AUC_results = list()\n",
        "#strategies = ['ascending','descending','roman','arabic','random']wertyuiop\n",
        "strategies = [str(i) for i in range(1,5)]\n",
        "#strategy = [str[i] for i i rage(1,50)]\n",
        "for s in strategies: \n",
        "#  for s in strategy:\n",
        "     model = LogisticRegression(solver='newton-cg', class_weight='balanced')\n",
        "     imputer = IterativeImputer(max_iter=int(s))\n",
        "     scaler = StandardScaler()\n",
        "     pipeline1 = Pipeline(steps = [('i',imputer), ('m', model)])\n",
        "     cv = RepeatedStratifiedKFold(n_splits=5,n_repeats=2, random_state=1)\n",
        "# 评估模型\n",
        "     scores_auc =  cross_val_score(pipeline1, X_train, y_train,\n",
        "\t\t\t\t\t\t\t\t\t\t\t\t scoring='roc_auc',\n",
        "\t\t\t\t\t\t\t\t\t\t\t\t cv=cv , \n",
        "                         n_jobs=-1,\n",
        "                         error_score = 'raise')\n",
        "    #LR_results.append(scores)\n",
        "     LR_AUC_results.append(scores_auc)\n",
        "     print('>%s %.3f (%.3f)' % (s, mean(scores_auc), std(scores_auc)))"
      ],
      "metadata": {
        "id": "T73gHtYWXZjC"
      },
      "execution_count": null,
      "outputs": []
    },
    {
      "cell_type": "code",
      "source": [
        "def HeatMap(df, x=True):\n",
        "  correlations = df.corr()\n",
        "  ## creat color map ranging between two colors\n",
        "  ## diverging_palette()为创建两种颜色过渡色板\n",
        "  cmap = sns.diverging_palette(220, 10,as_cmap=True)\n",
        "  fig, ax = plt.subplots(figsize=(20,20))\n",
        "  ## heatmap中参数: vmin和vmax定义图卡颜色，用于锚定颜色图的值\n",
        "  # cmap 颜色映射名称或对象; fmt 添加注释时要使用的字符串格式化代码\n",
        "  # fmt='.2f',\n",
        "  fig = sns.heatmap(correlations, cmap=cmap, vmax=1.0, vmin=-1.0,\n",
        "                    square=True,linewidths=.5, \n",
        "                    annot=False, cbar_kws={'shrink': .75})\n",
        "  fig.set_xticklabels(fig.get_xticklabels(), rotation = 60, fontsize = 10)\n",
        "  fig.set_yticklabels(fig.get_yticklabels(), rotation = 0, fontsize = 10)\n",
        "  plt.tight_layout()\n",
        "  plt.show()"
      ],
      "metadata": {
        "id": "wvX-591r2-Rn"
      },
      "execution_count": null,
      "outputs": []
    },
    {
      "cell_type": "code",
      "source": [
        "# Load libraries\n",
        "from pandas import set_option\n",
        "from pandas.plotting import scatter_matrix\n",
        "from sklearn.preprocessing import StandardScaler\n",
        "from sklearn.model_selection import train_test_split\n",
        "from sklearn.model_selection import KFold\n",
        "from sklearn.model_selection import StratifiedKFold\n",
        "from sklearn.model_selection import cross_val_score\n",
        "from sklearn.model_selection import GridSearchCV\n",
        "from sklearn.metrics import classification_report\n",
        "from sklearn.metrics import confusion_matrix\n",
        "from sklearn.metrics import accuracy_score\n",
        "from sklearn.pipeline import Pipeline\n",
        "from sklearn.linear_model import LogisticRegression\n",
        "from sklearn.tree import DecisionTreeClassifier\n",
        "from sklearn.neighbors import KNeighborsClassifier\n",
        "from sklearn.discriminant_analysis import LinearDiscriminantAnalysis\n",
        "from sklearn.naive_bayes import GaussianNB\n",
        "from sklearn.svm import SVC\n",
        "from sklearn.ensemble import AdaBoostClassifier\n",
        "from sklearn.ensemble import GradientBoostingClassifier\n",
        "from sklearn.ensemble import RandomForestClassifier\n",
        "from sklearn.ensemble import ExtraTreesClassifier\n",
        "from sklearn.preprocessing import StandardScaler\n",
        "from sklearn.model_selection import learning_curve"
      ],
      "metadata": {
        "id": "-WqZtMpC34zm"
      },
      "execution_count": null,
      "outputs": []
    },
    {
      "cell_type": "code",
      "source": [
        "print(df_update5['cvd_binary'].value_counts())\n",
        "df_name = df_update5.columns"
      ],
      "metadata": {
        "id": "IxW9VjCO36PW",
        "colab": {
          "base_uri": "https://localhost:8080/"
        },
        "outputId": "b6ac0a50-403b-4e44-eeee-d5ec6e27d9cd"
      },
      "execution_count": null,
      "outputs": [
        {
          "output_type": "stream",
          "name": "stdout",
          "text": [
            "0    5117\n",
            "1     715\n",
            "Name: cvd_binary, dtype: int64\n"
          ]
        }
      ]
    },
    {
      "cell_type": "code",
      "source": [
        "df_update5.shape"
      ],
      "metadata": {
        "colab": {
          "base_uri": "https://localhost:8080/"
        },
        "id": "TiyARrpi3-5k",
        "outputId": "8d00d9ec-5621-40c7-8f6b-a7c1773f86df"
      },
      "execution_count": null,
      "outputs": [
        {
          "output_type": "execute_result",
          "data": {
            "text/plain": [
              "(5832, 266)"
            ]
          },
          "metadata": {},
          "execution_count": 364
        }
      ]
    },
    {
      "cell_type": "code",
      "source": [
        "X = df_update5.drop(['cvd_binary'], axis=1)\n",
        "Y = df_update5['cvd_binary']"
      ],
      "metadata": {
        "id": "j43KqZHbQr0w"
      },
      "execution_count": null,
      "outputs": []
    },
    {
      "cell_type": "code",
      "source": [
        "## 划分数据集\n",
        "#X = df_update4[feature_index]\n",
        "#Y = df_update4[df_name[0]]\n",
        "X_train, X_test, y_train, y_test = train_test_split(\n",
        "    X,Y,\n",
        "    test_size=0.3,\n",
        "    random_state=0,\n",
        "    stratify=Y\n",
        ")"
      ],
      "metadata": {
        "id": "s5sE_A5j4FIE"
      },
      "execution_count": null,
      "outputs": []
    },
    {
      "cell_type": "code",
      "source": [
        "print(\"There are {} training samples\".format(y_train.shape[0]))\n",
        "print(\"There are {} testing samples\".format(X_test.shape[0]))"
      ],
      "metadata": {
        "colab": {
          "base_uri": "https://localhost:8080/"
        },
        "id": "IzpiEteq4I2M",
        "outputId": "5d21b2b0-579e-46d1-b12e-43baa581c6cc"
      },
      "execution_count": null,
      "outputs": [
        {
          "output_type": "stream",
          "name": "stdout",
          "text": [
            "There are 4082 training samples\n",
            "There are 1750 testing samples\n"
          ]
        }
      ]
    },
    {
      "cell_type": "markdown",
      "source": [
        "### 绘制学习曲线，诊断模型"
      ],
      "metadata": {
        "id": "eNVLPPAUCpj2"
      }
    },
    {
      "cell_type": "code",
      "source": [
        "Y.head()"
      ],
      "metadata": {
        "id": "macsgSrIRm-U",
        "outputId": "024aa766-390c-4364-df4e-310fc82037e0",
        "colab": {
          "base_uri": "https://localhost:8080/"
        }
      },
      "execution_count": null,
      "outputs": [
        {
          "output_type": "execute_result",
          "data": {
            "text/plain": [
              "1     0\n",
              "2     0\n",
              "5     0\n",
              "10    0\n",
              "17    0\n",
              "Name: cvd_binary, dtype: int64"
            ]
          },
          "metadata": {},
          "execution_count": 368
        }
      ]
    },
    {
      "cell_type": "code",
      "source": [
        "from sklearn.model_selection import ShuffleSplit\n",
        "# , scoring =\"accuracy\"\n",
        "def plot_learning_curve(estimator, title, X, y, ylim=None, cv=None, n_jobs=None, train_sizes = np.linspace(.1, 1.0, 5), scoring =\"roc_auc\"):\n",
        "       '''绘制学习曲线\n",
        "       ''' \n",
        "       plt.title(title)\n",
        "       if ylim is not None:\n",
        "             plt.ylim(*ylim)\n",
        "       plt.xlabel('Training examples')\n",
        "       plt.ylabel('Score')\n",
        "       train_sizes, train_scores, test_scores = learning_curve(estimator, X, y, cv=cv, n_jobs=n_jobs, train_sizes=train_sizes)\n",
        "       train_scores_mean = np.mean(train_scores, axis=1)\n",
        "       train_scores_std = np.std(train_scores, axis=1)\n",
        "       test_scores_mean = np.mean(test_scores, axis=1)\n",
        "       test_scores_std = np.std(test_scores, axis=1)\n",
        "\n",
        "       plt.fill_between(train_sizes, train_scores_mean - train_scores_std, train_scores_mean + train_scores_std, alpha =0.1,\n",
        "                      color='r')\n",
        "       plt.fill_between(train_sizes, test_scores_mean - test_scores_std, test_scores_mean + test_scores_std, alpha =0.1,\n",
        "                      color='g' )\n",
        "       plt.plot(train_sizes, train_scores_mean, \"o-\", color='r', label='Training score')\n",
        "       plt.plot(train_sizes, test_scores_mean, 'o-', color='g', label='Cross-validation score')\n",
        "       plt.legend(loc='best')\n",
        "       return plt"
      ],
      "metadata": {
        "id": "dRq87MmNCwDO"
      },
      "execution_count": null,
      "outputs": []
    },
    {
      "cell_type": "code",
      "source": [
        "X, y = X, Y\n",
        "cv = ShuffleSplit(n_splits=5, test_size = 0.2, random_state=42)\n",
        "titles = 'Logistic Regression'\n",
        "# solver 决定了我们对逻辑回归损失函数的优化方法：# lbfgs,' newton_cg', 'liblinear', 'sag', 'saga'\n",
        "estimator =  LogisticRegression(solver='liblinear', class_weight='balanced') \n",
        "plot_learning_curve(estimator, titles, X, Y, cv = cv, n_jobs = -1)"
      ],
      "metadata": {
        "colab": {
          "base_uri": "https://localhost:8080/",
          "height": 491
        },
        "id": "rpgqH2BgMbYW",
        "outputId": "afeba3d4-5530-4394-dce4-02d5257b4351"
      },
      "execution_count": null,
      "outputs": [
        {
          "output_type": "execute_result",
          "data": {
            "text/plain": [
              "<module 'matplotlib.pyplot' from '/usr/local/lib/python3.10/dist-packages/matplotlib/pyplot.py'>"
            ]
          },
          "metadata": {},
          "execution_count": 378
        },
        {
          "output_type": "display_data",
          "data": {
            "text/plain": [
              "<Figure size 640x480 with 1 Axes>"
            ],
            "image/png": "[encoded data removed]"
          },
          "metadata": {}
        }
      ]
    },
    {
      "cell_type": "code",
      "source": [
        "X, y = X, Y\n",
        "cv = ShuffleSplit(n_splits=5, test_size = 0.2, random_state=42)\n",
        "titles = 'Logistic Regression'\n",
        "# solver 决定了我们对逻辑回归损失函数的优化方法：# lbfgs,' newton_cg', 'liblinear', 'sag', 'saga'\n",
        "estimator =  LinearDiscriminantAnalysis() \n",
        "plot_learning_curve(estimator, titles, X, Y, cv = cv, n_jobs = -1)"
      ],
      "metadata": {
        "colab": {
          "base_uri": "https://localhost:8080/",
          "height": 491
        },
        "id": "21nvRF3O-S_J",
        "outputId": "46af2065-92b0-49da-a4f2-cda056deade6"
      },
      "execution_count": null,
      "outputs": [
        {
          "output_type": "execute_result",
          "data": {
            "text/plain": [
              "<module 'matplotlib.pyplot' from '/usr/local/lib/python3.10/dist-packages/matplotlib/pyplot.py'>"
            ]
          },
          "metadata": {},
          "execution_count": 375
        },
        {
          "output_type": "display_data",
          "data": {
            "text/plain": [
              "<Figure size 640x480 with 1 Axes>"
            ],
            "image/png": "[encoded data removed]"
          },
          "metadata": {}
        }
      ]
    },
    {
      "cell_type": "code",
      "source": [
        "# load libraries\n",
        "import pandas as pd\n",
        "from sklearn.tree import DecisionTreeClassifier # Import Decision Tree Classifier\n",
        "from sklearn.model_selection import train_test_split # Import train_test_split function\n",
        "from sklearn import metrics #Import scikit-learn metrics module for accuracy calculation\n"
      ],
      "metadata": {
        "id": "qn5FF9lT4PO5"
      },
      "execution_count": null,
      "outputs": []
    },
    {
      "cell_type": "code",
      "source": [
        "## ExtraTreesClassifier 它将森林中收集的多个去相关决策树的结果聚集起来输出分类结果\n",
        "clf = ExtraTreesClassifier(n_estimators=250,\n",
        "                              random_state=SEED)\n",
        "\n",
        "clf.fit(X_train, y_train)\n",
        "\n",
        "# #############################################################################\n",
        "# Plot feature importance\n",
        "feature_importance = clf.feature_importances_\n",
        "# make importances relative to max importance\n",
        "feature_importance = 100.0 * (feature_importance / feature_importance.max())\n",
        "sorted_idx = np.argsort(feature_importance)[::-1]\n",
        "sorted_idx_30 = sorted_idx[0:30]\n",
        "pos = np.arange(sorted_idx.shape[0]) + .5\n",
        "pos_30 = pos[0:30]\n"
      ],
      "metadata": {
        "id": "3vAPMY2VBo-G"
      },
      "execution_count": null,
      "outputs": []
    },
    {
      "cell_type": "code",
      "source": [
        "df_update5.columns[sorted_idx]"
      ],
      "metadata": {
        "colab": {
          "base_uri": "https://localhost:8080/"
        },
        "id": "f-U1oXf7J0W0",
        "outputId": "dbdc0f8d-5307-4a1b-b0cd-44e0c8eb400b"
      },
      "execution_count": null,
      "outputs": [
        {
          "output_type": "execute_result",
          "data": {
            "text/plain": [
              "Index(['HYPT', 'DIABTRT', 'sbp', 'age', 'INCOME', 'GENHLTH', 'LIFTGROC',\n",
              "       'HOSTIL', 'WALKSPD', 'OPTIMISM',\n",
              "       ...\n",
              "       'BRCA_F2', 'COLON_F2', 'COMECC', 'OTHCA10Y', 'HARDSTDY', 'MALDIET',\n",
              "       'LFDIETF2', 'DIALYSIS', 'L15LBS6M', 'SCANEMIA'],\n",
              "      dtype='object', length=265)"
            ]
          },
          "metadata": {},
          "execution_count": 381
        }
      ]
    },
    {
      "cell_type": "code",
      "source": [
        "# 构建排序后的特征\n",
        "sortindex = np.argsort(clf.feature_importances_)[::-1]\n",
        "feature_index = []\n",
        "for i in sortindex:\n",
        "  if clf.feature_importances_[i] > 0.005:\n",
        "      feature_index.append(df_update5.columns[i])\n",
        "      print('%s\\t%.5f'%(df_update5.columns[i], clf.feature_importances_[i]))"
      ],
      "metadata": {
        "id": "fHSwNvQ0KoId"
      },
      "execution_count": null,
      "outputs": []
    },
    {
      "cell_type": "code",
      "source": [
        "feature_index"
      ],
      "metadata": {
        "id": "BgjzeV1pQLPK"
      },
      "execution_count": null,
      "outputs": []
    },
    {
      "cell_type": "code",
      "source": [
        "plt.subplot(1, 2, 2)\n",
        "plt.barh(pos_30, feature_importance[sorted_idx_30], align='center')\n",
        "plt.yticks(pos_30, df_update4.columns[sorted_idx_30], fontsize =10)#boston.feature_names[sorted_idx])\n",
        "plt.xlabel('Relative Importance')\n",
        "plt.title('Variable Importance')\n",
        "plt.show()"
      ],
      "metadata": {
        "colab": {
          "base_uri": "https://localhost:8080/",
          "height": 472
        },
        "id": "fE0KmZxtCutV",
        "outputId": "79b81415-c05f-4885-ac6e-5b08959bee0d"
      },
      "execution_count": null,
      "outputs": [
        {
          "output_type": "display_data",
          "data": {
            "text/plain": [
              "<Figure size 640x480 with 1 Axes>"
            ],
            "image/png": "[encoded data removed]"
          },
          "metadata": {}
        }
      ]
    },
    {
      "cell_type": "code",
      "source": [
        "# Building Decision Tree Model\n",
        "# create Decision Tree classifer object\n",
        "Tree = DecisionTreeClassifier(random_state=0)\n",
        "\n",
        "# train decision tree classifer\n",
        "Tree.fit(X_train, y_train)\n",
        "features = X_train.columns\n",
        "# 交叉验证评估\n",
        "score1 = cross_val_score(Tree, X_train, y_train, cv = 5).mean()\n",
        "score2 = Tree.score(X_test, y_test)\n",
        "print(score1)\n",
        "print(score2)\n",
        "# 查看数据集分布是否平衡，如不平衡，可以采用sample_weight设置\n",
        "y_train.value_counts()"
      ],
      "metadata": {
        "colab": {
          "base_uri": "https://localhost:8080/"
        },
        "id": "XDHN3ALi8R4k",
        "outputId": "63b506fe-a1cf-4250-fe1f-9d9078a14121"
      },
      "execution_count": null,
      "outputs": [
        {
          "output_type": "stream",
          "name": "stdout",
          "text": [
            "0.7858857129142967\n",
            "0.7828571428571428\n"
          ]
        },
        {
          "output_type": "execute_result",
          "data": {
            "text/plain": [
              "0    3582\n",
              "1     500\n",
              "Name: cvd_binary, dtype: int64"
            ]
          },
          "metadata": {},
          "execution_count": 388
        }
      ]
    },
    {
      "cell_type": "code",
      "source": [
        "# 选择2: 采用网格搜索调整参数\n",
        "param = {'max_depth':[*range(1,10)],\n",
        "         'splitter':('best','random'),\n",
        "         'criterion':('gini','entropy'),\n",
        "         'min_impurity_decrease':[*np.linspace(0,0.5,20)],\n",
        "         'min_samples_leaf':[*range(1,50,5)] # 2\n",
        "         }\n",
        "Tree = DecisionTreeClassifier(random_state=0)\n",
        "GS = GridSearchCV(Tree, param, cv=5)\n",
        "GS.fit(X_train, y_train)\n",
        "print(GS.best_params_)\n",
        "print(GS.best_score_)"
      ],
      "metadata": {
        "id": "s5PwDJR--Mwg"
      },
      "execution_count": null,
      "outputs": []
    },
    {
      "cell_type": "markdown",
      "source": [
        "### 2023-05-31搜索GBM算法最优参数，并组合"
      ],
      "metadata": {
        "id": "UNYaJFYeXImv"
      }
    },
    {
      "cell_type": "code",
      "source": [
        "# 调GBM的参数\n",
        "gbm0 = GradientBoostingClassifier(random_state=10)\n",
        "\n",
        "num_folds = 10\n",
        "  # score 的类型可以选择\"accuracy\"，\"roc_auc\", \"f1\", \"precesion\", \"recall\"\n",
        "scoring = \"roc_auc\"\n",
        "results = []\n",
        "names = []\n",
        "  # StratifiedKFold 保证训练集中每一类的比例是相同的,其中参数含义：n_splits为折叠次数,shuffle: 是否在每次分割之前打乱顺序\n",
        "  # cross_val_score 为交叉验证函数，其中参数含义，cv为每次选择验证折数 \n",
        "kfold = StratifiedKFold(n_splits=num_folds, random_state=SEED,shuffle=True)\n",
        "cv_results = cross_val_score(gbm0, X_train, y_train, cv=kfold, scoring=scoring)\n",
        "print(cv_results)"
      ],
      "metadata": {
        "id": "Xj0N7c7RJ6Ww",
        "colab": {
          "base_uri": "https://localhost:8080/"
        },
        "outputId": "6aebb0e3-5885-4fd5-a675-3cee54643102"
      },
      "execution_count": null,
      "outputs": [
        {
          "output_type": "stream",
          "name": "stdout",
          "text": [
            "[0.71532033 0.68685237 0.71798883 0.67776536 0.67960894 0.66050279\n",
            " 0.69122905 0.65519553 0.62854749 0.63569832]\n"
          ]
        }
      ]
    },
    {
      "cell_type": "code",
      "source": [
        "param_test1 = {'n_estimators':  range(20, 81, 10)}\n",
        "gsearch1 = GridSearchCV(estimator=GradientBoostingClassifier(learning_rate=0.1, min_samples_split=300,\n",
        "                                                             min_samples_leaf=20, max_depth=8, max_features=\"sqrt\", subsample=0.8,random_state=10),\n",
        "                        param_grid = param_test1, scoring = 'roc_auc', cv=5)\n",
        "gsearch1.fit(X_train, y_train)\n",
        "gsearch1.best_params_, gsearch1.best_score_"
      ],
      "metadata": {
        "colab": {
          "base_uri": "https://localhost:8080/"
        },
        "id": "4ghOYm6cNKb6",
        "outputId": "b753b2cb-63f5-448e-a9d9-2c2df0111c69"
      },
      "execution_count": null,
      "outputs": [
        {
          "output_type": "execute_result",
          "data": {
            "text/plain": [
              "({'n_estimators': 20}, 0.6829999688335164)"
            ]
          },
          "metadata": {},
          "execution_count": 391
        }
      ]
    },
    {
      "cell_type": "code",
      "source": [
        "param_test2 = {'max_depth':range(3,14,2), 'min_samples_split':range(100, 801, 200)}\n",
        "gsearch2 = GridSearchCV(estimator=GradientBoostingClassifier(learning_rate=0.1,n_estimators=20,\n",
        "                                                             min_samples_leaf=20,  max_features=\"sqrt\", subsample=0.8,random_state=10),\n",
        "                        param_grid = param_test2, scoring = 'roc_auc', cv=5)\n",
        "gsearch2.fit(X_train, y_train)\n",
        "gsearch2.best_params_, gsearch2.best_score_"
      ],
      "metadata": {
        "colab": {
          "base_uri": "https://localhost:8080/"
        },
        "id": "uBn2GApTNHoy",
        "outputId": "0273f5db-581d-44f7-bb32-516ecc3ce2d6"
      },
      "execution_count": null,
      "outputs": [
        {
          "output_type": "execute_result",
          "data": {
            "text/plain": [
              "({'max_depth': 3, 'min_samples_split': 300}, 0.6842880679117677)"
            ]
          },
          "metadata": {},
          "execution_count": 392
        }
      ]
    },
    {
      "cell_type": "code",
      "source": [
        "param_test3 = {'min_samples_split':range(800, 1900, 200), 'min_samples_leaf':range(60, 101, 10)}\n",
        "gsearch3 = GridSearchCV(estimator=GradientBoostingClassifier(learning_rate=0.1,n_estimators=30, max_depth=3,\n",
        "                                                             max_features=\"sqrt\", subsample=0.8,random_state=10),\n",
        "                        param_grid = param_test3, scoring = 'roc_auc', cv=5)\n",
        "gsearch3.fit(X_train, y_train)\n",
        "gsearch3.best_params_, gsearch3.best_score_"
      ],
      "metadata": {
        "colab": {
          "base_uri": "https://localhost:8080/"
        },
        "id": "YC7VJEqtM6Nf",
        "outputId": "81154c7e-02c0-4414-9d98-4b934505f1a8"
      },
      "execution_count": null,
      "outputs": [
        {
          "output_type": "execute_result",
          "data": {
            "text/plain": [
              "({'min_samples_leaf': 60, 'min_samples_split': 1800}, 0.6833782851421581)"
            ]
          },
          "metadata": {},
          "execution_count": 393
        }
      ]
    },
    {
      "cell_type": "code",
      "source": [
        "gsearch4 = GradientBoostingClassifier(learning_rate=0.1, n_estimators=30, max_depth=7,\n",
        "                                                        min_samples_split = 1800,  max_features=\"sqrt\", \n",
        "                                                        subsample=0.8,random_state=10, \n",
        "                                                        min_samples_leaf = 60)\n",
        "gsearch4.fit(X_train, y_train)\n",
        "y_pred = gsearch4.predict(X_test)\n",
        "y_predprob = gsearch4.predict_proba(X_test)[:,1]\n",
        "print  (\"AUC Score (Train): %f\" % metrics.roc_auc_score(y_test, y_predprob))"
      ],
      "metadata": {
        "colab": {
          "base_uri": "https://localhost:8080/"
        },
        "id": "xXwt-v1vU3rr",
        "outputId": "930c4b5c-df8d-4526-d7aa-8ab6bb4bdd74"
      },
      "execution_count": null,
      "outputs": [
        {
          "output_type": "stream",
          "name": "stdout",
          "text": [
            "AUC Score (Train): 0.686151\n"
          ]
        }
      ]
    },
    {
      "cell_type": "markdown",
      "source": [
        "### 2023-05-20"
      ],
      "metadata": {
        "id": "I0kZvznuXTZ-"
      }
    },
    {
      "cell_type": "code",
      "source": [
        "# 导入和训练模型\n",
        "lr = LogisticRegression(solver='liblinear', class_weight='balanced')\n",
        "# 可选择的class_weight 有 balnaced, balanced_subsample, \n",
        "## calculate weight Calculate weights using sklearn\n",
        "\n",
        "LAD = LinearDiscriminantAnalysis()\n",
        "\n",
        "# 对训练数据集进行标准化\n",
        "ss = StandardScaler()\n",
        "#X_train_new = X_train[['DBDIET34', 'REVASC', 'ANGINA', 'ht_trial', 'LCALDIET', 'HEMOCCDT', 'MSMINWK','SCORE_baseline_sleep_p0.05_0.05']]\n",
        "X_train_new = ss.fit_transform(X_train)\n",
        "\n",
        "# 拟合模型\n",
        "lr.fit(X_train_new, y_train)\n",
        "LAD.fit(X_train_new, y_train)\n",
        "\n",
        "# 测试数据预测\n",
        "pred_test = lr.predict(X_test)\n",
        "pred_test_LAD = LAD.predict(X_test)"
      ],
      "metadata": {
        "id": "M2b4lF8ff-cy"
      },
      "execution_count": null,
      "outputs": []
    },
    {
      "cell_type": "code",
      "source": [
        "from sklearn.linear_model import LogisticRegression\n",
        "from sklearn.metrics import f1_score\n",
        "from sklearn.utils import class_weight\n",
        "from sklearn.utils.class_weight import compute_class_weight\n",
        "\n",
        "# 创建混淆矩阵的函数\n",
        "def conf_matrix(y_test, pred_test):\n",
        "  # 创建混淆矩阵\n",
        "  con_mat = confusion_matrix(y_test, pred_test)\n",
        "  con_mat = pd.DataFrame(con_mat, range(2), range(2))\n",
        "\n",
        "  plt.figure(figsize=(6,6))\n",
        "  sns.set(font_scale=1.5)\n",
        "  sns.heatmap(con_mat, annot=True, annot_kws={'size':16}, fmt='g',cmap='Blues', cbar=False)\n",
        "# 调用函数\n",
        "\n",
        "#计算并打印f1分数\n",
        "f1_test = f1_score(y_test, pred_test)\n",
        "print('The f1 score for the testing data:', f1_test)\n",
        "\n",
        "f1_test_LAD = f1_score(y_test, pred_test_LAD)\n",
        "print('The f1 score for the testing data:', f1_test_LAD)\n",
        "\n",
        "# 绘制混淆矩阵\n",
        "print('Classfication report: \\n', classification_report(y_test, pred_test))\n",
        "conf_matrix(y_test, pred_test)\n",
        "\n",
        "print('Classfication report: \\n', classification_report(y_test, pred_test_LAD))\n",
        "conf_matrix(y_test, pred_test_LAD)\n"
      ],
      "metadata": {
        "id": "pDUB24Z2gDYe"
      },
      "execution_count": null,
      "outputs": []
    },
    {
      "cell_type": "code",
      "source": [
        "# 绘制AUC-ROC曲线\n",
        "# ROC Curve with logistic regression\n",
        "from sklearn.metrics import roc_curve\n",
        "from sklearn.linear_model import LogisticRegression\n",
        "from sklearn.metrics import confusion_matrix, classification_report\n",
        "from sklearn import metrics\n",
        "y_pred = lr.predict(X_test)\n",
        "fpr, tpr, thresholds = roc_curve(y_test, y_pred)\n",
        "auc = metrics.auc(fpr, tpr)\n",
        "# plot ROC vurve\n",
        "plt.figure()\n",
        "lw = 2\n",
        "plt.plot([0,1],[0,1], lw = lw, linestyle = '--')\n",
        "plt.plot(fpr, tpr, lw = lw, label = 'ROC curve (area = %0.2f)' % auc)\n",
        "plt.title('ROC')\n",
        "plt.xlabel('False Positive Rate')\n",
        "plt.ylabel('True Positive Rate')\n",
        "plt.legend(loc =\"lower right\")\n",
        "plt.show()"
      ],
      "metadata": {
        "id": "yw7k1rPMgy_h"
      },
      "execution_count": null,
      "outputs": []
    },
    {
      "cell_type": "code",
      "source": [
        "#LDA solver=\"eigen\" lsqr\n",
        "from sklearn.preprocessing import StandardScaler\n",
        "from sklearn.preprocessing import MinMaxScaler\n",
        "\n",
        "def GetScaledModel(nameOfScaler):\n",
        "    \n",
        "    if nameOfScaler == 'standard':\n",
        "        scaler = StandardScaler()\n",
        "    elif nameOfScaler =='minmax':\n",
        "        scaler = MinMaxScaler()\n",
        "\n",
        "    pipelines = []\n",
        "    pipelines.append((nameOfScaler+'_LR'  , Pipeline([('Scaler', scaler),('LR'  , LogisticRegression(solver='liblinear', class_weight = \"balanced\"))])))\n",
        "    pipelines.append((nameOfScaler+'_LDA' , Pipeline([('Scaler', scaler),('LDA' , LinearDiscriminantAnalysis())])))            \n",
        "    pipelines.append((nameOfScaler+'_KNN' , Pipeline([('Scaler', scaler),('KNN' , KNeighborsClassifier())])))\n",
        "    pipelines.append((nameOfScaler+'_CART', Pipeline([('Scaler', scaler),('CART', DecisionTreeClassifier())])))\n",
        "    pipelines.append((nameOfScaler+'_NB'  , Pipeline([('Scaler', scaler),('NB'  , GaussianNB())])))\n",
        "    pipelines.append((nameOfScaler+'_SVM' , Pipeline([('Scaler', scaler),('SVM' , SVC())])))\n",
        "    pipelines.append((nameOfScaler+'_AB'  , Pipeline([('Scaler', scaler),('AB'  , AdaBoostClassifier())])  ))\n",
        "    pipelines.append((nameOfScaler+'_GBM' , Pipeline([('Scaler', scaler),('GMB' , GradientBoostingClassifier())])  ))\n",
        "    pipelines.append((nameOfScaler+'_RF'  , Pipeline([('Scaler', scaler),('RF'  , RandomForestClassifier())])  ))\n",
        "    pipelines.append((nameOfScaler+'_ET'  , Pipeline([('Scaler', scaler),('ET'  , ExtraTreesClassifier())])  ))\n",
        "\n",
        "\n",
        "    return pipelines "
      ],
      "metadata": {
        "id": "vwE8ta-_hCgS"
      },
      "execution_count": null,
      "outputs": []
    },
    {
      "cell_type": "code",
      "source": [
        "####                             \n",
        "# Spot-Check Algorithms\n",
        "# LR, LDA#(solver=\"eigen\") lsqr, NB 三种模型的RECALL还可以，可以考虑重点关注该三种模型，采用FOR循环调参\n",
        "def GetBasedModel():\n",
        "    basedModels = []\n",
        "    basedModels.append(('LR'   , LogisticRegression(solver='liblinear', class_weight='balanced')))\n",
        "    basedModels.append(('LDA'  , LinearDiscriminantAnalysis()))  \n",
        "    basedModels.append(('KNN'  , KNeighborsClassifier()))\n",
        "    basedModels.append(('CART' , DecisionTreeClassifier()))\n",
        "    basedModels.append(('NB'   , GaussianNB()))\n",
        "    basedModels.append(('SVM'  , SVC(probability=True)))\n",
        "    basedModels.append(('AB'   , AdaBoostClassifier()))\n",
        "    basedModels.append(('GBM'  , GradientBoostingClassifier()))\n",
        "    basedModels.append(('RF'   , RandomForestClassifier()))\n",
        "    basedModels.append(('ET'   , ExtraTreesClassifier()))\n",
        "\n",
        "    \n",
        "    return basedModels\n",
        "def BasedLine2(X_train, y_train, models):\n",
        "  # Test options and evaluation metric\n",
        "  num_folds = 10\n",
        "  # score 的类型可以选择\"accuracy\"，\"roc_auc\", \"f1\", \"precesion\", \"recall\"\n",
        "  scoring = \"roc_auc\"\n",
        "  results = []\n",
        "  names = []\n",
        "  # StratifiedKFold 保证训练集中每一类的比例是相同的,其中参数含义：n_splits为折叠次数,shuffle: 是否在每次分割之前打乱顺序\n",
        "  # cross_val_score 为交叉验证函数，其中参数含义，cv为每次选择验证折数 \n",
        "  for name, model in models:\n",
        "    kfold = StratifiedKFold(n_splits=num_folds, random_state=SEED,shuffle=True)\n",
        "    cv_results = cross_val_score(model, X_test, y_test, cv=kfold, scoring=scoring)\n",
        "    results.append(cv_results)\n",
        "    names.append(name)\n",
        "    msg = \"%s: %f (%f)\" % (name, cv_results.mean(), cv_results.std())\n",
        "    print(msg)\n",
        "  return names, results\n",
        "## \n",
        "class PlotBoxR(object):\n",
        "    \n",
        "    \n",
        "    def __Trace(self,nameOfFeature,value): \n",
        "    \n",
        "        trace = go.Box(\n",
        "            y=value,\n",
        "            name = nameOfFeature,\n",
        "            marker = dict(\n",
        "                color = 'rgb(0, 128, 128)',\n",
        "            )\n",
        "        )\n",
        "        return trace\n",
        "\n",
        "    def PlotResult(self,names,results):\n",
        "        data = []\n",
        "\n",
        "        for i in range(len(names)):\n",
        "            data.append(self.__Trace(names[i],results[i]))\n",
        "        py.iplot(data)\n"
      ],
      "metadata": {
        "id": "VgJOAgUzh3Xu"
      },
      "execution_count": null,
      "outputs": []
    },
    {
      "cell_type": "code",
      "source": [
        "models = GetBasedModel()\n",
        "names,results = BasedLine2(X_train, y_train, models)"
      ],
      "metadata": {
        "colab": {
          "base_uri": "https://localhost:8080/"
        },
        "id": "_Tz0IbXJkCTG",
        "outputId": "0a2d388c-2134-4158-9b1b-e885748c049d"
      },
      "execution_count": null,
      "outputs": [
        {
          "output_type": "stream",
          "name": "stdout",
          "text": [
            "LR: 0.619710 (0.079893)\n",
            "LDA: 0.615716 (0.071808)\n",
            "KNN: 0.499165 (0.060714)\n",
            "CART: 0.546556 (0.048436)\n",
            "NB: 0.597497 (0.077546)\n",
            "SVM: 0.540003 (0.056839)\n",
            "AB: 0.590460 (0.090328)\n",
            "GBM: 0.663437 (0.092949)\n",
            "RF: 0.644203 (0.099826)\n",
            "ET: 0.636063 (0.081284)\n"
          ]
        }
      ]
    },
    {
      "cell_type": "code",
      "source": [
        "models = GetScaledModel('standard')\n",
        "names,results = BasedLine2(X_train, y_train, models)\n",
        "PlotBoxR().PlotResult(names, results)"
      ],
      "metadata": {
        "colab": {
          "base_uri": "https://localhost:8080/",
          "height": 730
        },
        "id": "sGME6ytshux8",
        "outputId": "73857092-e3ce-4b42-a892-07067b2ab29f"
      },
      "execution_count": null,
      "outputs": [
        {
          "output_type": "stream",
          "name": "stdout",
          "text": [
            "standard_LR: 0.653767 (0.037981)\n",
            "standard_LDA: 0.659287 (0.040010)\n",
            "standard_KNN: 0.570108 (0.047447)\n",
            "standard_CART: 0.541393 (0.033225)\n",
            "standard_NB: 0.527949 (0.042042)\n",
            "standard_SVM: 0.640819 (0.027782)\n",
            "standard_AB: 0.644553 (0.035426)\n",
            "standard_GBM: 0.678633 (0.034595)\n",
            "standard_RF: 0.652321 (0.043223)\n",
            "standard_ET: 0.652246 (0.033494)\n"
          ]
        },
        {
          "output_type": "display_data",
          "data": {
            "application/vnd.plotly.v1+json": {
              "data": [
                {
                  "marker": {
                    "color": "rgb(0, 128, 128)"
                  },
                  "name": "standard_LR",
                  "y": [
                    0.6593871866295264,
                    0.6739832869080781,
                    0.7039106145251396,
                    0.6546368715083799,
                    0.625586592178771,
                    0.6836871508379889,
                    0.6700558659217877,
                    0.6643575418994413,
                    0.6448603351955307,
                    0.5572067039106146
                  ],
                  "type": "box"
                },
                {
                  "marker": {
                    "color": "rgb(0, 128, 128)"
                  },
                  "name": "standard_LDA",
                  "y": [
                    0.6823398328690808,
                    0.7084122562674094,
                    0.7264245810055866,
                    0.6515083798882682,
                    0.6284916201117319,
                    0.665195530726257,
                    0.6565921787709498,
                    0.6414525139664805,
                    0.6579329608938548,
                    0.5745251396648045
                  ],
                  "type": "box"
                },
                {
                  "marker": {
                    "color": "rgb(0, 128, 128)"
                  },
                  "name": "standard_KNN",
                  "y": [
                    0.6040111420612814,
                    0.6278551532033427,
                    0.6039664804469274,
                    0.6331843575418994,
                    0.4829329608938548,
                    0.5514245810055866,
                    0.596927374301676,
                    0.5455027932960893,
                    0.5242458100558659,
                    0.5310335195530727
                  ],
                  "type": "box"
                },
                {
                  "marker": {
                    "color": "rgb(0, 128, 128)"
                  },
                  "name": "standard_CART",
                  "y": [
                    0.5573259052924792,
                    0.5173259052924791,
                    0.5911173184357543,
                    0.5415642458100559,
                    0.5441340782122904,
                    0.5255307262569832,
                    0.6073743016759776,
                    0.5029608938547487,
                    0.5189944134078213,
                    0.5075977653631284
                  ],
                  "type": "box"
                },
                {
                  "marker": {
                    "color": "rgb(0, 128, 128)"
                  },
                  "name": "standard_NB",
                  "y": [
                    0.5247353760445682,
                    0.5091364902506964,
                    0.5022905027932961,
                    0.5750558659217877,
                    0.6298324022346369,
                    0.4900837988826815,
                    0.4994413407821229,
                    0.5313966480446927,
                    0.5317597765363129,
                    0.4857541899441341
                  ],
                  "type": "box"
                },
                {
                  "marker": {
                    "color": "rgb(0, 128, 128)"
                  },
                  "name": "standard_SVM",
                  "y": [
                    0.6411142061281336,
                    0.6476880222841226,
                    0.6579888268156424,
                    0.6797206703910614,
                    0.6154189944134079,
                    0.6827932960893854,
                    0.6174301675977654,
                    0.6404469273743016,
                    0.638659217877095,
                    0.5869273743016761
                  ],
                  "type": "box"
                },
                {
                  "marker": {
                    "color": "rgb(0, 128, 128)"
                  },
                  "name": "standard_AB",
                  "y": [
                    0.6984958217270195,
                    0.6214206128133706,
                    0.6885474860335196,
                    0.6304469273743016,
                    0.6565921787709498,
                    0.6007541899441341,
                    0.6931284916201117,
                    0.6237430167597765,
                    0.6321229050279329,
                    0.6002793296089386
                  ],
                  "type": "box"
                },
                {
                  "marker": {
                    "color": "rgb(0, 128, 128)"
                  },
                  "name": "standard_GBM",
                  "y": [
                    0.7378272980501394,
                    0.6966573816155989,
                    0.7241340782122905,
                    0.699608938547486,
                    0.6732960893854749,
                    0.6496648044692738,
                    0.6816759776536312,
                    0.6598324022346369,
                    0.6291061452513966,
                    0.6345251396648044
                  ],
                  "type": "box"
                },
                {
                  "marker": {
                    "color": "rgb(0, 128, 128)"
                  },
                  "name": "standard_RF",
                  "y": [
                    0.6351810584958217,
                    0.6672980501392757,
                    0.7196648044692738,
                    0.7005307262569831,
                    0.6909776536312849,
                    0.59231843575419,
                    0.6478491620111732,
                    0.6603351955307262,
                    0.6324301675977653,
                    0.5766201117318436
                  ],
                  "type": "box"
                },
                {
                  "marker": {
                    "color": "rgb(0, 128, 128)"
                  },
                  "name": "standard_ET",
                  "y": [
                    0.6601392757660167,
                    0.6675487465181058,
                    0.6650279329608938,
                    0.7249162011173185,
                    0.6817877094972067,
                    0.6422905027932961,
                    0.6342458100558659,
                    0.6163966480446927,
                    0.6231284916201116,
                    0.6069832402234636
                  ],
                  "type": "box"
                }
              ],
              "layout": {
                "template": {
                  "data": {
                    "barpolar": [
                      {
                        "marker": {
                          "line": {
                            "color": "#E5ECF6",
                            "width": 0.5
                          },
                          "pattern": {
                            "fillmode": "overlay",
                            "size": 10,
                            "solidity": 0.2
                          }
                        },
                        "type": "barpolar"
                      }
                    ],
                    "bar": [
                      {
                        "error_x": {
                          "color": "#2a3f5f"
                        },
                        "error_y": {
                          "color": "#2a3f5f"
                        },
                        "marker": {
                          "line": {
                            "color": "#E5ECF6",
                            "width": 0.5
                          },
                          "pattern": {
                            "fillmode": "overlay",
                            "size": 10,
                            "solidity": 0.2
                          }
                        },
                        "type": "bar"
                      }
                    ],
                    "carpet": [
                      {
                        "aaxis": {
                          "endlinecolor": "#2a3f5f",
                          "gridcolor": "white",
                          "linecolor": "white",
                          "minorgridcolor": "white",
                          "startlinecolor": "#2a3f5f"
                        },
                        "baxis": {
                          "endlinecolor": "#2a3f5f",
                          "gridcolor": "white",
                          "linecolor": "white",
                          "minorgridcolor": "white",
                          "startlinecolor": "#2a3f5f"
                        },
                        "type": "carpet"
                      }
                    ],
                    "choropleth": [
                      {
                        "colorbar": {
                          "outlinewidth": 0,
                          "ticks": ""
                        },
                        "type": "choropleth"
                      }
                    ],
                    "contourcarpet": [
                      {
                        "colorbar": {
                          "outlinewidth": 0,
                          "ticks": ""
                        },
                        "type": "contourcarpet"
                      }
                    ],
                    "contour": [
                      {
                        "colorbar": {
                          "outlinewidth": 0,
                          "ticks": ""
                        },
                        "colorscale": [
                          [
                            0,
                            "#0d0887"
                          ],
                          [
                            0.1111111111111111,
                            "#46039f"
                          ],
                          [
                            0.2222222222222222,
                            "#7201a8"
                          ],
                          [
                            0.3333333333333333,
                            "#9c179e"
                          ],
                          [
                            0.4444444444444444,
                            "#bd3786"
                          ],
                          [
                            0.5555555555555556,
                            "#d8576b"
                          ],
                          [
                            0.6666666666666666,
                            "#ed7953"
                          ],
                          [
                            0.7777777777777778,
                            "#fb9f3a"
                          ],
                          [
                            0.8888888888888888,
                            "#fdca26"
                          ],
                          [
                            1,
                            "#f0f921"
                          ]
                        ],
                        "type": "contour"
                      }
                    ],
                    "heatmapgl": [
                      {
                        "colorbar": {
                          "outlinewidth": 0,
                          "ticks": ""
                        },
                        "colorscale": [
                          [
                            0,
                            "#0d0887"
                          ],
                          [
                            0.1111111111111111,
                            "#46039f"
                          ],
                          [
                            0.2222222222222222,
                            "#7201a8"
                          ],
                          [
                            0.3333333333333333,
                            "#9c179e"
                          ],
                          [
                            0.4444444444444444,
                            "#bd3786"
                          ],
                          [
                            0.5555555555555556,
                            "#d8576b"
                          ],
                          [
                            0.6666666666666666,
                            "#ed7953"
                          ],
                          [
                            0.7777777777777778,
                            "#fb9f3a"
                          ],
                          [
                            0.8888888888888888,
                            "#fdca26"
                          ],
                          [
                            1,
                            "#f0f921"
                          ]
                        ],
                        "type": "heatmapgl"
                      }
                    ],
                    "heatmap": [
                      {
                        "colorbar": {
                          "outlinewidth": 0,
                          "ticks": ""
                        },
                        "colorscale": [
                          [
                            0,
                            "#0d0887"
                          ],
                          [
                            0.1111111111111111,
                            "#46039f"
                          ],
                          [
                            0.2222222222222222,
                            "#7201a8"
                          ],
                          [
                            0.3333333333333333,
                            "#9c179e"
                          ],
                          [
                            0.4444444444444444,
                            "#bd3786"
                          ],
                          [
                            0.5555555555555556,
                            "#d8576b"
                          ],
                          [
                            0.6666666666666666,
                            "#ed7953"
                          ],
                          [
                            0.7777777777777778,
                            "#fb9f3a"
                          ],
                          [
                            0.8888888888888888,
                            "#fdca26"
                          ],
                          [
                            1,
                            "#f0f921"
                          ]
                        ],
                        "type": "heatmap"
                      }
                    ],
                    "histogram2dcontour": [
                      {
                        "colorbar": {
                          "outlinewidth": 0,
                          "ticks": ""
                        },
                        "colorscale": [
                          [
                            0,
                            "#0d0887"
                          ],
                          [
                            0.1111111111111111,
                            "#46039f"
                          ],
                          [
                            0.2222222222222222,
                            "#7201a8"
                          ],
                          [
                            0.3333333333333333,
                            "#9c179e"
                          ],
                          [
                            0.4444444444444444,
                            "#bd3786"
                          ],
                          [
                            0.5555555555555556,
                            "#d8576b"
                          ],
                          [
                            0.6666666666666666,
                            "#ed7953"
                          ],
                          [
                            0.7777777777777778,
                            "#fb9f3a"
                          ],
                          [
                            0.8888888888888888,
                            "#fdca26"
                          ],
                          [
                            1,
                            "#f0f921"
                          ]
                        ],
                        "type": "histogram2dcontour"
                      }
                    ],
                    "histogram2d": [
                      {
                        "colorbar": {
                          "outlinewidth": 0,
                          "ticks": ""
                        },
                        "colorscale": [
                          [
                            0,
                            "#0d0887"
                          ],
                          [
                            0.1111111111111111,
                            "#46039f"
                          ],
                          [
                            0.2222222222222222,
                            "#7201a8"
                          ],
                          [
                            0.3333333333333333,
                            "#9c179e"
                          ],
                          [
                            0.4444444444444444,
                            "#bd3786"
                          ],
                          [
                            0.5555555555555556,
                            "#d8576b"
                          ],
                          [
                            0.6666666666666666,
                            "#ed7953"
                          ],
                          [
                            0.7777777777777778,
                            "#fb9f3a"
                          ],
                          [
                            0.8888888888888888,
                            "#fdca26"
                          ],
                          [
                            1,
                            "#f0f921"
                          ]
                        ],
                        "type": "histogram2d"
                      }
                    ],
                    "histogram": [
                      {
                        "marker": {
                          "pattern": {
                            "fillmode": "overlay",
                            "size": 10,
                            "solidity": 0.2
                          }
                        },
                        "type": "histogram"
                      }
                    ],
                    "mesh3d": [
                      {
                        "colorbar": {
                          "outlinewidth": 0,
                          "ticks": ""
                        },
                        "type": "mesh3d"
                      }
                    ],
                    "parcoords": [
                      {
                        "line": {
                          "colorbar": {
                            "outlinewidth": 0,
                            "ticks": ""
                          }
                        },
                        "type": "parcoords"
                      }
                    ],
                    "pie": [
                      {
                        "automargin": true,
                        "type": "pie"
                      }
                    ],
                    "scatter3d": [
                      {
                        "line": {
                          "colorbar": {
                            "outlinewidth": 0,
                            "ticks": ""
                          }
                        },
                        "marker": {
                          "colorbar": {
                            "outlinewidth": 0,
                            "ticks": ""
                          }
                        },
                        "type": "scatter3d"
                      }
                    ],
                    "scattercarpet": [
                      {
                        "marker": {
                          "colorbar": {
                            "outlinewidth": 0,
                            "ticks": ""
                          }
                        },
                        "type": "scattercarpet"
                      }
                    ],
                    "scattergeo": [
                      {
                        "marker": {
                          "colorbar": {
                            "outlinewidth": 0,
                            "ticks": ""
                          }
                        },
                        "type": "scattergeo"
                      }
                    ],
                    "scattergl": [
                      {
                        "marker": {
                          "colorbar": {
                            "outlinewidth": 0,
                            "ticks": ""
                          }
                        },
                        "type": "scattergl"
                      }
                    ],
                    "scattermapbox": [
                      {
                        "marker": {
                          "colorbar": {
                            "outlinewidth": 0,
                            "ticks": ""
                          }
                        },
                        "type": "scattermapbox"
                      }
                    ],
                    "scatterpolargl": [
                      {
                        "marker": {
                          "colorbar": {
                            "outlinewidth": 0,
                            "ticks": ""
                          }
                        },
                        "type": "scatterpolargl"
                      }
                    ],
                    "scatterpolar": [
                      {
                        "marker": {
                          "colorbar": {
                            "outlinewidth": 0,
                            "ticks": ""
                          }
                        },
                        "type": "scatterpolar"
                      }
                    ],
                    "scatter": [
                      {
                        "fillpattern": {
                          "fillmode": "overlay",
                          "size": 10,
                          "solidity": 0.2
                        },
                        "type": "scatter"
                      }
                    ],
                    "scatterternary": [
                      {
                        "marker": {
                          "colorbar": {
                            "outlinewidth": 0,
                            "ticks": ""
                          }
                        },
                        "type": "scatterternary"
                      }
                    ],
                    "surface": [
                      {
                        "colorbar": {
                          "outlinewidth": 0,
                          "ticks": ""
                        },
                        "colorscale": [
                          [
                            0,
                            "#0d0887"
                          ],
                          [
                            0.1111111111111111,
                            "#46039f"
                          ],
                          [
                            0.2222222222222222,
                            "#7201a8"
                          ],
                          [
                            0.3333333333333333,
                            "#9c179e"
                          ],
                          [
                            0.4444444444444444,
                            "#bd3786"
                          ],
                          [
                            0.5555555555555556,
                            "#d8576b"
                          ],
                          [
                            0.6666666666666666,
                            "#ed7953"
                          ],
                          [
                            0.7777777777777778,
                            "#fb9f3a"
                          ],
                          [
                            0.8888888888888888,
                            "#fdca26"
                          ],
                          [
                            1,
                            "#f0f921"
                          ]
                        ],
                        "type": "surface"
                      }
                    ],
                    "table": [
                      {
                        "cells": {
                          "fill": {
                            "color": "#EBF0F8"
                          },
                          "line": {
                            "color": "white"
                          }
                        },
                        "header": {
                          "fill": {
                            "color": "#C8D4E3"
                          },
                          "line": {
                            "color": "white"
                          }
                        },
                        "type": "table"
                      }
                    ]
                  },
                  "layout": {
                    "annotationdefaults": {
                      "arrowcolor": "#2a3f5f",
                      "arrowhead": 0,
                      "arrowwidth": 1
                    },
                    "autotypenumbers": "strict",
                    "coloraxis": {
                      "colorbar": {
                        "outlinewidth": 0,
                        "ticks": ""
                      }
                    },
                    "colorscale": {
                      "diverging": [
                        [
                          0,
                          "#8e0152"
                        ],
                        [
                          0.1,
                          "#c51b7d"
                        ],
                        [
                          0.2,
                          "#de77ae"
                        ],
                        [
                          0.3,
                          "#f1b6da"
                        ],
                        [
                          0.4,
                          "#fde0ef"
                        ],
                        [
                          0.5,
                          "#f7f7f7"
                        ],
                        [
                          0.6,
                          "#e6f5d0"
                        ],
                        [
                          0.7,
                          "#b8e186"
                        ],
                        [
                          0.8,
                          "#7fbc41"
                        ],
                        [
                          0.9,
                          "#4d9221"
                        ],
                        [
                          1,
                          "#276419"
                        ]
                      ],
                      "sequential": [
                        [
                          0,
                          "#0d0887"
                        ],
                        [
                          0.1111111111111111,
                          "#46039f"
                        ],
                        [
                          0.2222222222222222,
                          "#7201a8"
                        ],
                        [
                          0.3333333333333333,
                          "#9c179e"
                        ],
                        [
                          0.4444444444444444,
                          "#bd3786"
                        ],
                        [
                          0.5555555555555556,
                          "#d8576b"
                        ],
                        [
                          0.6666666666666666,
                          "#ed7953"
                        ],
                        [
                          0.7777777777777778,
                          "#fb9f3a"
                        ],
                        [
                          0.8888888888888888,
                          "#fdca26"
                        ],
                        [
                          1,
                          "#f0f921"
                        ]
                      ],
                      "sequentialminus": [
                        [
                          0,
                          "#0d0887"
                        ],
                        [
                          0.1111111111111111,
                          "#46039f"
                        ],
                        [
                          0.2222222222222222,
                          "#7201a8"
                        ],
                        [
                          0.3333333333333333,
                          "#9c179e"
                        ],
                        [
                          0.4444444444444444,
                          "#bd3786"
                        ],
                        [
                          0.5555555555555556,
                          "#d8576b"
                        ],
                        [
                          0.6666666666666666,
                          "#ed7953"
                        ],
                        [
                          0.7777777777777778,
                          "#fb9f3a"
                        ],
                        [
                          0.8888888888888888,
                          "#fdca26"
                        ],
                        [
                          1,
                          "#f0f921"
                        ]
                      ]
                    },
                    "colorway": [
                      "#636efa",
                      "#EF553B",
                      "#00cc96",
                      "#ab63fa",
                      "#FFA15A",
                      "#19d3f3",
                      "#FF6692",
                      "#B6E880",
                      "#FF97FF",
                      "#FECB52"
                    ],
                    "font": {
                      "color": "#2a3f5f"
                    },
                    "geo": {
                      "bgcolor": "white",
                      "lakecolor": "white",
                      "landcolor": "#E5ECF6",
                      "showlakes": true,
                      "showland": true,
                      "subunitcolor": "white"
                    },
                    "hoverlabel": {
                      "align": "left"
                    },
                    "hovermode": "closest",
                    "mapbox": {
                      "style": "light"
                    },
                    "paper_bgcolor": "white",
                    "plot_bgcolor": "#E5ECF6",
                    "polar": {
                      "angularaxis": {
                        "gridcolor": "white",
                        "linecolor": "white",
                        "ticks": ""
                      },
                      "bgcolor": "#E5ECF6",
                      "radialaxis": {
                        "gridcolor": "white",
                        "linecolor": "white",
                        "ticks": ""
                      }
                    },
                    "scene": {
                      "xaxis": {
                        "backgroundcolor": "#E5ECF6",
                        "gridcolor": "white",
                        "gridwidth": 2,
                        "linecolor": "white",
                        "showbackground": true,
                        "ticks": "",
                        "zerolinecolor": "white"
                      },
                      "yaxis": {
                        "backgroundcolor": "#E5ECF6",
                        "gridcolor": "white",
                        "gridwidth": 2,
                        "linecolor": "white",
                        "showbackground": true,
                        "ticks": "",
                        "zerolinecolor": "white"
                      },
                      "zaxis": {
                        "backgroundcolor": "#E5ECF6",
                        "gridcolor": "white",
                        "gridwidth": 2,
                        "linecolor": "white",
                        "showbackground": true,
                        "ticks": "",
                        "zerolinecolor": "white"
                      }
                    },
                    "shapedefaults": {
                      "line": {
                        "color": "#2a3f5f"
                      }
                    },
                    "ternary": {
                      "aaxis": {
                        "gridcolor": "white",
                        "linecolor": "white",
                        "ticks": ""
                      },
                      "baxis": {
                        "gridcolor": "white",
                        "linecolor": "white",
                        "ticks": ""
                      },
                      "bgcolor": "#E5ECF6",
                      "caxis": {
                        "gridcolor": "white",
                        "linecolor": "white",
                        "ticks": ""
                      }
                    },
                    "title": {
                      "x": 0.05
                    },
                    "xaxis": {
                      "automargin": true,
                      "gridcolor": "white",
                      "linecolor": "white",
                      "ticks": "",
                      "title": {
                        "standoff": 15
                      },
                      "zerolinecolor": "white",
                      "zerolinewidth": 2
                    },
                    "yaxis": {
                      "automargin": true,
                      "gridcolor": "white",
                      "linecolor": "white",
                      "ticks": "",
                      "title": {
                        "standoff": 15
                      },
                      "zerolinecolor": "white",
                      "zerolinewidth": 2
                    }
                  }
                }
              },
              "config": {
                "showLink": false,
                "linkText": "Export to plot.ly",
                "plotlyServerURL": "https://plot.ly"
              }
            },
            "text/html": [
              "<div>                            <div id=\"2a044519-032c-4ed6-ab9c-fa64886970c6\" class=\"plotly-graph-div\" style=\"height:525px; width:100%;\"></div>            <script type=\"text/javascript\">                require([\"plotly\"], function(Plotly) {                    window.PLOTLYENV=window.PLOTLYENV || {};                                    if (document.getElementById(\"2a044519-032c-4ed6-ab9c-fa64886970c6\")) {                    Plotly.newPlot(                        \"2a044519-032c-4ed6-ab9c-fa64886970c6\",                        [{\"marker\":{\"color\":\"rgb(0, 128, 128)\"},\"name\":\"standard_LR\",\"y\":[0.6593871866295264,0.6739832869080781,0.7039106145251396,0.6546368715083799,0.625586592178771,0.6836871508379889,0.6700558659217877,0.6643575418994413,0.6448603351955307,0.5572067039106146],\"type\":\"box\"},{\"marker\":{\"color\":\"rgb(0, 128, 128)\"},\"name\":\"standard_LDA\",\"y\":[0.6823398328690808,0.7084122562674094,0.7264245810055866,0.6515083798882682,0.6284916201117319,0.665195530726257,0.6565921787709498,0.6414525139664805,0.6579329608938548,0.5745251396648045],\"type\":\"box\"},{\"marker\":{\"color\":\"rgb(0, 128, 128)\"},\"name\":\"standard_KNN\",\"y\":[0.6040111420612814,0.6278551532033427,0.6039664804469274,0.6331843575418994,0.4829329608938548,0.5514245810055866,0.596927374301676,0.5455027932960893,0.5242458100558659,0.5310335195530727],\"type\":\"box\"},{\"marker\":{\"color\":\"rgb(0, 128, 128)\"},\"name\":\"standard_CART\",\"y\":[0.5573259052924792,0.5173259052924791,0.5911173184357543,0.5415642458100559,0.5441340782122904,0.5255307262569832,0.6073743016759776,0.5029608938547487,0.5189944134078213,0.5075977653631284],\"type\":\"box\"},{\"marker\":{\"color\":\"rgb(0, 128, 128)\"},\"name\":\"standard_NB\",\"y\":[0.5247353760445682,0.5091364902506964,0.5022905027932961,0.5750558659217877,0.6298324022346369,0.4900837988826815,0.4994413407821229,0.5313966480446927,0.5317597765363129,0.4857541899441341],\"type\":\"box\"},{\"marker\":{\"color\":\"rgb(0, 128, 128)\"},\"name\":\"standard_SVM\",\"y\":[0.6411142061281336,0.6476880222841226,0.6579888268156424,0.6797206703910614,0.6154189944134079,0.6827932960893854,0.6174301675977654,0.6404469273743016,0.638659217877095,0.5869273743016761],\"type\":\"box\"},{\"marker\":{\"color\":\"rgb(0, 128, 128)\"},\"name\":\"standard_AB\",\"y\":[0.6984958217270195,0.6214206128133706,0.6885474860335196,0.6304469273743016,0.6565921787709498,0.6007541899441341,0.6931284916201117,0.6237430167597765,0.6321229050279329,0.6002793296089386],\"type\":\"box\"},{\"marker\":{\"color\":\"rgb(0, 128, 128)\"},\"name\":\"standard_GBM\",\"y\":[0.7378272980501394,0.6966573816155989,0.7241340782122905,0.699608938547486,0.6732960893854749,0.6496648044692738,0.6816759776536312,0.6598324022346369,0.6291061452513966,0.6345251396648044],\"type\":\"box\"},{\"marker\":{\"color\":\"rgb(0, 128, 128)\"},\"name\":\"standard_RF\",\"y\":[0.6351810584958217,0.6672980501392757,0.7196648044692738,0.7005307262569831,0.6909776536312849,0.59231843575419,0.6478491620111732,0.6603351955307262,0.6324301675977653,0.5766201117318436],\"type\":\"box\"},{\"marker\":{\"color\":\"rgb(0, 128, 128)\"},\"name\":\"standard_ET\",\"y\":[0.6601392757660167,0.6675487465181058,0.6650279329608938,0.7249162011173185,0.6817877094972067,0.6422905027932961,0.6342458100558659,0.6163966480446927,0.6231284916201116,0.6069832402234636],\"type\":\"box\"}],                        {\"template\":{\"data\":{\"barpolar\":[{\"marker\":{\"line\":{\"color\":\"#E5ECF6\",\"width\":0.5},\"pattern\":{\"fillmode\":\"overlay\",\"size\":10,\"solidity\":0.2}},\"type\":\"barpolar\"}],\"bar\":[{\"error_x\":{\"color\":\"#2a3f5f\"},\"error_y\":{\"color\":\"#2a3f5f\"},\"marker\":{\"line\":{\"color\":\"#E5ECF6\",\"width\":0.5},\"pattern\":{\"fillmode\":\"overlay\",\"size\":10,\"solidity\":0.2}},\"type\":\"bar\"}],\"carpet\":[{\"aaxis\":{\"endlinecolor\":\"#2a3f5f\",\"gridcolor\":\"white\",\"linecolor\":\"white\",\"minorgridcolor\":\"white\",\"startlinecolor\":\"#2a3f5f\"},\"baxis\":{\"endlinecolor\":\"#2a3f5f\",\"gridcolor\":\"white\",\"linecolor\":\"white\",\"minorgridcolor\":\"white\",\"startlinecolor\":\"#2a3f5f\"},\"type\":\"carpet\"}],\"choropleth\":[{\"colorbar\":{\"outlinewidth\":0,\"ticks\":\"\"},\"type\":\"choropleth\"}],\"contourcarpet\":[{\"colorbar\":{\"outlinewidth\":0,\"ticks\":\"\"},\"type\":\"contourcarpet\"}],\"contour\":[{\"colorbar\":{\"outlinewidth\":0,\"ticks\":\"\"},\"colorscale\":[[0.0,\"#0d0887\"],[0.1111111111111111,\"#46039f\"],[0.2222222222222222,\"#7201a8\"],[0.3333333333333333,\"#9c179e\"],[0.4444444444444444,\"#bd3786\"],[0.5555555555555556,\"#d8576b\"],[0.6666666666666666,\"#ed7953\"],[0.7777777777777778,\"#fb9f3a\"],[0.8888888888888888,\"#fdca26\"],[1.0,\"#f0f921\"]],\"type\":\"contour\"}],\"heatmapgl\":[{\"colorbar\":{\"outlinewidth\":0,\"ticks\":\"\"},\"colorscale\":[[0.0,\"#0d0887\"],[0.1111111111111111,\"#46039f\"],[0.2222222222222222,\"#7201a8\"],[0.3333333333333333,\"#9c179e\"],[0.4444444444444444,\"#bd3786\"],[0.5555555555555556,\"#d8576b\"],[0.6666666666666666,\"#ed7953\"],[0.7777777777777778,\"#fb9f3a\"],[0.8888888888888888,\"#fdca26\"],[1.0,\"#f0f921\"]],\"type\":\"heatmapgl\"}],\"heatmap\":[{\"colorbar\":{\"outlinewidth\":0,\"ticks\":\"\"},\"colorscale\":[[0.0,\"#0d0887\"],[0.1111111111111111,\"#46039f\"],[0.2222222222222222,\"#7201a8\"],[0.3333333333333333,\"#9c179e\"],[0.4444444444444444,\"#bd3786\"],[0.5555555555555556,\"#d8576b\"],[0.6666666666666666,\"#ed7953\"],[0.7777777777777778,\"#fb9f3a\"],[0.8888888888888888,\"#fdca26\"],[1.0,\"#f0f921\"]],\"type\":\"heatmap\"}],\"histogram2dcontour\":[{\"colorbar\":{\"outlinewidth\":0,\"ticks\":\"\"},\"colorscale\":[[0.0,\"#0d0887\"],[0.1111111111111111,\"#46039f\"],[0.2222222222222222,\"#7201a8\"],[0.3333333333333333,\"#9c179e\"],[0.4444444444444444,\"#bd3786\"],[0.5555555555555556,\"#d8576b\"],[0.6666666666666666,\"#ed7953\"],[0.7777777777777778,\"#fb9f3a\"],[0.8888888888888888,\"#fdca26\"],[1.0,\"#f0f921\"]],\"type\":\"histogram2dcontour\"}],\"histogram2d\":[{\"colorbar\":{\"outlinewidth\":0,\"ticks\":\"\"},\"colorscale\":[[0.0,\"#0d0887\"],[0.1111111111111111,\"#46039f\"],[0.2222222222222222,\"#7201a8\"],[0.3333333333333333,\"#9c179e\"],[0.4444444444444444,\"#bd3786\"],[0.5555555555555556,\"#d8576b\"],[0.6666666666666666,\"#ed7953\"],[0.7777777777777778,\"#fb9f3a\"],[0.8888888888888888,\"#fdca26\"],[1.0,\"#f0f921\"]],\"type\":\"histogram2d\"}],\"histogram\":[{\"marker\":{\"pattern\":{\"fillmode\":\"overlay\",\"size\":10,\"solidity\":0.2}},\"type\":\"histogram\"}],\"mesh3d\":[{\"colorbar\":{\"outlinewidth\":0,\"ticks\":\"\"},\"type\":\"mesh3d\"}],\"parcoords\":[{\"line\":{\"colorbar\":{\"outlinewidth\":0,\"ticks\":\"\"}},\"type\":\"parcoords\"}],\"pie\":[{\"automargin\":true,\"type\":\"pie\"}],\"scatter3d\":[{\"line\":{\"colorbar\":{\"outlinewidth\":0,\"ticks\":\"\"}},\"marker\":{\"colorbar\":{\"outlinewidth\":0,\"ticks\":\"\"}},\"type\":\"scatter3d\"}],\"scattercarpet\":[{\"marker\":{\"colorbar\":{\"outlinewidth\":0,\"ticks\":\"\"}},\"type\":\"scattercarpet\"}],\"scattergeo\":[{\"marker\":{\"colorbar\":{\"outlinewidth\":0,\"ticks\":\"\"}},\"type\":\"scattergeo\"}],\"scattergl\":[{\"marker\":{\"colorbar\":{\"outlinewidth\":0,\"ticks\":\"\"}},\"type\":\"scattergl\"}],\"scattermapbox\":[{\"marker\":{\"colorbar\":{\"outlinewidth\":0,\"ticks\":\"\"}},\"type\":\"scattermapbox\"}],\"scatterpolargl\":[{\"marker\":{\"colorbar\":{\"outlinewidth\":0,\"ticks\":\"\"}},\"type\":\"scatterpolargl\"}],\"scatterpolar\":[{\"marker\":{\"colorbar\":{\"outlinewidth\":0,\"ticks\":\"\"}},\"type\":\"scatterpolar\"}],\"scatter\":[{\"fillpattern\":{\"fillmode\":\"overlay\",\"size\":10,\"solidity\":0.2},\"type\":\"scatter\"}],\"scatterternary\":[{\"marker\":{\"colorbar\":{\"outlinewidth\":0,\"ticks\":\"\"}},\"type\":\"scatterternary\"}],\"surface\":[{\"colorbar\":{\"outlinewidth\":0,\"ticks\":\"\"},\"colorscale\":[[0.0,\"#0d0887\"],[0.1111111111111111,\"#46039f\"],[0.2222222222222222,\"#7201a8\"],[0.3333333333333333,\"#9c179e\"],[0.4444444444444444,\"#bd3786\"],[0.5555555555555556,\"#d8576b\"],[0.6666666666666666,\"#ed7953\"],[0.7777777777777778,\"#fb9f3a\"],[0.8888888888888888,\"#fdca26\"],[1.0,\"#f0f921\"]],\"type\":\"surface\"}],\"table\":[{\"cells\":{\"fill\":{\"color\":\"#EBF0F8\"},\"line\":{\"color\":\"white\"}},\"header\":{\"fill\":{\"color\":\"#C8D4E3\"},\"line\":{\"color\":\"white\"}},\"type\":\"table\"}]},\"layout\":{\"annotationdefaults\":{\"arrowcolor\":\"#2a3f5f\",\"arrowhead\":0,\"arrowwidth\":1},\"autotypenumbers\":\"strict\",\"coloraxis\":{\"colorbar\":{\"outlinewidth\":0,\"ticks\":\"\"}},\"colorscale\":{\"diverging\":[[0,\"#8e0152\"],[0.1,\"#c51b7d\"],[0.2,\"#de77ae\"],[0.3,\"#f1b6da\"],[0.4,\"#fde0ef\"],[0.5,\"#f7f7f7\"],[0.6,\"#e6f5d0\"],[0.7,\"#b8e186\"],[0.8,\"#7fbc41\"],[0.9,\"#4d9221\"],[1,\"#276419\"]],\"sequential\":[[0.0,\"#0d0887\"],[0.1111111111111111,\"#46039f\"],[0.2222222222222222,\"#7201a8\"],[0.3333333333333333,\"#9c179e\"],[0.4444444444444444,\"#bd3786\"],[0.5555555555555556,\"#d8576b\"],[0.6666666666666666,\"#ed7953\"],[0.7777777777777778,\"#fb9f3a\"],[0.8888888888888888,\"#fdca26\"],[1.0,\"#f0f921\"]],\"sequentialminus\":[[0.0,\"#0d0887\"],[0.1111111111111111,\"#46039f\"],[0.2222222222222222,\"#7201a8\"],[0.3333333333333333,\"#9c179e\"],[0.4444444444444444,\"#bd3786\"],[0.5555555555555556,\"#d8576b\"],[0.6666666666666666,\"#ed7953\"],[0.7777777777777778,\"#fb9f3a\"],[0.8888888888888888,\"#fdca26\"],[1.0,\"#f0f921\"]]},\"colorway\":[\"#636efa\",\"#EF553B\",\"#00cc96\",\"#ab63fa\",\"#FFA15A\",\"#19d3f3\",\"#FF6692\",\"#B6E880\",\"#FF97FF\",\"#FECB52\"],\"font\":{\"color\":\"#2a3f5f\"},\"geo\":{\"bgcolor\":\"white\",\"lakecolor\":\"white\",\"landcolor\":\"#E5ECF6\",\"showlakes\":true,\"showland\":true,\"subunitcolor\":\"white\"},\"hoverlabel\":{\"align\":\"left\"},\"hovermode\":\"closest\",\"mapbox\":{\"style\":\"light\"},\"paper_bgcolor\":\"white\",\"plot_bgcolor\":\"#E5ECF6\",\"polar\":{\"angularaxis\":{\"gridcolor\":\"white\",\"linecolor\":\"white\",\"ticks\":\"\"},\"bgcolor\":\"#E5ECF6\",\"radialaxis\":{\"gridcolor\":\"white\",\"linecolor\":\"white\",\"ticks\":\"\"}},\"scene\":{\"xaxis\":{\"backgroundcolor\":\"#E5ECF6\",\"gridcolor\":\"white\",\"gridwidth\":2,\"linecolor\":\"white\",\"showbackground\":true,\"ticks\":\"\",\"zerolinecolor\":\"white\"},\"yaxis\":{\"backgroundcolor\":\"#E5ECF6\",\"gridcolor\":\"white\",\"gridwidth\":2,\"linecolor\":\"white\",\"showbackground\":true,\"ticks\":\"\",\"zerolinecolor\":\"white\"},\"zaxis\":{\"backgroundcolor\":\"#E5ECF6\",\"gridcolor\":\"white\",\"gridwidth\":2,\"linecolor\":\"white\",\"showbackground\":true,\"ticks\":\"\",\"zerolinecolor\":\"white\"}},\"shapedefaults\":{\"line\":{\"color\":\"#2a3f5f\"}},\"ternary\":{\"aaxis\":{\"gridcolor\":\"white\",\"linecolor\":\"white\",\"ticks\":\"\"},\"baxis\":{\"gridcolor\":\"white\",\"linecolor\":\"white\",\"ticks\":\"\"},\"bgcolor\":\"#E5ECF6\",\"caxis\":{\"gridcolor\":\"white\",\"linecolor\":\"white\",\"ticks\":\"\"}},\"title\":{\"x\":0.05},\"xaxis\":{\"automargin\":true,\"gridcolor\":\"white\",\"linecolor\":\"white\",\"ticks\":\"\",\"title\":{\"standoff\":15},\"zerolinecolor\":\"white\",\"zerolinewidth\":2},\"yaxis\":{\"automargin\":true,\"gridcolor\":\"white\",\"linecolor\":\"white\",\"ticks\":\"\",\"title\":{\"standoff\":15},\"zerolinecolor\":\"white\",\"zerolinewidth\":2}}}},                        {\"responsive\": true}                    ).then(function(){\n",
              "                            \n",
              "var gd = document.getElementById('2a044519-032c-4ed6-ab9c-fa64886970c6');\n",
              "var x = new MutationObserver(function (mutations, observer) {{\n",
              "        var display = window.getComputedStyle(gd).display;\n",
              "        if (!display || display === 'none') {{\n",
              "            console.log([gd, 'removed!']);\n",
              "            Plotly.purge(gd);\n",
              "            observer.disconnect();\n",
              "        }}\n",
              "}});\n",
              "\n",
              "// Listen for the removal of the full notebook cells\n",
              "var notebookContainer = gd.closest('#notebook-container');\n",
              "if (notebookContainer) {{\n",
              "    x.observe(notebookContainer, {childList: true});\n",
              "}}\n",
              "\n",
              "// Listen for the clearing of the current output cell\n",
              "var outputEl = gd.closest('.output');\n",
              "if (outputEl) {{\n",
              "    x.observe(outputEl, {childList: true});\n",
              "}}\n",
              "\n",
              "                        })                };                });            </script>        </div>"
            ]
          },
          "metadata": {}
        }
      ]
    },
    {
      "cell_type": "code",
      "source": [
        "from sklearn.model_selection import GridSearchCV, RandomizedSearchCV\n",
        "from scipy.stats import uniform\n",
        "class RandomSearch(object):\n",
        "    \n",
        "    def __init__(self,X_train,y_train,model,hyperparameters):\n",
        "        \n",
        "        self.X_train = X_train\n",
        "        self.y_train = y_train\n",
        "        self.model = model\n",
        "        self.hyperparameters = hyperparameters\n",
        "        \n",
        "    def RandomSearch(self):\n",
        "        # Create randomized search 10-fold cross validation and 100 iterations\n",
        "        cv = 10\n",
        "        clf = RandomizedSearchCV(self.model,\n",
        "                                 self.hyperparameters,\n",
        "                                 random_state=1,\n",
        "                                 n_iter=100,\n",
        "                                 cv=cv,\n",
        "                                 verbose=0,\n",
        "                                 n_jobs=-1,\n",
        "                                 )\n",
        "        # Fit randomized search\n",
        "        best_model = clf.fit(self.X_train, self.y_train)\n",
        "        message = (best_model.best_score_, best_model.best_params_)\n",
        "        print(\"Best: %f using %s\" % (message))\n",
        "\n",
        "        return best_model,best_model.best_params_\n",
        "    \n",
        "    def BestModelPridict(self,X_test):\n",
        "        \n",
        "        best_model,_ = self.RandomSearch()\n",
        "        pred = best_model.predict(X_test)\n",
        "        return pred\n",
        "class GridSearch(object):\n",
        "    \n",
        "    def __init__(self,X_train,y_train,model,hyperparameters):\n",
        "        \n",
        "        self.X_train = X_train\n",
        "        self.y_train = y_train\n",
        "        self.model = model\n",
        "        self.hyperparameters = hyperparameters\n",
        "        \n",
        "    def GridSearch(self):\n",
        "        # Create randomized search 10-fold cross validation and 100 iterations\n",
        "        cv = 10\n",
        "        clf = GridSearchCV(self.model,\n",
        "                                 self.hyperparameters,\n",
        "                                 cv=cv,\n",
        "                                 verbose=0,\n",
        "                                 n_jobs=-1,\n",
        "                                 )\n",
        "        # Fit randomized search\n",
        "        best_model = clf.fit(self.X_train, self.y_train)\n",
        "        message = (best_model.best_score_, best_model.best_params_)\n",
        "        print(\"Best: %f using %s\" % (message))\n",
        "\n",
        "        return best_model,best_model.best_params_\n",
        "    \n",
        "    def BestModelPridict(self,X_test):\n",
        "        \n",
        "        best_model,_ = self.GridSearch()\n",
        "        pred = best_model.predict(X_test)\n",
        "        return pred"
      ],
      "metadata": {
        "id": "4LZ91LAMlHI9"
      },
      "execution_count": null,
      "outputs": []
    },
    {
      "cell_type": "code",
      "source": [
        "# Hyperparameters estimate by using gridsearch method\n",
        "### 1. LOGISTIC REGRESSION model\n",
        "model = LogisticRegression(solver='newton-cg', class_weight='balanced')\n",
        "# Create regularization penalty space\n",
        "penalty = ['l1', 'l2']\n",
        "# Create regularization hyperparameter distribution using uniform distribution\n",
        "C = uniform(loc=0, scale=4)\n",
        "# Create hyperparameter options\n",
        "solver = ['lbfgs',' newton_cg', 'liblinear', 'sag', 'saga']\n",
        "hyperparameters = dict(solver=solver, C=C, penalty=penalty)\n",
        "#\n",
        "LR_RandSearch = RandomSearch(X_train,y_train,model,hyperparameters)\n",
        "# LR_best_model,LR_best_params = LR_RandSearch.RandomSearch()\n",
        "Prediction_LR = LR_RandSearch.BestModelPridict(X_test)"
      ],
      "metadata": {
        "colab": {
          "base_uri": "https://localhost:8080/"
        },
        "id": "yMZjKAenlJEm",
        "outputId": "4a187863-508d-4a34-b055-a27a3b4d62dc"
      },
      "execution_count": null,
      "outputs": [
        {
          "output_type": "stream",
          "name": "stdout",
          "text": [
            "Best: 0.643301 using {'C': 3.730229437354635, 'penalty': 'l2'}\n"
          ]
        }
      ]
    }
  ]
}